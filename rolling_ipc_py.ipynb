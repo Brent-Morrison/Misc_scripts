{
  "nbformat": 4,
  "nbformat_minor": 0,
  "metadata": {
    "colab": {
      "name": "rolling_ipc_py.ipynb",
      "provenance": [],
      "collapsed_sections": [],
      "authorship_tag": "ABX9TyMyEVCOGD1HApToBepsrmXz",
      "include_colab_link": true
    },
    "kernelspec": {
      "name": "python3",
      "display_name": "Python 3"
    }
  },
  "cells": [
    {
      "cell_type": "markdown",
      "metadata": {
        "id": "view-in-github",
        "colab_type": "text"
      },
      "source": [
        "<a href=\"https://colab.research.google.com/github/Brent-Morrison/Misc_scripts/blob/master/rolling_ipc_py.ipynb\" target=\"_parent\"><img src=\"https://colab.research.google.com/assets/colab-badge.svg\" alt=\"Open In Colab\"/></a>"
      ]
    },
    {
      "cell_type": "markdown",
      "metadata": {
        "id": "Lbf541CKwigq"
      },
      "source": [
        "# Rolling portfolio correlations - Python   \r\n",
        "\r\n",
        "This short notebook will introduce a method to calculate rolling correlations of time series data using Python.  The intent is not to create a rolling pairwise correlation, but rather the average of each pairwise correlation of a group of time series.  Data is a group of stocks prices forming two portfolios.  \r\n",
        "\r\n",
        "This is a companion to the R implementation of the same functionality.\r\n",
        "\r\n",
        "Data will come from a csv saved in my github repository."
      ]
    },
    {
      "cell_type": "code",
      "metadata": {
        "id": "f_f8Z2AlMt7S"
      },
      "source": [
        "import pandas as pd\n",
        "import numpy as np \n",
        "import datetime\n",
        "import random"
      ],
      "execution_count": 1,
      "outputs": []
    },
    {
      "cell_type": "markdown",
      "metadata": {
        "id": "9BeKAJykx3P2"
      },
      "source": [
        "### The data \r\n",
        "\r\n",
        "Like the R version of this exercise, I am pulling some stock data from my github repository. "
      ]
    },
    {
      "cell_type": "code",
      "metadata": {
        "colab": {
          "base_uri": "https://localhost:8080/",
          "height": 202
        },
        "id": "jQ9KT66GyFay",
        "outputId": "0e1f9f46-dc54-4a23-fac4-3a8c963b98a5"
      },
      "source": [
        "csv = 'https://github.com/Brent-Morrison/Misc_scripts/raw/master/daily_price_ts_vw_20201018.csv'\r\n",
        "daily_price_ts_vw_20201018 = pd.read_csv(csv)\r\n",
        "\r\n",
        "daily_price_ts_vw_20201018.tail()"
      ],
      "execution_count": 2,
      "outputs": [
        {
          "output_type": "execute_result",
          "data": {
            "text/html": [
              "<div>\n",
              "<style scoped>\n",
              "    .dataframe tbody tr th:only-of-type {\n",
              "        vertical-align: middle;\n",
              "    }\n",
              "\n",
              "    .dataframe tbody tr th {\n",
              "        vertical-align: top;\n",
              "    }\n",
              "\n",
              "    .dataframe thead th {\n",
              "        text-align: right;\n",
              "    }\n",
              "</style>\n",
              "<table border=\"1\" class=\"dataframe\">\n",
              "  <thead>\n",
              "    <tr style=\"text-align: right;\">\n",
              "      <th></th>\n",
              "      <th>symbol</th>\n",
              "      <th>sector</th>\n",
              "      <th>date_stamp</th>\n",
              "      <th>close</th>\n",
              "      <th>adjusted_close</th>\n",
              "      <th>volume</th>\n",
              "      <th>sp500</th>\n",
              "    </tr>\n",
              "  </thead>\n",
              "  <tbody>\n",
              "    <tr>\n",
              "      <th>1751</th>\n",
              "      <td>AMD</td>\n",
              "      <td>2</td>\n",
              "      <td>2020-07-29</td>\n",
              "      <td>76.09</td>\n",
              "      <td>76.09</td>\n",
              "      <td>132969679.0</td>\n",
              "      <td>3258.439941</td>\n",
              "    </tr>\n",
              "    <tr>\n",
              "      <th>1752</th>\n",
              "      <td>AMD</td>\n",
              "      <td>2</td>\n",
              "      <td>2020-07-30</td>\n",
              "      <td>78.20</td>\n",
              "      <td>78.20</td>\n",
              "      <td>80286888.0</td>\n",
              "      <td>3246.219971</td>\n",
              "    </tr>\n",
              "    <tr>\n",
              "      <th>1753</th>\n",
              "      <td>AMD</td>\n",
              "      <td>2</td>\n",
              "      <td>2020-07-31</td>\n",
              "      <td>77.43</td>\n",
              "      <td>77.43</td>\n",
              "      <td>71699667.0</td>\n",
              "      <td>3271.120117</td>\n",
              "    </tr>\n",
              "    <tr>\n",
              "      <th>1754</th>\n",
              "      <td>AMD</td>\n",
              "      <td>2</td>\n",
              "      <td>2020-08-03</td>\n",
              "      <td>77.67</td>\n",
              "      <td>77.67</td>\n",
              "      <td>42628817.0</td>\n",
              "      <td>3294.610107</td>\n",
              "    </tr>\n",
              "    <tr>\n",
              "      <th>1755</th>\n",
              "      <td>AMD</td>\n",
              "      <td>2</td>\n",
              "      <td>2020-08-04</td>\n",
              "      <td>85.04</td>\n",
              "      <td>85.04</td>\n",
              "      <td>155676106.0</td>\n",
              "      <td>3306.510010</td>\n",
              "    </tr>\n",
              "  </tbody>\n",
              "</table>\n",
              "</div>"
            ],
            "text/plain": [
              "     symbol  sector  date_stamp  ...  adjusted_close       volume        sp500\n",
              "1751    AMD       2  2020-07-29  ...           76.09  132969679.0  3258.439941\n",
              "1752    AMD       2  2020-07-30  ...           78.20   80286888.0  3246.219971\n",
              "1753    AMD       2  2020-07-31  ...           77.43   71699667.0  3271.120117\n",
              "1754    AMD       2  2020-08-03  ...           77.67   42628817.0  3294.610107\n",
              "1755    AMD       2  2020-08-04  ...           85.04  155676106.0  3306.510010\n",
              "\n",
              "[5 rows x 7 columns]"
            ]
          },
          "metadata": {
            "tags": []
          },
          "execution_count": 2
        }
      ]
    },
    {
      "cell_type": "code",
      "metadata": {
        "colab": {
          "base_uri": "https://localhost:8080/",
          "height": 202
        },
        "id": "wI-H3m9VytV4",
        "outputId": "d79ef021-f440-4f08-f149-c1deb727cb1e"
      },
      "source": [
        "daily_price_ts_vw_20201018.head()"
      ],
      "execution_count": 3,
      "outputs": [
        {
          "output_type": "execute_result",
          "data": {
            "text/html": [
              "<div>\n",
              "<style scoped>\n",
              "    .dataframe tbody tr th:only-of-type {\n",
              "        vertical-align: middle;\n",
              "    }\n",
              "\n",
              "    .dataframe tbody tr th {\n",
              "        vertical-align: top;\n",
              "    }\n",
              "\n",
              "    .dataframe thead th {\n",
              "        text-align: right;\n",
              "    }\n",
              "</style>\n",
              "<table border=\"1\" class=\"dataframe\">\n",
              "  <thead>\n",
              "    <tr style=\"text-align: right;\">\n",
              "      <th></th>\n",
              "      <th>symbol</th>\n",
              "      <th>sector</th>\n",
              "      <th>date_stamp</th>\n",
              "      <th>close</th>\n",
              "      <th>adjusted_close</th>\n",
              "      <th>volume</th>\n",
              "      <th>sp500</th>\n",
              "    </tr>\n",
              "  </thead>\n",
              "  <tbody>\n",
              "    <tr>\n",
              "      <th>0</th>\n",
              "      <td>AAL</td>\n",
              "      <td>1</td>\n",
              "      <td>2020-01-02</td>\n",
              "      <td>29.09</td>\n",
              "      <td>28.9880</td>\n",
              "      <td>6275633.0</td>\n",
              "      <td>3257.850098</td>\n",
              "    </tr>\n",
              "    <tr>\n",
              "      <th>1</th>\n",
              "      <td>AAL</td>\n",
              "      <td>1</td>\n",
              "      <td>2020-01-03</td>\n",
              "      <td>27.65</td>\n",
              "      <td>27.5531</td>\n",
              "      <td>14020066.0</td>\n",
              "      <td>3234.850098</td>\n",
              "    </tr>\n",
              "    <tr>\n",
              "      <th>2</th>\n",
              "      <td>AAL</td>\n",
              "      <td>1</td>\n",
              "      <td>2020-01-06</td>\n",
              "      <td>27.32</td>\n",
              "      <td>27.2242</td>\n",
              "      <td>6108646.0</td>\n",
              "      <td>3246.280029</td>\n",
              "    </tr>\n",
              "    <tr>\n",
              "      <th>3</th>\n",
              "      <td>AAL</td>\n",
              "      <td>1</td>\n",
              "      <td>2020-01-07</td>\n",
              "      <td>27.22</td>\n",
              "      <td>27.1246</td>\n",
              "      <td>6197079.0</td>\n",
              "      <td>3237.179932</td>\n",
              "    </tr>\n",
              "    <tr>\n",
              "      <th>4</th>\n",
              "      <td>AAL</td>\n",
              "      <td>1</td>\n",
              "      <td>2020-01-08</td>\n",
              "      <td>27.84</td>\n",
              "      <td>27.7424</td>\n",
              "      <td>10497296.0</td>\n",
              "      <td>3253.050049</td>\n",
              "    </tr>\n",
              "  </tbody>\n",
              "</table>\n",
              "</div>"
            ],
            "text/plain": [
              "  symbol  sector  date_stamp  close  adjusted_close      volume        sp500\n",
              "0    AAL       1  2020-01-02  29.09         28.9880   6275633.0  3257.850098\n",
              "1    AAL       1  2020-01-03  27.65         27.5531  14020066.0  3234.850098\n",
              "2    AAL       1  2020-01-06  27.32         27.2242   6108646.0  3246.280029\n",
              "3    AAL       1  2020-01-07  27.22         27.1246   6197079.0  3237.179932\n",
              "4    AAL       1  2020-01-08  27.84         27.7424  10497296.0  3253.050049"
            ]
          },
          "metadata": {
            "tags": []
          },
          "execution_count": 3
        }
      ]
    },
    {
      "cell_type": "markdown",
      "metadata": {
        "id": "foh2sjIwy19T"
      },
      "source": [
        "# Averaging a correlation matrix  \r\n",
        "\r\n",
        "Construct a small data frame to serve as dummy data for development."
      ]
    },
    {
      "cell_type": "code",
      "metadata": {
        "id": "rT6_9M2DM1da",
        "colab": {
          "base_uri": "https://localhost:8080/"
        },
        "outputId": "3faf7921-b0c3-4409-d115-f237677606c9"
      },
      "source": [
        "mtrx = np.array([[1,2,3,4], [2,1,5,6], [3,5,1,7], [4,6,7,1]])\n",
        "mtrx"
      ],
      "execution_count": 4,
      "outputs": [
        {
          "output_type": "execute_result",
          "data": {
            "text/plain": [
              "array([[1, 2, 3, 4],\n",
              "       [2, 1, 5, 6],\n",
              "       [3, 5, 1, 7],\n",
              "       [4, 6, 7, 1]])"
            ]
          },
          "metadata": {
            "tags": []
          },
          "execution_count": 4
        }
      ]
    },
    {
      "cell_type": "code",
      "metadata": {
        "colab": {
          "base_uri": "https://localhost:8080/",
          "height": 172
        },
        "id": "c8nFaiRH1WFt",
        "outputId": "8495e032-f38b-4efa-8601-f6627b9941f8"
      },
      "source": [
        "# To data frame\r\n",
        "mtrx_df = pd.DataFrame(data=mtrx, columns=['Col1', 'Col2', 'Col3', 'Col4'])\r\n",
        "mtrx_df"
      ],
      "execution_count": 5,
      "outputs": [
        {
          "output_type": "execute_result",
          "data": {
            "text/html": [
              "<div>\n",
              "<style scoped>\n",
              "    .dataframe tbody tr th:only-of-type {\n",
              "        vertical-align: middle;\n",
              "    }\n",
              "\n",
              "    .dataframe tbody tr th {\n",
              "        vertical-align: top;\n",
              "    }\n",
              "\n",
              "    .dataframe thead th {\n",
              "        text-align: right;\n",
              "    }\n",
              "</style>\n",
              "<table border=\"1\" class=\"dataframe\">\n",
              "  <thead>\n",
              "    <tr style=\"text-align: right;\">\n",
              "      <th></th>\n",
              "      <th>Col1</th>\n",
              "      <th>Col2</th>\n",
              "      <th>Col3</th>\n",
              "      <th>Col4</th>\n",
              "    </tr>\n",
              "  </thead>\n",
              "  <tbody>\n",
              "    <tr>\n",
              "      <th>0</th>\n",
              "      <td>1</td>\n",
              "      <td>2</td>\n",
              "      <td>3</td>\n",
              "      <td>4</td>\n",
              "    </tr>\n",
              "    <tr>\n",
              "      <th>1</th>\n",
              "      <td>2</td>\n",
              "      <td>1</td>\n",
              "      <td>5</td>\n",
              "      <td>6</td>\n",
              "    </tr>\n",
              "    <tr>\n",
              "      <th>2</th>\n",
              "      <td>3</td>\n",
              "      <td>5</td>\n",
              "      <td>1</td>\n",
              "      <td>7</td>\n",
              "    </tr>\n",
              "    <tr>\n",
              "      <th>3</th>\n",
              "      <td>4</td>\n",
              "      <td>6</td>\n",
              "      <td>7</td>\n",
              "      <td>1</td>\n",
              "    </tr>\n",
              "  </tbody>\n",
              "</table>\n",
              "</div>"
            ],
            "text/plain": [
              "   Col1  Col2  Col3  Col4\n",
              "0     1     2     3     4\n",
              "1     2     1     5     6\n",
              "2     3     5     1     7\n",
              "3     4     6     7     1"
            ]
          },
          "metadata": {
            "tags": []
          },
          "execution_count": 5
        }
      ]
    },
    {
      "cell_type": "markdown",
      "metadata": {
        "id": "DUHRXd203goO"
      },
      "source": [
        "In the R version of this I went through the example of constructing a function to return the average of a correlation matrix.  Using numpy and pandas we can do this in one step by extracting the indices of the upper triangle and taking the mean of these.\r\n"
      ]
    },
    {
      "cell_type": "code",
      "metadata": {
        "colab": {
          "base_uri": "https://localhost:8080/"
        },
        "id": "WFCN4StA3hqg",
        "outputId": "8611d2bd-eddd-4527-f7ad-92f2e8c9d69d"
      },
      "source": [
        "print('***** MEAN OF NP.TRUI_INDICES *****')\r\n",
        "print(mtrx_df.values[np.triu_indices_from(mtrx_df.values,1)].mean())\r\n",
        "print()\r\n",
        "print('-------------------------------------------------')\r\n",
        "print()\r\n",
        "print('***** MEAN OF NP.TRUI_INDICES - NP.NANMEAN *****')\r\n",
        "print(np.nanmean(mtrx_df.values[np.triu_indices_from(mtrx_df.values,1)]))"
      ],
      "execution_count": 6,
      "outputs": [
        {
          "output_type": "stream",
          "text": [
            "***** MEAN OF NP.TRUI_INDICES *****\n",
            "4.5\n",
            "\n",
            "-------------------------------------------------\n",
            "\n",
            "***** MEAN OF NP.TRUI_INDICES - NP.NANMEAN *****\n",
            "4.5\n"
          ],
          "name": "stdout"
        }
      ]
    },
    {
      "cell_type": "markdown",
      "metadata": {
        "id": "afqLcEx657de"
      },
      "source": [
        "# Getting back to the stock data.  \r\n",
        "\r\n",
        "The code below creates a correlation matrix of the returns of the stocks loaded in the ```daily_price_ts_vw_20201018``` data initially loaded."
      ]
    },
    {
      "cell_type": "code",
      "metadata": {
        "id": "vtSV-3qglMEb",
        "colab": {
          "base_uri": "https://localhost:8080/",
          "height": 448
        },
        "outputId": "52312f42-a967-4bf1-bc8e-97aa6914cd2c"
      },
      "source": [
        "# Add returns\n",
        "daily_price_ts_vw_20201018['rtn_log_1d'] = daily_price_ts_vw_20201018.groupby('symbol').adjusted_close.apply(lambda x: np.log(x).diff(periods=1))\n",
        "\n",
        "# Correlatioon matrix\n",
        "daily_price_ts_vw_20201018.pivot(index = 'date_stamp', columns='symbol', values='rtn_log_1d').corr()"
      ],
      "execution_count": 7,
      "outputs": [
        {
          "output_type": "execute_result",
          "data": {
            "text/html": [
              "<div>\n",
              "<style scoped>\n",
              "    .dataframe tbody tr th:only-of-type {\n",
              "        vertical-align: middle;\n",
              "    }\n",
              "\n",
              "    .dataframe tbody tr th {\n",
              "        vertical-align: top;\n",
              "    }\n",
              "\n",
              "    .dataframe thead th {\n",
              "        text-align: right;\n",
              "    }\n",
              "</style>\n",
              "<table border=\"1\" class=\"dataframe\">\n",
              "  <thead>\n",
              "    <tr style=\"text-align: right;\">\n",
              "      <th>symbol</th>\n",
              "      <th>AAL</th>\n",
              "      <th>AAN</th>\n",
              "      <th>AAPL</th>\n",
              "      <th>AAWW</th>\n",
              "      <th>ABM</th>\n",
              "      <th>ACCO</th>\n",
              "      <th>ACM</th>\n",
              "      <th>ADBE</th>\n",
              "      <th>ADI</th>\n",
              "      <th>ADT</th>\n",
              "      <th>AKAM</th>\n",
              "      <th>AMD</th>\n",
              "    </tr>\n",
              "    <tr>\n",
              "      <th>symbol</th>\n",
              "      <th></th>\n",
              "      <th></th>\n",
              "      <th></th>\n",
              "      <th></th>\n",
              "      <th></th>\n",
              "      <th></th>\n",
              "      <th></th>\n",
              "      <th></th>\n",
              "      <th></th>\n",
              "      <th></th>\n",
              "      <th></th>\n",
              "      <th></th>\n",
              "    </tr>\n",
              "  </thead>\n",
              "  <tbody>\n",
              "    <tr>\n",
              "      <th>AAL</th>\n",
              "      <td>1.000000</td>\n",
              "      <td>0.534266</td>\n",
              "      <td>0.325731</td>\n",
              "      <td>0.305814</td>\n",
              "      <td>0.470569</td>\n",
              "      <td>0.504536</td>\n",
              "      <td>0.509805</td>\n",
              "      <td>0.219577</td>\n",
              "      <td>0.373639</td>\n",
              "      <td>0.428278</td>\n",
              "      <td>0.101893</td>\n",
              "      <td>0.236381</td>\n",
              "    </tr>\n",
              "    <tr>\n",
              "      <th>AAN</th>\n",
              "      <td>0.534266</td>\n",
              "      <td>1.000000</td>\n",
              "      <td>0.511547</td>\n",
              "      <td>0.206917</td>\n",
              "      <td>0.490153</td>\n",
              "      <td>0.565205</td>\n",
              "      <td>0.606753</td>\n",
              "      <td>0.428532</td>\n",
              "      <td>0.575300</td>\n",
              "      <td>0.554222</td>\n",
              "      <td>0.182400</td>\n",
              "      <td>0.410408</td>\n",
              "    </tr>\n",
              "    <tr>\n",
              "      <th>AAPL</th>\n",
              "      <td>0.325731</td>\n",
              "      <td>0.511547</td>\n",
              "      <td>1.000000</td>\n",
              "      <td>0.333001</td>\n",
              "      <td>0.581298</td>\n",
              "      <td>0.361228</td>\n",
              "      <td>0.601103</td>\n",
              "      <td>0.825177</td>\n",
              "      <td>0.723448</td>\n",
              "      <td>0.478252</td>\n",
              "      <td>0.581029</td>\n",
              "      <td>0.682798</td>\n",
              "    </tr>\n",
              "    <tr>\n",
              "      <th>AAWW</th>\n",
              "      <td>0.305814</td>\n",
              "      <td>0.206917</td>\n",
              "      <td>0.333001</td>\n",
              "      <td>1.000000</td>\n",
              "      <td>0.419544</td>\n",
              "      <td>0.352761</td>\n",
              "      <td>0.515143</td>\n",
              "      <td>0.455668</td>\n",
              "      <td>0.531586</td>\n",
              "      <td>0.368625</td>\n",
              "      <td>0.059849</td>\n",
              "      <td>0.331483</td>\n",
              "    </tr>\n",
              "    <tr>\n",
              "      <th>ABM</th>\n",
              "      <td>0.470569</td>\n",
              "      <td>0.490153</td>\n",
              "      <td>0.581298</td>\n",
              "      <td>0.419544</td>\n",
              "      <td>1.000000</td>\n",
              "      <td>0.501236</td>\n",
              "      <td>0.630795</td>\n",
              "      <td>0.549705</td>\n",
              "      <td>0.560218</td>\n",
              "      <td>0.387388</td>\n",
              "      <td>0.333460</td>\n",
              "      <td>0.411126</td>\n",
              "    </tr>\n",
              "    <tr>\n",
              "      <th>ACCO</th>\n",
              "      <td>0.504536</td>\n",
              "      <td>0.565205</td>\n",
              "      <td>0.361228</td>\n",
              "      <td>0.352761</td>\n",
              "      <td>0.501236</td>\n",
              "      <td>1.000000</td>\n",
              "      <td>0.688587</td>\n",
              "      <td>0.276039</td>\n",
              "      <td>0.485330</td>\n",
              "      <td>0.525182</td>\n",
              "      <td>0.100282</td>\n",
              "      <td>0.272751</td>\n",
              "    </tr>\n",
              "    <tr>\n",
              "      <th>ACM</th>\n",
              "      <td>0.509805</td>\n",
              "      <td>0.606753</td>\n",
              "      <td>0.601103</td>\n",
              "      <td>0.515143</td>\n",
              "      <td>0.630795</td>\n",
              "      <td>0.688587</td>\n",
              "      <td>1.000000</td>\n",
              "      <td>0.615331</td>\n",
              "      <td>0.707587</td>\n",
              "      <td>0.588721</td>\n",
              "      <td>0.246442</td>\n",
              "      <td>0.494776</td>\n",
              "    </tr>\n",
              "    <tr>\n",
              "      <th>ADBE</th>\n",
              "      <td>0.219577</td>\n",
              "      <td>0.428532</td>\n",
              "      <td>0.825177</td>\n",
              "      <td>0.455668</td>\n",
              "      <td>0.549705</td>\n",
              "      <td>0.276039</td>\n",
              "      <td>0.615331</td>\n",
              "      <td>1.000000</td>\n",
              "      <td>0.772001</td>\n",
              "      <td>0.432399</td>\n",
              "      <td>0.542109</td>\n",
              "      <td>0.695900</td>\n",
              "    </tr>\n",
              "    <tr>\n",
              "      <th>ADI</th>\n",
              "      <td>0.373639</td>\n",
              "      <td>0.575300</td>\n",
              "      <td>0.723448</td>\n",
              "      <td>0.531586</td>\n",
              "      <td>0.560218</td>\n",
              "      <td>0.485330</td>\n",
              "      <td>0.707587</td>\n",
              "      <td>0.772001</td>\n",
              "      <td>1.000000</td>\n",
              "      <td>0.544029</td>\n",
              "      <td>0.334023</td>\n",
              "      <td>0.633370</td>\n",
              "    </tr>\n",
              "    <tr>\n",
              "      <th>ADT</th>\n",
              "      <td>0.428278</td>\n",
              "      <td>0.554222</td>\n",
              "      <td>0.478252</td>\n",
              "      <td>0.368625</td>\n",
              "      <td>0.387388</td>\n",
              "      <td>0.525182</td>\n",
              "      <td>0.588721</td>\n",
              "      <td>0.432399</td>\n",
              "      <td>0.544029</td>\n",
              "      <td>1.000000</td>\n",
              "      <td>0.208034</td>\n",
              "      <td>0.413764</td>\n",
              "    </tr>\n",
              "    <tr>\n",
              "      <th>AKAM</th>\n",
              "      <td>0.101893</td>\n",
              "      <td>0.182400</td>\n",
              "      <td>0.581029</td>\n",
              "      <td>0.059849</td>\n",
              "      <td>0.333460</td>\n",
              "      <td>0.100282</td>\n",
              "      <td>0.246442</td>\n",
              "      <td>0.542109</td>\n",
              "      <td>0.334023</td>\n",
              "      <td>0.208034</td>\n",
              "      <td>1.000000</td>\n",
              "      <td>0.492668</td>\n",
              "    </tr>\n",
              "    <tr>\n",
              "      <th>AMD</th>\n",
              "      <td>0.236381</td>\n",
              "      <td>0.410408</td>\n",
              "      <td>0.682798</td>\n",
              "      <td>0.331483</td>\n",
              "      <td>0.411126</td>\n",
              "      <td>0.272751</td>\n",
              "      <td>0.494776</td>\n",
              "      <td>0.695900</td>\n",
              "      <td>0.633370</td>\n",
              "      <td>0.413764</td>\n",
              "      <td>0.492668</td>\n",
              "      <td>1.000000</td>\n",
              "    </tr>\n",
              "  </tbody>\n",
              "</table>\n",
              "</div>"
            ],
            "text/plain": [
              "symbol       AAL       AAN      AAPL  ...       ADT      AKAM       AMD\n",
              "symbol                                ...                              \n",
              "AAL     1.000000  0.534266  0.325731  ...  0.428278  0.101893  0.236381\n",
              "AAN     0.534266  1.000000  0.511547  ...  0.554222  0.182400  0.410408\n",
              "AAPL    0.325731  0.511547  1.000000  ...  0.478252  0.581029  0.682798\n",
              "AAWW    0.305814  0.206917  0.333001  ...  0.368625  0.059849  0.331483\n",
              "ABM     0.470569  0.490153  0.581298  ...  0.387388  0.333460  0.411126\n",
              "ACCO    0.504536  0.565205  0.361228  ...  0.525182  0.100282  0.272751\n",
              "ACM     0.509805  0.606753  0.601103  ...  0.588721  0.246442  0.494776\n",
              "ADBE    0.219577  0.428532  0.825177  ...  0.432399  0.542109  0.695900\n",
              "ADI     0.373639  0.575300  0.723448  ...  0.544029  0.334023  0.633370\n",
              "ADT     0.428278  0.554222  0.478252  ...  1.000000  0.208034  0.413764\n",
              "AKAM    0.101893  0.182400  0.581029  ...  0.208034  1.000000  0.492668\n",
              "AMD     0.236381  0.410408  0.682798  ...  0.413764  0.492668  1.000000\n",
              "\n",
              "[12 rows x 12 columns]"
            ]
          },
          "metadata": {
            "tags": []
          },
          "execution_count": 7
        }
      ]
    },
    {
      "cell_type": "markdown",
      "metadata": {
        "id": "_jcvc8BCakGh"
      },
      "source": [
        "Note that the ```corr``` function excludes NA's by default.  This is in contrast to R's ```cor``` which requires the ```use = 'pairwise.complete.obs'``` argument.  \r\n",
        "\r\n",
        "Now to calculate the mean of the correlation matrix."
      ]
    },
    {
      "cell_type": "code",
      "metadata": {
        "colab": {
          "base_uri": "https://localhost:8080/"
        },
        "id": "WCC2pW9PYjgC",
        "outputId": "8981ce54-401f-42bb-c620-c63a90d62e12"
      },
      "source": [
        "daily_price_ts_cor = daily_price_ts_vw_20201018.pivot(index = 'date_stamp', columns='symbol', values='rtn_log_1d').corr()\r\n",
        "\r\n",
        "np.nanmean(daily_price_ts_cor.values[np.triu_indices_from(daily_price_ts_cor.values,1)])"
      ],
      "execution_count": 8,
      "outputs": [
        {
          "output_type": "execute_result",
          "data": {
            "text/plain": [
              "0.45738142042743374"
            ]
          },
          "metadata": {
            "tags": []
          },
          "execution_count": 8
        }
      ]
    },
    {
      "cell_type": "markdown",
      "metadata": {
        "id": "864jRxlzfMFi"
      },
      "source": [
        "That agrees to the result we got from R.  All good so far.  \r\n",
        "\r\n",
        "# As a function  \r\n",
        "\r\n",
        "In R we began by implementing a rolling IPC function, and then applied it on a rolling basis.  \r\n",
        "  \r\n",
        "Below, the rolling functionality is included in the initial function. "
      ]
    },
    {
      "cell_type": "code",
      "metadata": {
        "colab": {
          "base_uri": "https://localhost:8080/"
        },
        "id": "RYdr8dBPfY3b",
        "outputId": "0394ed54-d8d7-4976-9bf9-1becb97ad36f"
      },
      "source": [
        "def roll_pfol_corr(x):\r\n",
        "  roll_corr_mtx = x.pivot(index='date_stamp', columns='symbol',values='rtn_log_1d').rolling(120).corr()\r\n",
        "  dates = roll_corr_mtx.index.get_level_values(0).unique()\r\n",
        "  mean_corr = [np.nanmean(roll_corr_mtx.loc[date].values[np.triu_indices_from(roll_corr_mtx.loc[date].values,1)]) for date in dates]\r\n",
        "  s = pd.Series(mean_corr, index=dates)\r\n",
        "  return s\r\n",
        "\r\n",
        "roll_pfol_corr(daily_price_ts_vw_20201018)"
      ],
      "execution_count": 9,
      "outputs": [
        {
          "output_type": "stream",
          "text": [
            "/usr/local/lib/python3.6/dist-packages/ipykernel_launcher.py:4: RuntimeWarning: Mean of empty slice\n",
            "  after removing the cwd from sys.path.\n"
          ],
          "name": "stderr"
        },
        {
          "output_type": "execute_result",
          "data": {
            "text/plain": [
              "date_stamp\n",
              "2020-01-02         NaN\n",
              "2020-01-03         NaN\n",
              "2020-01-06         NaN\n",
              "2020-01-07         NaN\n",
              "2020-01-08         NaN\n",
              "                ...   \n",
              "2020-07-29    0.469060\n",
              "2020-07-30    0.470194\n",
              "2020-07-31    0.466010\n",
              "2020-08-03    0.466050\n",
              "2020-08-04    0.465898\n",
              "Length: 149, dtype: float64"
            ]
          },
          "metadata": {
            "tags": []
          },
          "execution_count": 9
        }
      ]
    },
    {
      "cell_type": "markdown",
      "metadata": {
        "id": "2kMI9Jsfg8HL"
      },
      "source": [
        "Now to apply by group."
      ]
    },
    {
      "cell_type": "code",
      "metadata": {
        "colab": {
          "base_uri": "https://localhost:8080/",
          "height": 298
        },
        "id": "nISORgekg-ut",
        "outputId": "4f92b988-79cc-474e-d1ba-e51d85b456a0"
      },
      "source": [
        "roll_daily = daily_price_ts_vw_20201018.groupby('sector').apply(roll_pfol_corr).T\r\n",
        "\r\n",
        "# Generate list of dates to filter by\r\n",
        "# This needs converting to list\r\n",
        "# me_dates = pd.date_range(start='2020-02-11', end='2020-07-31', freq='BM')  \r\n",
        "\r\n",
        "# Use this instead\r\n",
        "me_dates= ['2020-02-28', '2020-03-31', '2020-04-30', '2020-05-29','2020-06-30', '2020-07-31']\r\n",
        "\r\n",
        "roll_daily.loc[me_dates]"
      ],
      "execution_count": 10,
      "outputs": [
        {
          "output_type": "stream",
          "text": [
            "/usr/local/lib/python3.6/dist-packages/ipykernel_launcher.py:4: RuntimeWarning: Mean of empty slice\n",
            "  after removing the cwd from sys.path.\n"
          ],
          "name": "stderr"
        },
        {
          "output_type": "execute_result",
          "data": {
            "text/html": [
              "<div>\n",
              "<style scoped>\n",
              "    .dataframe tbody tr th:only-of-type {\n",
              "        vertical-align: middle;\n",
              "    }\n",
              "\n",
              "    .dataframe tbody tr th {\n",
              "        vertical-align: top;\n",
              "    }\n",
              "\n",
              "    .dataframe thead th {\n",
              "        text-align: right;\n",
              "    }\n",
              "</style>\n",
              "<table border=\"1\" class=\"dataframe\">\n",
              "  <thead>\n",
              "    <tr style=\"text-align: right;\">\n",
              "      <th>sector</th>\n",
              "      <th>1</th>\n",
              "      <th>2</th>\n",
              "    </tr>\n",
              "    <tr>\n",
              "      <th>date_stamp</th>\n",
              "      <th></th>\n",
              "      <th></th>\n",
              "    </tr>\n",
              "  </thead>\n",
              "  <tbody>\n",
              "    <tr>\n",
              "      <th>2020-02-28</th>\n",
              "      <td>NaN</td>\n",
              "      <td>NaN</td>\n",
              "    </tr>\n",
              "    <tr>\n",
              "      <th>2020-03-31</th>\n",
              "      <td>NaN</td>\n",
              "      <td>NaN</td>\n",
              "    </tr>\n",
              "    <tr>\n",
              "      <th>2020-04-30</th>\n",
              "      <td>NaN</td>\n",
              "      <td>NaN</td>\n",
              "    </tr>\n",
              "    <tr>\n",
              "      <th>2020-05-29</th>\n",
              "      <td>NaN</td>\n",
              "      <td>NaN</td>\n",
              "    </tr>\n",
              "    <tr>\n",
              "      <th>2020-06-30</th>\n",
              "      <td>0.491526</td>\n",
              "      <td>0.672605</td>\n",
              "    </tr>\n",
              "    <tr>\n",
              "      <th>2020-07-31</th>\n",
              "      <td>0.495892</td>\n",
              "      <td>0.637774</td>\n",
              "    </tr>\n",
              "  </tbody>\n",
              "</table>\n",
              "</div>"
            ],
            "text/plain": [
              "sector             1         2\n",
              "date_stamp                    \n",
              "2020-02-28       NaN       NaN\n",
              "2020-03-31       NaN       NaN\n",
              "2020-04-30       NaN       NaN\n",
              "2020-05-29       NaN       NaN\n",
              "2020-06-30  0.491526  0.672605\n",
              "2020-07-31  0.495892  0.637774"
            ]
          },
          "metadata": {
            "tags": []
          },
          "execution_count": 10
        }
      ]
    },
    {
      "cell_type": "markdown",
      "metadata": {
        "id": "ko9DFr0fpJ0Q"
      },
      "source": [
        "These results differ to those returned in R.  \r\n",
        "\r\n",
        "The July IPC for sector 1 is OK with 0.495892, this agrees to that in R (after equalising the look back period).  Sector 2 however is out by a significant amount, 0.5700418 in R versus 0.63777 above. \r\n",
        "\r\n",
        "This is due to the Pandas rolling correlation function treating pairs of observations that are not complete differently to R.  To my knowledge there is no equivalent to R's ```pairwise.complete.obs``` argument. From the [documentation](https://pandas.pydata.org/docs/reference/api/pandas.core.window.rolling.Rolling.corr.html) - *in the case of missing elements, only complete pairwise observations will be used*."
      ]
    },
    {
      "cell_type": "markdown",
      "metadata": {
        "id": "7uTI4PcAjt4p"
      },
      "source": [
        "======================================================================================================================================================================================================================================"
      ]
    }
  ]
}