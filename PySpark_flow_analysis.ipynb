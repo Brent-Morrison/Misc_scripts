{
  "nbformat": 4,
  "nbformat_minor": 0,
  "metadata": {
    "colab": {
      "name": "PySpark.ipynb",
      "provenance": [],
      "collapsed_sections": [],
      "authorship_tag": "ABX9TyMZSILRlIqYTxVWvywEjy+d",
      "include_colab_link": true
    },
    "kernelspec": {
      "name": "python3",
      "display_name": "Python 3"
    }
  },
  "cells": [
    {
      "cell_type": "markdown",
      "metadata": {
        "id": "view-in-github",
        "colab_type": "text"
      },
      "source": [
        "<a href=\"https://colab.research.google.com/github/Brent-Morrison/Misc_scripts/blob/master/PySpark_flow_analysis.ipynb\" target=\"_parent\"><img src=\"https://colab.research.google.com/assets/colab-badge.svg\" alt=\"Open In Colab\"/></a>"
      ]
    },
    {
      "cell_type": "markdown",
      "metadata": {
        "id": "F0KcumpoTPsM",
        "colab_type": "text"
      },
      "source": [
        "# PySpark in Google Colab\n",
        "\n",
        "Installations\n"
      ]
    },
    {
      "cell_type": "code",
      "metadata": {
        "id": "RpIggmzSTHzf",
        "colab_type": "code",
        "outputId": "9591c763-2d7d-4674-af0c-67f8fe60603c",
        "colab": {
          "base_uri": "https://localhost:8080/",
          "height": 290
        }
      },
      "source": [
        "!apt-get install openjdk-8-jdk-headless -qq > /dev/null\n",
        "!wget -q https://www-eu.apache.org/dist/spark/spark-2.4.5/spark-2.4.5-bin-hadoop2.7.tgz\n",
        "!tar xf spark-2.4.5-bin-hadoop2.7.tgz\n",
        "!pip install -q findspark\n",
        "!pip install pyspark\n",
        "!pip install pyarrow"
      ],
      "execution_count": 0,
      "outputs": [
        {
          "output_type": "stream",
          "text": [
            "Collecting pyspark\n",
            "\u001b[?25l  Downloading https://files.pythonhosted.org/packages/9a/5a/271c416c1c2185b6cb0151b29a91fff6fcaed80173c8584ff6d20e46b465/pyspark-2.4.5.tar.gz (217.8MB)\n",
            "\u001b[K     |████████████████████████████████| 217.8MB 57kB/s \n",
            "\u001b[?25hCollecting py4j==0.10.7\n",
            "\u001b[?25l  Downloading https://files.pythonhosted.org/packages/e3/53/c737818eb9a7dc32a7cd4f1396e787bd94200c3997c72c1dbe028587bd76/py4j-0.10.7-py2.py3-none-any.whl (197kB)\n",
            "\u001b[K     |████████████████████████████████| 204kB 47.3MB/s \n",
            "\u001b[?25hBuilding wheels for collected packages: pyspark\n",
            "  Building wheel for pyspark (setup.py) ... \u001b[?25l\u001b[?25hdone\n",
            "  Created wheel for pyspark: filename=pyspark-2.4.5-py2.py3-none-any.whl size=218257927 sha256=91e65afa86e22e8f38bd0797f4b5852b83659a7ce5707fdc6009136248398c87\n",
            "  Stored in directory: /root/.cache/pip/wheels/bf/db/04/61d66a5939364e756eb1c1be4ec5bdce6e04047fc7929a3c3c\n",
            "Successfully built pyspark\n",
            "Installing collected packages: py4j, pyspark\n",
            "Successfully installed py4j-0.10.7 pyspark-2.4.5\n",
            "Requirement already satisfied: pyarrow in /usr/local/lib/python3.6/dist-packages (0.14.1)\n",
            "Requirement already satisfied: numpy>=1.14 in /usr/local/lib/python3.6/dist-packages (from pyarrow) (1.18.3)\n",
            "Requirement already satisfied: six>=1.0.0 in /usr/local/lib/python3.6/dist-packages (from pyarrow) (1.12.0)\n"
          ],
          "name": "stdout"
        }
      ]
    },
    {
      "cell_type": "markdown",
      "metadata": {
        "id": "SUIYK6zPXCWA",
        "colab_type": "text"
      },
      "source": [
        "Set the environment variables so that Colab can find Spark"
      ]
    },
    {
      "cell_type": "code",
      "metadata": {
        "id": "HZAzYvk4XA2s",
        "colab_type": "code",
        "colab": {}
      },
      "source": [
        "import os\n",
        "os.environ[\"JAVA_HOME\"] = \"/usr/lib/jvm/java-8-openjdk-amd64\"\n",
        "os.environ[\"SPARK_HOME\"] = \"/content/spark-2.4.5-bin-hadoop2.7\""
      ],
      "execution_count": 0,
      "outputs": []
    },
    {
      "cell_type": "markdown",
      "metadata": {
        "id": "k3IqshTMkpTN",
        "colab_type": "text"
      },
      "source": [
        "Add PySpark to sys.path\n",
        "\n",
        "PySpark isn't on sys.path by default, but that doesn't mean it can't be used as a regular library. You can address this by either symlinking pyspark into your site-packages, or adding pyspark to sys.path at runtime. [findspark](https://github.com/minrk/findspark) does the latter."
      ]
    },
    {
      "cell_type": "code",
      "metadata": {
        "id": "w-SWH1j4XZuW",
        "colab_type": "code",
        "colab": {}
      },
      "source": [
        "import findspark\n",
        "findspark.init()"
      ],
      "execution_count": 0,
      "outputs": []
    },
    {
      "cell_type": "markdown",
      "metadata": {
        "id": "WU_5pVQN_SsT",
        "colab_type": "text"
      },
      "source": [
        "Create the Spark session"
      ]
    },
    {
      "cell_type": "code",
      "metadata": {
        "id": "svOtNUjS_s5i",
        "colab_type": "code",
        "colab": {}
      },
      "source": [
        "from pyspark.sql import SparkSession\n",
        "spark = SparkSession.builder.master(\"local[*]\").getOrCreate()"
      ],
      "execution_count": 0,
      "outputs": []
    },
    {
      "cell_type": "markdown",
      "metadata": {
        "id": "21-MjEmGX14v",
        "colab_type": "text"
      },
      "source": [
        "Test everything is working.  Creating a test dataframe"
      ]
    },
    {
      "cell_type": "code",
      "metadata": {
        "id": "ZnwZHPhXX2te",
        "colab_type": "code",
        "outputId": "085eaceb-2146-4611-a264-34b03cb28dea",
        "colab": {
          "base_uri": "https://localhost:8080/",
          "height": 256
        }
      },
      "source": [
        "test_df = spark.createDataFrame([{\"hello\": \"world\"} for x in range(100)])\n",
        "\n",
        "test_df.printSchema()\n",
        "test_df.show(3)"
      ],
      "execution_count": 0,
      "outputs": [
        {
          "output_type": "stream",
          "text": [
            "/content/spark-2.4.5-bin-hadoop2.7/python/pyspark/sql/session.py:346: UserWarning: inferring schema from dict is deprecated,please use pyspark.sql.Row instead\n",
            "  warnings.warn(\"inferring schema from dict is deprecated,\"\n"
          ],
          "name": "stderr"
        },
        {
          "output_type": "stream",
          "text": [
            "root\n",
            " |-- hello: string (nullable = true)\n",
            "\n",
            "+-----+\n",
            "|hello|\n",
            "+-----+\n",
            "|world|\n",
            "|world|\n",
            "|world|\n",
            "+-----+\n",
            "only showing top 3 rows\n",
            "\n"
          ],
          "name": "stdout"
        }
      ]
    },
    {
      "cell_type": "markdown",
      "metadata": {
        "id": "r64sT8R3d3vU",
        "colab_type": "text"
      },
      "source": [
        "# The IFRS9 data transformations \n",
        "\n",
        "This is a practice data set to look at implementing complex data transformations in PySpark.\n",
        "\n",
        "## Load the data\n",
        "\n",
        "Get a feather file from github.  The file loaded below is generated by the processes outlined in [this](https://brentmorrison.netlify.app/post/ifrs9-disclosures-part-2/) blog post.\n",
        "\n",
        "The intention was to be implement this using PyArrow however  [it looks like](https://issues.apache.org/jira/browse/ARROW-6998?filter=-6) that won't happen.\n",
        "\n",
        "[This](https://github.com/pandas-dev/pandas/issues/29055) workaround seems to be the way to go."
      ]
    },
    {
      "cell_type": "code",
      "metadata": {
        "id": "ysmCdGFYfohN",
        "colab_type": "code",
        "outputId": "77e5406c-b870-4b22-aea4-ad48a6a60f15",
        "colab": {
          "base_uri": "https://localhost:8080/",
          "height": 197
        }
      },
      "source": [
        "# As described above, not working\n",
        "# import pyarrow as pa\n",
        "# fin_data = pa.feather.read_feather('https://github.com/Brent-Morrison/hugo_website/blob/master/content/post/ifrs9_part2.feather')\n",
        "\n",
        "import pandas as pd\n",
        "import requests\n",
        "import io\n",
        "resp = requests.get('https://github.com/Brent-Morrison/hugo_website/raw/master/content/post/ifrs9_part2.feather', stream = True)\n",
        "resp.raw.decode_content = True\n",
        "mem_fh = io.BytesIO(resp.raw.read())\n",
        "fin_data = pd.read_feather(mem_fh)\n",
        "fin_data.head()"
      ],
      "execution_count": 0,
      "outputs": [
        {
          "output_type": "execute_result",
          "data": {
            "text/html": [
              "<div>\n",
              "<style scoped>\n",
              "    .dataframe tbody tr th:only-of-type {\n",
              "        vertical-align: middle;\n",
              "    }\n",
              "\n",
              "    .dataframe tbody tr th {\n",
              "        vertical-align: top;\n",
              "    }\n",
              "\n",
              "    .dataframe thead th {\n",
              "        text-align: right;\n",
              "    }\n",
              "</style>\n",
              "<table border=\"1\" class=\"dataframe\">\n",
              "  <thead>\n",
              "    <tr style=\"text-align: right;\">\n",
              "      <th></th>\n",
              "      <th>Ticker</th>\n",
              "      <th>me.date</th>\n",
              "      <th>clust.name</th>\n",
              "      <th>RiskStage</th>\n",
              "      <th>TotalDebt</th>\n",
              "      <th>ECL</th>\n",
              "    </tr>\n",
              "  </thead>\n",
              "  <tbody>\n",
              "    <tr>\n",
              "      <th>0</th>\n",
              "      <td>A</td>\n",
              "      <td>2016-12-31</td>\n",
              "      <td>rev.vol_oa.ta_td.ta_da.ta</td>\n",
              "      <td>1.0</td>\n",
              "      <td>1887.0</td>\n",
              "      <td>11.691196</td>\n",
              "    </tr>\n",
              "    <tr>\n",
              "      <th>1</th>\n",
              "      <td>A</td>\n",
              "      <td>2017-01-31</td>\n",
              "      <td>np.ta_td.ta_nca.ta_rev.vol</td>\n",
              "      <td>1.0</td>\n",
              "      <td>1887.0</td>\n",
              "      <td>32.852229</td>\n",
              "    </tr>\n",
              "    <tr>\n",
              "      <th>2</th>\n",
              "      <td>A</td>\n",
              "      <td>2017-02-28</td>\n",
              "      <td>np.ta_td.ta_nca.ta_rev.vol</td>\n",
              "      <td>1.0</td>\n",
              "      <td>1887.0</td>\n",
              "      <td>34.309091</td>\n",
              "    </tr>\n",
              "    <tr>\n",
              "      <th>3</th>\n",
              "      <td>A</td>\n",
              "      <td>2017-03-31</td>\n",
              "      <td>np.ta_td.ta_nca.ta_rev.vol</td>\n",
              "      <td>1.0</td>\n",
              "      <td>2043.0</td>\n",
              "      <td>38.319819</td>\n",
              "    </tr>\n",
              "    <tr>\n",
              "      <th>4</th>\n",
              "      <td>A</td>\n",
              "      <td>2017-04-30</td>\n",
              "      <td>np.ta_td.ta_nca.ta_rev.vol</td>\n",
              "      <td>1.0</td>\n",
              "      <td>2043.0</td>\n",
              "      <td>33.507803</td>\n",
              "    </tr>\n",
              "  </tbody>\n",
              "</table>\n",
              "</div>"
            ],
            "text/plain": [
              "  Ticker     me.date  ... TotalDebt        ECL\n",
              "0      A  2016-12-31  ...    1887.0  11.691196\n",
              "1      A  2017-01-31  ...    1887.0  32.852229\n",
              "2      A  2017-02-28  ...    1887.0  34.309091\n",
              "3      A  2017-03-31  ...    2043.0  38.319819\n",
              "4      A  2017-04-30  ...    2043.0  33.507803\n",
              "\n",
              "[5 rows x 6 columns]"
            ]
          },
          "metadata": {
            "tags": []
          },
          "execution_count": 6
        }
      ]
    },
    {
      "cell_type": "markdown",
      "metadata": {
        "id": "4BcX928tRqst",
        "colab_type": "text"
      },
      "source": [
        "Check data type"
      ]
    },
    {
      "cell_type": "code",
      "metadata": {
        "id": "LvaFfR7KLsOj",
        "colab_type": "code",
        "outputId": "03f4f7f9-e58b-486d-e45c-7101aec90a4e",
        "colab": {
          "base_uri": "https://localhost:8080/",
          "height": 238
        }
      },
      "source": [
        "fin_data.info()"
      ],
      "execution_count": 0,
      "outputs": [
        {
          "output_type": "stream",
          "text": [
            "<class 'pandas.core.frame.DataFrame'>\n",
            "RangeIndex: 24236 entries, 0 to 24235\n",
            "Data columns (total 6 columns):\n",
            " #   Column      Non-Null Count  Dtype  \n",
            "---  ------      --------------  -----  \n",
            " 0   Ticker      24236 non-null  object \n",
            " 1   me.date     24236 non-null  object \n",
            " 2   clust.name  24236 non-null  object \n",
            " 3   RiskStage   24236 non-null  float64\n",
            " 4   TotalDebt   24236 non-null  float64\n",
            " 5   ECL         24236 non-null  float64\n",
            "dtypes: float64(3), object(3)\n",
            "memory usage: 1.1+ MB\n"
          ],
          "name": "stdout"
        }
      ]
    },
    {
      "cell_type": "markdown",
      "metadata": {
        "id": "gqwt7BXRR7Ef",
        "colab_type": "text"
      },
      "source": [
        "The date column 'me.date' has been imported as on object instead of a date.  This needs to be changed before converting to a PySpark dataframe."
      ]
    },
    {
      "cell_type": "code",
      "metadata": {
        "id": "eaglCIF8SL1p",
        "colab_type": "code",
        "outputId": "226b3d8f-e037-44f4-dc8f-49b8318cab7b",
        "colab": {
          "base_uri": "https://localhost:8080/",
          "height": 238
        }
      },
      "source": [
        "fin_data['me.date'] = pd.to_datetime(fin_data['me.date']) \n",
        "fin_data.info()"
      ],
      "execution_count": 0,
      "outputs": [
        {
          "output_type": "stream",
          "text": [
            "<class 'pandas.core.frame.DataFrame'>\n",
            "RangeIndex: 24236 entries, 0 to 24235\n",
            "Data columns (total 6 columns):\n",
            " #   Column      Non-Null Count  Dtype         \n",
            "---  ------      --------------  -----         \n",
            " 0   Ticker      24236 non-null  object        \n",
            " 1   me.date     24236 non-null  datetime64[ns]\n",
            " 2   clust.name  24236 non-null  object        \n",
            " 3   RiskStage   24236 non-null  float64       \n",
            " 4   TotalDebt   24236 non-null  float64       \n",
            " 5   ECL         24236 non-null  float64       \n",
            "dtypes: datetime64[ns](1), float64(3), object(2)\n",
            "memory usage: 1.1+ MB\n"
          ],
          "name": "stdout"
        }
      ]
    },
    {
      "cell_type": "markdown",
      "metadata": {
        "id": "Lp5keJ3YrrCK",
        "colab_type": "text"
      },
      "source": [
        "## Convert to a Spark dataframe"
      ]
    },
    {
      "cell_type": "code",
      "metadata": {
        "id": "Mvx-GQq5rvRQ",
        "colab_type": "code",
        "outputId": "1ed3f687-4c31-437b-97f4-afb37feddaff",
        "colab": {
          "base_uri": "https://localhost:8080/",
          "height": 153
        }
      },
      "source": [
        "fin_data_spark = spark.createDataFrame(fin_data)\n",
        "\n",
        "fin_data_spark.printSchema()"
      ],
      "execution_count": 0,
      "outputs": [
        {
          "output_type": "stream",
          "text": [
            "root\n",
            " |-- Ticker: string (nullable = true)\n",
            " |-- me.date: timestamp (nullable = true)\n",
            " |-- clust.name: string (nullable = true)\n",
            " |-- RiskStage: double (nullable = true)\n",
            " |-- TotalDebt: double (nullable = true)\n",
            " |-- ECL: double (nullable = true)\n",
            "\n"
          ],
          "name": "stdout"
        }
      ]
    },
    {
      "cell_type": "markdown",
      "metadata": {
        "id": "_G9-Fp0E5GMD",
        "colab_type": "text"
      },
      "source": [
        "Find the first date"
      ]
    },
    {
      "cell_type": "code",
      "metadata": {
        "id": "u7fOP2JjEr_q",
        "colab_type": "code",
        "outputId": "c46d82a1-25e8-48d2-8443-93c8dda76c5a",
        "colab": {
          "base_uri": "https://localhost:8080/",
          "height": 34
        }
      },
      "source": [
        "from pyspark.sql import functions as F\n",
        "\n",
        "min_date = fin_data_spark \\\n",
        "  .withColumnRenamed('me.date','date') \\\n",
        "  .withColumn('date', F.to_date(F.col('date'))) \\\n",
        "  .select(F.min('date')).first()\n",
        "\n",
        "min_date"
      ],
      "execution_count": 0,
      "outputs": [
        {
          "output_type": "execute_result",
          "data": {
            "text/plain": [
              "Row(min(date)=datetime.date(2016, 12, 31))"
            ]
          },
          "metadata": {
            "tags": []
          },
          "execution_count": 10
        }
      ]
    },
    {
      "cell_type": "markdown",
      "metadata": {
        "id": "fQqzANNf5KMA",
        "colab_type": "text"
      },
      "source": [
        "The code block below implements the first data transform step outlined in [this](https://brentmorrison.netlify.app/post/ifrs9-disclosures-part-3/) post."
      ]
    },
    {
      "cell_type": "code",
      "metadata": {
        "id": "ehOsnA01v8bW",
        "colab_type": "code",
        "outputId": "1741280f-44f6-4190-f73b-3b83d4f1a932",
        "colab": {
          "base_uri": "https://localhost:8080/",
          "height": 975
        }
      },
      "source": [
        "from pyspark.sql import Window as W\n",
        "from pyspark.sql import Column as C\n",
        "from pyspark.sql.types import DoubleType\n",
        "\n",
        "ifrs9_wide2 = fin_data_spark \\\n",
        "  .withColumnRenamed('me.date', 'date') \\\n",
        "  .withColumnRenamed('Ticker', 'cust') \\\n",
        "  .withColumnRenamed('clust.name', 'unit') \\\n",
        "  .withColumnRenamed('RiskStage', 'stage') \\\n",
        "  .withColumnRenamed('TotalDebt', 'gca') \\\n",
        "  .withColumnRenamed('ECL','ecl') \\\n",
        "  .withColumn('date', F.to_date(F.col('date'))) \\\n",
        "  .withColumn('year', F.year('date')) \\\n",
        "  .withColumn('ccy', F.when(F.col('cust').startswith('G'), 'GBP').otherwise('USD')) \\\n",
        "  .withColumn('type', F.when(F.col('cust').startswith('R'), 'rvlv').otherwise('term')) \\\n",
        "  .withColumn('poci', F.when(F.col('cust').startswith('P'), 'Y').otherwise('N')) \\\n",
        "  .withColumn('bal', F.col('gca')) \\\n",
        "  .withColumn('ecl', F.col('ecl') * -1) \\\n",
        "  .withColumn('wof', F.when((F.col('cust') == 'ORCL') & (F.col('date') == '2018-06-30'), F.lit(96)). \\\n",
        "              otherwise(F.lit(0))) \\\n",
        "  .withColumn('pryr', F.lit(0)) \\\n",
        "  .withColumn('prlt', F.lit(0)) \\\n",
        "  .withColumn('ctgy', \n",
        "              F.when((F.col('wof') != F.lit(0)) & (F.col('poci') == 'N'), F.lit(3)) \\\n",
        "              .when((F.col('wof') != F.lit(0)) & (F.col('poci') == 'Y'), F.lit(5)) \\\n",
        "              .when((F.col('wof') != F.lit(0)) & (F.isnull(F.col('poci'))), F.lit(3)) \\\n",
        "              .when((F.col('stage') == F.lit(1)) & (F.col('poci') == 'N'), F.lit(1)) \\\n",
        "              .when((F.col('stage') == F.lit(2)) & (F.col('poci') == 'N'), F.lit(2)) \\\n",
        "              .when((F.col('stage') == F.lit(3)) & (F.col('poci') == 'N'), F.lit(3)) \\\n",
        "              .when((F.isnull(F.col('stage'))) & (F.col('poci') == 'N'), F.lit(1)) \\\n",
        "              .when((F.col('stage') == F.lit(1)) & (F.col('poci') == 'Y'), F.lit(4)) \\\n",
        "              .when((F.col('stage') == F.lit(2)) & (F.col('poci') == 'Y'), F.lit(4)) \\\n",
        "              .when((F.col('stage') == F.lit(3)) & (F.col('poci') == 'Y'), F.lit(5)) \\\n",
        "              .when((F.isnull(F.col('stage'))) & (F.col('poci') == 'Y'), F.lit(4)) \\\n",
        "              .when((F.col('stage') == F.lit(1)) & (F.isnull(F.col('poci'))), F.lit(1)) \\\n",
        "              .when((F.col('stage') == F.lit(2)) & (F.isnull(F.col('poci'))), F.lit(2)) \\\n",
        "              .when((F.col('stage') == F.lit(3)) & (F.isnull(F.col('poci'))), F.lit(3)) \\\n",
        "              .otherwise(F.lit(1))) \\\n",
        "  .withColumn('gca_op', F.lag('gca', 1).over(W.partitionBy('cust').orderBy('date'))) \\\n",
        "  .withColumn('bal_op', F.lag('bal', 1).over(W.partitionBy('cust').orderBy('date'))) \\\n",
        "  .withColumn('ecl_op', F.lag('ecl', 1).over(W.partitionBy('cust').orderBy('date'))) \\\n",
        "  .withColumn('ctgy_op', F.lag('ctgy', 1).over(W.partitionBy('cust').orderBy('date'))) \\\n",
        "  .withColumn('bal_pr', F.first('bal_op', ignorenulls = True).over(W.partitionBy('cust', 'year').orderBy('date'))) \\\n",
        "  .withColumnRenamed('gca', 'gca_cl') \\\n",
        "  .withColumnRenamed('bal', 'bal_cl') \\\n",
        "  .withColumnRenamed('ecl', 'ecl_cl') \\\n",
        "  .withColumnRenamed('ctgy', 'ctgy_cl') \\\n",
        "  .withColumnRenamed('wof', 'wof_cl') \\\n",
        "  .withColumn('wof_cum', F.sum('wof_cl').over(W.partitionBy('cust', 'year').orderBy('date'))) \\\n",
        "  .withColumn('bal_y', F.col('bal_cl') - F.col('bal_pr') + F.col('wof_cum')) \\\n",
        "  .withColumn('bal_y_dd', \n",
        "              F.when((F.col('bal_y') > F.lit(0)), F.col('bal_y')) \\\n",
        "              .otherwise(F.lit(0))) \\\n",
        "  .withColumn('bal_y_dd_pr', F.lag('bal_y_dd', 1).over(W.partitionBy('cust').orderBy('date'))) \\\n",
        "  .withColumn('bal_y_rd', \n",
        "              F.when((F.col('bal_y') < F.lit(0)), F.col('bal_y')) \\\n",
        "              .otherwise(F.lit(0))) \\\n",
        "  .withColumn('bal_y_rd_pr', F.lag('bal_y_rd', 1).over(W.partitionBy('cust').orderBy('date'))) \\\n",
        "  .withColumn('cover_cl', -F.col('ecl_cl') / F.col('bal_cl')) \\\n",
        "  .withColumn('cover_op', -F.col('ecl_op') / F.col('bal_op')) \\\n",
        "  .withColumn('cover', \n",
        "              F.when(C.isNull(F.col('cover_op')), F.col('cover_cl')) \\\n",
        "              .otherwise(F.col('cover_op'))) \\\n",
        "  .withColumn('cover', \n",
        "              F.when(F.col('cover') < F.lit(0), F.lit(0)) \\\n",
        "              .otherwise(F.round(F.col('cover'), 5))) \\\n",
        "  .withColumn('cover', \n",
        "              F.when(F.col('cover') > F.lit(1), F.lit(1)) \\\n",
        "              .otherwise(F.round(F.col('cover'), 5))) \\\n",
        "  .withColumn('incr_decr', \n",
        "              F.when(F.col('bal_cl') > F.col('bal_op'), 'incr') \\\n",
        "              .when(F.col('bal_cl') < F.col('bal_op'), 'decr') \\\n",
        "              .otherwise('unch')) \\\n",
        "  .withColumn('ctgy_dir', \n",
        "            F.when(F.col('ctgy_cl') > F.col('ctgy_op'), 'd') \\\n",
        "            .when(F.col('ctgy_cl') < F.col('ctgy_op'), 'i') \\\n",
        "            .otherwise('u')) \\\n",
        "  .withColumn('pre_post', \n",
        "            F.when((F.col('ctgy_dir') == 'i') & (F.col('incr_decr') == 'decr'), 'pre') \\\n",
        "            .when((F.col('ctgy_dir') == 'd') & (F.col('incr_decr') == 'incr'), 'pre') \\\n",
        "            .otherwise('post')) \\\n",
        "  .withColumn('pre_stage', \n",
        "            F.when(F.col('pre_post') == 'pre', F.col('ctgy_op')) \\\n",
        "            .otherwise(F.col('ctgy_op'))) \\\n",
        "  .withColumn('gca_m_dd_r', \n",
        "            F.when(F.col('type') == 'rvlv', F.col('bal_y_dd') - F.col('bal_y_dd_pr')) \\\n",
        "            .otherwise(F.lit(0))) \\\n",
        "  .withColumn('gca_m_dd_t', \n",
        "            F.when((F.col('type') == 'term') & (F.col('incr_decr') == 'incr'), F.col('bal_cl') - F.col('bal_op') + F.col('wof_cl')) \\\n",
        "            .otherwise(F.lit(0))) \\\n",
        "  .withColumn('gca_m_rd_t_f', \n",
        "            F.when((F.col('type') == 'term') & (F.col('incr_decr') == 'incr') & (F.col('bal_cl') == F.lit(0)), F.col('bal_cl') - F.col('bal_op') + F.col('wof_cl')) \\\n",
        "            .otherwise(F.lit(0))) \\\n",
        "  .withColumn('gca_m_rd_t', \n",
        "            F.when((F.col('type') == 'term') & (F.col('incr_decr') == 'decr') & (F.col('bal_cl') != F.lit(0)), F.col('bal_cl') - F.col('bal_op') + F.col('wof_cl')) \\\n",
        "            .otherwise(F.lit(0))) \\\n",
        "  .withColumn('gca_m_rd_r', \n",
        "            F.when(F.col('type') == 'rvlv', F.col('bal_y_rd') - F.col('bal_y_rd_pr')) \\\n",
        "            .otherwise(F.lit(0))) \\\n",
        "  .withColumn('gca_m_oth', (F.col('gca_cl') - F.col('bal_cl')) - (F.col('gca_op') - F.col('bal_op'))) \\\n",
        "  .withColumn('gca_tfr_pre', F.col('gca_op') + F.col('gca_m_dd_r') + F.col('gca_m_dd_t') + F.col('gca_m_rd_t_f') + F.col('gca_m_rd_t') + F.col('gca_m_rd_r')) \\\n",
        "  .withColumn('gca_m_wof', -F.col('wof_cl').cast(DoubleType())) \\\n",
        "  .withColumn('gca_m_tfr_o', \n",
        "            F.when((F.col('ctgy_dir') != 'u') & (F.col('pre_post') == 'pre'), -F.col('gca_tfr_pre')) \\\n",
        "            .when((F.col('ctgy_dir') != 'u') & (F.col('pre_post') == 'post'), -F.col('gca_op')) \\\n",
        "            .otherwise(F.lit(0))) \\\n",
        "  .withColumn('gca_m_tfr_i', -F.col('gca_m_tfr_o')) \\\n",
        "  .withColumn('ecl_m_dd_r', F.round(-F.col('cover') * F.col('gca_m_dd_r'), 2)) \\\n",
        "  .withColumn('ecl_m_dd_t', F.round(-F.col('cover') * F.col('gca_m_dd_t'), 2)) \\\n",
        "  .withColumn('ecl_m_rd_t_f', F.round(-F.col('cover') * F.col('gca_m_rd_t_f'), 2)) \\\n",
        "  .withColumn('ecl_m_rd_t', F.round(-F.col('cover') * F.col('gca_m_rd_t'), 2)) \\\n",
        "  .withColumn('ecl_m_rd_r', F.round(-F.col('cover') * F.col('gca_m_rd_r'), 2)) \\\n",
        "  .withColumn('ecl_m_wof', F.col('wof_cl').cast(DoubleType())) \\\n",
        "  .withColumn('ecl_m_prm', \n",
        "            F.when((F.col('ctgy_cl') == F.lit(1)) & (F.col('pryr') != F.lit(0)), F.col('ecl_cl') + F.col('pryr')) \\\n",
        "            .when((F.col('ctgy_cl') != F.lit(1)) & (F.col('pryr') != F.lit(0)), F.col('ecl_cl') + F.col('prlt')) \\\n",
        "            .otherwise(F.lit(0))) \\\n",
        "  .withColumn('ecl_m_rem_mig', \n",
        "            F.when((F.col('ctgy_dir') != F.lit('u')), F.col('ecl_cl') - F.col('ecl_op') - F.col('ecl_m_dd_r') \\\n",
        "            - F.col('ecl_m_dd_t') - F.col('ecl_m_rd_t_f') - F.col('ecl_m_rd_t') - F.col('ecl_m_rd_r') \\\n",
        "            - F.col('ecl_m_wof') - F.col('ecl_m_prm')) \\\n",
        "            .otherwise(F.lit(0))) \\\n",
        "  .withColumn('ecl_m_rem', \n",
        "            F.when((F.col('ctgy_dir') == F.lit('u')), F.col('ecl_cl') - F.col('ecl_op') - F.col('ecl_m_dd_r') \\\n",
        "            - F.col('ecl_m_dd_t') - F.col('ecl_m_rd_t_f') - F.col('ecl_m_rd_t') - F.col('ecl_m_rd_r') \\\n",
        "            - F.col('ecl_m_wof') - F.col('ecl_m_prm')) \\\n",
        "            .otherwise(F.lit(0))) \\\n",
        "  .withColumn('ecl_tfr_pre', F.col('ecl_op') + F.col('ecl_m_dd_r') + F.col('ecl_m_dd_t') + F.col('ecl_m_rd_t_f') + F.col('ecl_m_rd_t') + F.col('ecl_m_rd_r')) \\\n",
        "  .withColumn('ecl_m_tfr_o', \n",
        "            F.when((F.col('ctgy_dir') != F.lit('u')) & (F.col('pre_post') == F.lit('pre')), F.col('ecl_tfr_pre')) \\\n",
        "            .when((F.col('ctgy_dir') != F.lit('u')) & (F.col('pre_post') == F.lit('post')), F.col('ecl_op')) \\\n",
        "            .otherwise(F.lit(0))) \\\n",
        "  .withColumn('ecl_m_tfr_i', -F.col('ecl_m_tfr_o')) \\\n",
        "  .na.fill(0) \\\n",
        "\n",
        "# Show a sample\n",
        "ifrs9_wide2[ifrs9_wide2.cust.isin('AAPL', 'ORCL')].show(50)\n",
        "\n",
        "#  USEFUL\n",
        "\n",
        "# OPENING BALANCE FROM PRIOR YEAR\n",
        "# .withColumn('bal_pr', F.when((F.col('date') == min_date[0]), F.col('bal')).otherwise(None)) \\\n",
        "\n",
        "# FILL FORWARD\n",
        "# .withColumn('bal_pr', F.last('bal_pr', ignorenulls = True).over(W.partitionBy('cust').orderBy('date'))) \\\n",
        "\n",
        "# ALTERNATE FILTERING\n",
        "# bln_ctgy.filter(F.col('cust') == 'AAPL').show(50)\n",
        "# bln_ctgy.where(F.col('cust').isin({'AAPL', 'ORCL'})).show(50)"
      ],
      "execution_count": 0,
      "outputs": [
        {
          "output_type": "stream",
          "text": [
            "+----+----------+--------------------+-----+--------+-------------------+----+---+----+----+--------+------+----+----+-------+--------+--------+-------------------+-------+--------+-------+-------+--------+-----------+--------+-----------+--------------------+--------------------+-------+---------+--------+--------+---------+----------+----------+------------+----------+----------+---------+-----------+---------+-----------+-----------+----------+----------+------------+----------+----------+---------+---------+-------------------+-------------------+-------------------+-------------------+------------------+\n",
            "|cust|      date|                unit|stage|  gca_cl|             ecl_cl|year|ccy|type|poci|  bal_cl|wof_cl|pryr|prlt|ctgy_cl|  gca_op|  bal_op|             ecl_op|ctgy_op|  bal_pr|wof_cum|  bal_y|bal_y_dd|bal_y_dd_pr|bal_y_rd|bal_y_rd_pr|            cover_cl|            cover_op|  cover|incr_decr|ctgy_dir|pre_post|pre_stage|gca_m_dd_r|gca_m_dd_t|gca_m_rd_t_f|gca_m_rd_t|gca_m_rd_r|gca_m_oth|gca_tfr_pre|gca_m_wof|gca_m_tfr_o|gca_m_tfr_i|ecl_m_dd_r|ecl_m_dd_t|ecl_m_rd_t_f|ecl_m_rd_t|ecl_m_rd_r|ecl_m_wof|ecl_m_prm|      ecl_m_rem_mig|          ecl_m_rem|        ecl_tfr_pre|        ecl_m_tfr_o|       ecl_m_tfr_i|\n",
            "+----+----------+--------------------+-----+--------+-------------------+----+---+----+----+--------+------+----+----+-------+--------+--------+-------------------+-------+--------+-------+-------+--------+-----------+--------+-----------+--------------------+--------------------+-------+---------+--------+--------+---------+----------+----------+------------+----------+----------+---------+-----------+---------+-----------+-----------+----------+----------+------------+----------+----------+---------+---------+-------------------+-------------------+-------------------+-------------------+------------------+\n",
            "|AAPL|2016-12-31|oa.ta_nca.ta_rev....|  1.0| 87032.0|-1612.9299999999923|2016|USD|term|   N| 87032.0|     0|   0|   0|      1|     0.0|     0.0|                0.0|      0|     0.0|      0|    0.0|     0.0|        0.0|     0.0|        0.0|0.018532608695652087|                 0.0|0.01853|     unch|       u|    post|        0|       0.0|       0.0|         0.0|       0.0|       0.0|      0.0|        0.0|     -0.0|        0.0|       -0.0|       0.0|       0.0|         0.0|       0.0|       0.0|      0.0|      0.0|                0.0|                0.0|                0.0|                0.0|              -0.0|\n",
            "|AAPL|2017-01-31|rev.vol_oa.ta_da....|  1.0| 87032.0|-314.12823779193207|2017|USD|term|   N| 87032.0|     0|   0|   0|      1| 87032.0| 87032.0|-1612.9299999999923|      1| 87032.0|      0|    0.0|     0.0|        0.0|     0.0|        0.0|0.003609341825902...|0.018532608695652087|0.01853|     unch|       u|    post|        1|       0.0|       0.0|         0.0|       0.0|       0.0|      0.0|    87032.0|     -0.0|        0.0|       -0.0|       0.0|       0.0|         0.0|       0.0|       0.0|      0.0|      0.0|                0.0| 1298.8017622080602|-1612.9299999999923|                0.0|              -0.0|\n",
            "|AAPL|2017-02-28|rev.vol_oa.ta_da....|  1.0| 87549.0| -372.4997093023264|2017|USD|term|   N| 87549.0|     0|   0|   0|      1| 87032.0| 87032.0|-314.12823779193207|      1| 87032.0|      0|  517.0|   517.0|        0.0|     0.0|        0.0| 0.00425475687103595|0.003609341825902...|0.00361|     incr|       u|    post|        1|       0.0|     517.0|         0.0|       0.0|       0.0|      0.0|    87549.0|     -0.0|        0.0|       -0.0|       0.0|     -1.87|         0.0|       0.0|       0.0|      0.0|      0.0|                0.0| -56.50147151039432|-315.99823779193207|                0.0|              -0.0|\n",
            "|AAPL|2017-03-31|rev.vol_oa.ta_da....|  1.0| 87549.0| -397.7385494155158|2017|USD|term|   N| 87549.0|     0|   0|   0|      1| 87549.0| 87549.0| -372.4997093023264|      1| 87032.0|      0|  517.0|   517.0|      517.0|     0.0|        0.0|0.004543039319872...| 0.00425475687103595|0.00425|     unch|       u|    post|        1|       0.0|       0.0|         0.0|       0.0|       0.0|      0.0|    87549.0|     -0.0|        0.0|       -0.0|       0.0|       0.0|         0.0|       0.0|       0.0|      0.0|      0.0|                0.0| -25.23884011318944| -372.4997093023264|                0.0|              -0.0|\n",
            "|AAPL|2017-04-30|rev.vol_oa.ta_da....|  1.0| 87549.0|-322.96472929936306|2017|USD|term|   N| 87549.0|     0|   0|   0|      1| 87549.0| 87549.0| -397.7385494155158|      1| 87032.0|      0|  517.0|   517.0|      517.0|     0.0|        0.0| 0.00368895966029724|0.004543039319872...|0.00454|     unch|       u|    post|        1|       0.0|       0.0|         0.0|       0.0|       0.0|      0.0|    87549.0|     -0.0|        0.0|       -0.0|       0.0|       0.0|         0.0|       0.0|       0.0|      0.0|      0.0|                0.0|  74.77382011615276| -397.7385494155158|                0.0|              -0.0|\n",
            "|AAPL|2017-05-31|rev.vol_oa.ta_da....|  1.0| 98522.0| -400.9616279069775|2017|USD|term|   N| 98522.0|     0|   0|   0|      1| 87549.0| 87549.0|-322.96472929936306|      1| 87032.0|      0|11490.0| 11490.0|      517.0|     0.0|        0.0|0.004069767441860473| 0.00368895966029724|0.00369|     incr|       u|    post|        1|       0.0|   10973.0|         0.0|       0.0|       0.0|      0.0|    98522.0|     -0.0|        0.0|       -0.0|       0.0|    -40.49|         0.0|       0.0|       0.0|      0.0|      0.0|                0.0| -37.50689860761447|-363.45472929936307|                0.0|              -0.0|\n",
            "|AAPL|2017-06-30|rev.vol_oa.ta_da....|  1.0| 98522.0| -511.9382820784743|2017|USD|term|   N| 98522.0|     0|   0|   0|      1| 98522.0| 98522.0| -400.9616279069775|      1| 87032.0|      0|11490.0| 11490.0|    11490.0|     0.0|        0.0|0.005196182396606588|0.004069767441860473|0.00407|     unch|       u|    post|        1|       0.0|       0.0|         0.0|       0.0|       0.0|      0.0|    98522.0|     -0.0|        0.0|       -0.0|       0.0|       0.0|         0.0|       0.0|       0.0|      0.0|      0.0|                0.0|-110.97665417149676| -400.9616279069775|                0.0|              -0.0|\n",
            "|AAPL|2017-07-31|rev.vol_np.ta_da....|  1.0| 98522.0| -1237.919210799581|2017|USD|term|   N| 98522.0|     0|   0|   0|      1| 98522.0| 98522.0| -511.9382820784743|      1| 87032.0|      0|11490.0| 11490.0|    11490.0|     0.0|        0.0|0.012564901349948041|0.005196182396606588| 0.0052|     unch|       u|    post|        1|       0.0|       0.0|         0.0|       0.0|       0.0|      0.0|    98522.0|     -0.0|        0.0|       -0.0|       0.0|       0.0|         0.0|       0.0|       0.0|      0.0|      0.0|                0.0| -725.9809287211067| -511.9382820784743|                0.0|              -0.0|\n",
            "|AAPL|2017-08-31|rev.vol_np.ta_da....|  1.0|108339.0| -1502.839130434783|2017|USD|term|   N|108339.0|     0|   0|   0|      1| 98522.0| 98522.0| -1237.919210799581|      1| 87032.0|      0|21307.0| 21307.0|    11490.0|     0.0|        0.0| 0.01387163561076605|0.012564901349948041|0.01256|     incr|       u|    post|        1|       0.0|    9817.0|         0.0|       0.0|       0.0|      0.0|   108339.0|     -0.0|        0.0|       -0.0|       0.0|    -123.3|         0.0|       0.0|       0.0|      0.0|      0.0|                0.0|-141.61991963520217|-1361.2192107995809|                0.0|              -0.0|\n",
            "|AAPL|2017-09-30|rev.vol_np.ta_da....|  1.0|108339.0| -663.7591900311504|2017|USD|term|   N|108339.0|     0|   0|   0|      1|108339.0|108339.0| -1502.839130434783|      1| 87032.0|      0|21307.0| 21307.0|    21307.0|     0.0|        0.0|0.006126687435098...| 0.01387163561076605|0.01387|     unch|       u|    post|        1|       0.0|       0.0|         0.0|       0.0|       0.0|      0.0|   108339.0|     -0.0|        0.0|       -0.0|       0.0|       0.0|         0.0|       0.0|       0.0|      0.0|      0.0|                0.0|  839.0799404036327| -1502.839130434783|                0.0|              -0.0|\n",
            "|AAPL|2017-10-31|rev.vol_np.ta_da....|  1.0|108339.0|-1371.0952282157646|2017|USD|term|   N|108339.0|     0|   0|   0|      1|108339.0|108339.0| -663.7591900311504|      1| 87032.0|      0|21307.0| 21307.0|    21307.0|     0.0|        0.0| 0.01265560165975101|0.006126687435098...|0.00613|     unch|       u|    post|        1|       0.0|       0.0|         0.0|       0.0|       0.0|      0.0|   108339.0|     -0.0|        0.0|       -0.0|       0.0|       0.0|         0.0|       0.0|       0.0|      0.0|      0.0|                0.0| -707.3360381846142| -663.7591900311504|                0.0|              -0.0|\n",
            "|AAPL|2017-11-30|rev.vol_np.ta_da....|  1.0|115680.0| -675.1983471074362|2017|USD|term|   N|115680.0|     0|   0|   0|      1|108339.0|108339.0|-1371.0952282157646|      1| 87032.0|      0|28648.0| 28648.0|    21307.0|     0.0|        0.0|0.005836776859504...| 0.01265560165975101|0.01266|     incr|       u|    post|        1|       0.0|    7341.0|         0.0|       0.0|       0.0|      0.0|   115680.0|     -0.0|        0.0|       -0.0|       0.0|    -92.94|         0.0|       0.0|       0.0|      0.0|      0.0|                0.0|  788.8368811083283|-1464.0352282157646|                0.0|              -0.0|\n",
            "|AAPL|2017-12-31|rev.vol_np.ta_da....|  1.0|115680.0|  -581.999999999999|2017|USD|term|   N|115680.0|     0|   0|   0|      1|115680.0|115680.0| -675.1983471074362|      1| 87032.0|      0|28648.0| 28648.0|    28648.0|     0.0|        0.0|0.005031120331950198|0.005836776859504...|0.00584|     unch|       u|    post|        1|       0.0|       0.0|         0.0|       0.0|       0.0|      0.0|   115680.0|     -0.0|        0.0|       -0.0|       0.0|       0.0|         0.0|       0.0|       0.0|      0.0|      0.0|                0.0|  93.19834710743726| -675.1983471074362|                0.0|              -0.0|\n",
            "|AAPL|2018-01-31|oa.ta_np.ta_da.ta...|  2.0|115680.0|  -6080.31147540978|2018|USD|term|   N|115680.0|     0|   0|   0|      2|115680.0|115680.0|  -581.999999999999|      1|115680.0|      0|    0.0|     0.0|    28648.0|     0.0|        0.0| 0.05256147540983558|0.005031120331950198|0.00503|     unch|       d|    post|        1|       0.0|       0.0|         0.0|       0.0|       0.0|      0.0|   115680.0|     -0.0|  -115680.0|   115680.0|       0.0|       0.0|         0.0|       0.0|       0.0|      0.0|      0.0|-5498.3114754097805|                0.0|  -581.999999999999|  -581.999999999999|  581.999999999999|\n",
            "|AAPL|2018-02-28|oa.ta_np.ta_da.ta...|  2.0|122400.0| -6983.558282208551|2018|USD|term|   N|122400.0|     0|   0|   0|      2|115680.0|115680.0|  -6080.31147540978|      2|115680.0|      0| 6720.0|  6720.0|        0.0|     0.0|        0.0|0.057055214723926065| 0.05256147540983558|0.05256|     incr|       u|    post|        2|       0.0|    6720.0|         0.0|       0.0|       0.0|      0.0|   122400.0|     -0.0|        0.0|       -0.0|       0.0|    -353.2|         0.0|       0.0|       0.0|      0.0|      0.0|                0.0| -550.0468067987711| -6433.511475409779|                0.0|              -0.0|\n",
            "|AAPL|2018-03-31|oa.ta_np.ta_da.ta...|  2.0|122400.0| -6786.036960985565|2018|USD|term|   N|122400.0|     0|   0|   0|      2|122400.0|122400.0| -6983.558282208551|      2|115680.0|      0| 6720.0|  6720.0|     6720.0|     0.0|        0.0|0.055441478439424555|0.057055214723926065|0.05706|     unch|       u|    post|        2|       0.0|       0.0|         0.0|       0.0|       0.0|      0.0|   122400.0|     -0.0|        0.0|       -0.0|       0.0|       0.0|         0.0|       0.0|       0.0|      0.0|      0.0|                0.0| 197.52132122298553| -6983.558282208551|                0.0|              -0.0|\n",
            "|AAPL|2018-04-30|oa.ta_np.ta_da.ta...|  2.0|122400.0| -6947.704918032722|2018|USD|term|   N|122400.0|     0|   0|   0|      2|122400.0|122400.0| -6786.036960985565|      2|115680.0|      0| 6720.0|  6720.0|     6720.0|     0.0|        0.0| 0.05676229508196669|0.055441478439424555|0.05544|     unch|       u|    post|        2|       0.0|       0.0|         0.0|       0.0|       0.0|      0.0|   122400.0|     -0.0|        0.0|       -0.0|       0.0|       0.0|         0.0|       0.0|       0.0|      0.0|      0.0|                0.0|-161.66795704715696| -6786.036960985565|                0.0|              -0.0|\n",
            "|AAPL|2018-05-31|oa.ta_np.ta_da.ta...|  2.0|121840.0| -6408.709480122286|2018|USD|term|   N|121840.0|     0|   0|   0|      2|122400.0|122400.0| -6947.704918032722|      2|115680.0|      0| 6160.0|  6160.0|     6720.0|     0.0|        0.0|0.052599388379204574| 0.05676229508196669|0.05676|     decr|       u|    post|        2|       0.0|       0.0|         0.0|    -560.0|       0.0|      0.0|   121840.0|     -0.0|        0.0|       -0.0|       0.0|       0.0|         0.0|     31.79|       0.0|      0.0|      0.0|                0.0|  507.2054379104365| -6915.914918032722|                0.0|              -0.0|\n",
            "|AAPL|2018-06-30|oa.ta_np.ta_da.ta...|  1.0|121840.0| -5973.527123848531|2018|USD|term|   N|121840.0|     0|   0|   0|      1|121840.0|121840.0| -6408.709480122286|      2|115680.0|      0| 6160.0|  6160.0|     6160.0|     0.0|        0.0|0.049027635619242706|0.052599388379204574| 0.0526|     unch|       i|    post|        2|       0.0|       0.0|         0.0|       0.0|       0.0|      0.0|   121840.0|     -0.0|  -121840.0|   121840.0|       0.0|       0.0|         0.0|       0.0|       0.0|      0.0|      0.0|  435.1823562737545|                0.0| -6408.709480122286| -6408.709480122286| 6408.709480122286|\n",
            "|AAPL|2018-07-31|oa.ta_nca.ta_rev....|  1.0|121840.0|-1882.4280000000015|2018|USD|term|   N|121840.0|     0|   0|   0|      1|121840.0|121840.0| -5973.527123848531|      1|115680.0|      0| 6160.0|  6160.0|     6160.0|     0.0|        0.0|0.015450000000000012|0.049027635619242706|0.04903|     unch|       u|    post|        1|       0.0|       0.0|         0.0|       0.0|       0.0|      0.0|   121840.0|     -0.0|        0.0|       -0.0|       0.0|       0.0|         0.0|       0.0|       0.0|      0.0|      0.0|                0.0| 4091.0991238485294| -5973.527123848531|                0.0|              -0.0|\n",
            "|AAPL|2018-08-31|oa.ta_nca.ta_rev....|  1.0|114600.0|-2393.6889332003852|2018|USD|term|   N|114600.0|     0|   0|   0|      1|121840.0|121840.0|-1882.4280000000015|      1|115680.0|      0|-1080.0|     0.0|     6160.0| -1080.0|        0.0|0.020887337986041758|0.015450000000000012|0.01545|     decr|       u|    post|        1|       0.0|       0.0|         0.0|   -7240.0|       0.0|      0.0|   114600.0|     -0.0|        0.0|       -0.0|       0.0|       0.0|         0.0|    111.86|       0.0|      0.0|      0.0|                0.0| -623.1209332003838|-1770.5680000000016|                0.0|              -0.0|\n",
            "|AAPL|2018-09-30|oa.ta_nca.ta_rev....|  1.0|114600.0|-2569.6096096095894|2018|USD|term|   N|114600.0|     0|   0|   0|      1|114600.0|114600.0|-2393.6889332003852|      1|115680.0|      0|-1080.0|     0.0|        0.0| -1080.0|    -1080.0|0.022422422422422247|0.020887337986041758|0.02089|     unch|       u|    post|        1|       0.0|       0.0|         0.0|       0.0|       0.0|      0.0|   114600.0|     -0.0|        0.0|       -0.0|       0.0|       0.0|         0.0|       0.0|       0.0|      0.0|      0.0|                0.0|-175.92067640920413|-2393.6889332003852|                0.0|              -0.0|\n",
            "|AAPL|2018-10-31|oa.ta_nca.ta_rev....|  1.0|114600.0| -5529.249249249199|2018|USD|term|   N|114600.0|     0|   0|   0|      1|114600.0|114600.0|-2569.6096096095894|      1|115680.0|      0|-1080.0|     0.0|        0.0| -1080.0|    -1080.0| 0.04824824824824781|0.022422422422422247|0.02242|     unch|       u|    post|        1|       0.0|       0.0|         0.0|       0.0|       0.0|      0.0|   114600.0|     -0.0|        0.0|       -0.0|       0.0|       0.0|         0.0|       0.0|       0.0|      0.0|      0.0|                0.0|  -2959.63963963961|-2569.6096096095894|                0.0|              -0.0|\n",
            "|AAPL|2018-11-30|oa.ta_nca.ta_rev....|  1.0|114600.0| -5529.249249249199|2018|USD|term|   N|114600.0|     0|   0|   0|      1|114600.0|114600.0| -5529.249249249199|      1|115680.0|      0|-1080.0|     0.0|        0.0| -1080.0|    -1080.0| 0.04824824824824781| 0.04824824824824781|0.04825|     unch|       u|    post|        1|       0.0|       0.0|         0.0|       0.0|       0.0|      0.0|   114600.0|     -0.0|        0.0|       -0.0|       0.0|       0.0|         0.0|       0.0|       0.0|      0.0|      0.0|                0.0|                0.0| -5529.249249249199|                0.0|              -0.0|\n",
            "|AAPL|2018-12-31|oa.ta_nca.ta_rev....|  1.0|114600.0| -5529.249249249199|2018|USD|term|   N|114600.0|     0|   0|   0|      1|114600.0|114600.0| -5529.249249249199|      1|115680.0|      0|-1080.0|     0.0|        0.0| -1080.0|    -1080.0| 0.04824824824824781| 0.04824824824824781|0.04825|     unch|       u|    post|        1|       0.0|       0.0|         0.0|       0.0|       0.0|      0.0|   114600.0|     -0.0|        0.0|       -0.0|       0.0|       0.0|         0.0|       0.0|       0.0|      0.0|      0.0|                0.0|                0.0| -5529.249249249199|                0.0|              -0.0|\n",
            "|ORCL|2016-12-31|np.ta_oa.ta_da.ta...|  2.0| 54327.0|-2763.5908695652056|2016|USD|term|   N| 54327.0|     0|   0|   0|      2|     0.0|     0.0|                0.0|      0|     0.0|      0|    0.0|     0.0|        0.0|     0.0|        0.0| 0.05086956521739109|                 0.0|0.05087|     unch|       u|    post|        0|       0.0|       0.0|         0.0|       0.0|       0.0|      0.0|        0.0|     -0.0|        0.0|       -0.0|       0.0|       0.0|         0.0|       0.0|       0.0|      0.0|      0.0|                0.0|                0.0|                0.0|                0.0|              -0.0|\n",
            "|ORCL|2017-01-31|np.ta_td.ta_nca.t...|  1.0| 54327.0|           -2716.35|2017|USD|term|   N| 54327.0|     0|   0|   0|      1| 54327.0| 54327.0|-2763.5908695652056|      2| 54327.0|      0|    0.0|     0.0|        0.0|     0.0|        0.0|0.049999999999999996| 0.05086956521739109|0.05087|     unch|       i|    post|        2|       0.0|       0.0|         0.0|       0.0|       0.0|      0.0|    54327.0|     -0.0|   -54327.0|    54327.0|       0.0|       0.0|         0.0|       0.0|       0.0|      0.0|      0.0| 47.240869565205685|                0.0|-2763.5908695652056|-2763.5908695652056|2763.5908695652056|\n",
            "|ORCL|2017-02-28|np.ta_td.ta_nca.t...|  2.0| 54327.0| -3284.888372093052|2017|USD|term|   N| 54327.0|     0|   0|   0|      2| 54327.0| 54327.0|           -2716.35|      1| 54327.0|      0|    0.0|     0.0|        0.0|     0.0|        0.0|  0.0604651162790703|0.049999999999999996|   0.05|     unch|       d|    post|        1|       0.0|       0.0|         0.0|       0.0|       0.0|      0.0|    54327.0|     -0.0|   -54327.0|    54327.0|       0.0|       0.0|         0.0|       0.0|       0.0|      0.0|      0.0| -568.5383720930522|                0.0|           -2716.35|           -2716.35|           2716.35|\n",
            "|ORCL|2017-03-31|np.ta_td.ta_nca.t...|  1.0| 53967.0| -2638.131774707761|2017|USD|term|   N| 53967.0|     0|   0|   0|      1| 54327.0| 54327.0| -3284.888372093052|      2| 54327.0|      0| -360.0|     0.0|        0.0|  -360.0|        0.0| 0.04888416578108402|  0.0604651162790703|0.06047|     decr|       i|     pre|        2|       0.0|       0.0|         0.0|    -360.0|       0.0|      0.0|    53967.0|     -0.0|   -53967.0|    53967.0|       0.0|       0.0|         0.0|     21.77|       0.0|      0.0|      0.0|  624.9865973852911|                0.0| -3263.118372093052| -3263.118372093052| 3263.118372093052|\n",
            "|ORCL|2017-04-30|np.ta_td.ta_nca.t...|  1.0| 53967.0|-2549.3964968152864|2017|USD|term|   N| 53967.0|     0|   0|   0|      1| 53967.0| 53967.0| -2638.131774707761|      1| 54327.0|      0| -360.0|     0.0|        0.0|  -360.0|     -360.0|0.047239915074309975| 0.04888416578108402|0.04888|     unch|       u|    post|        1|       0.0|       0.0|         0.0|       0.0|       0.0|      0.0|    53967.0|     -0.0|        0.0|       -0.0|       0.0|       0.0|         0.0|       0.0|       0.0|      0.0|      0.0|                0.0|  88.73527789247464| -2638.131774707761|                0.0|              -0.0|\n",
            "|ORCL|2017-05-31|np.ta_td.ta_nca.t...|  2.0| 53967.0|-2840.9689217759224|2017|USD|term|   N| 53967.0|     0|   0|   0|      2| 53967.0| 53967.0|-2549.3964968152864|      1| 54327.0|      0| -360.0|     0.0|        0.0|  -360.0|     -360.0|0.052642706131078666|0.047239915074309975|0.04724|     unch|       d|    post|        1|       0.0|       0.0|         0.0|       0.0|       0.0|      0.0|    53967.0|     -0.0|   -53967.0|    53967.0|       0.0|       0.0|         0.0|       0.0|       0.0|      0.0|      0.0|  -291.572424960636|                0.0|-2549.3964968152864|-2549.3964968152864|2549.3964968152864|\n",
            "|ORCL|2017-06-30|np.ta_td.ta_nca.t...|  2.0| 57909.0|-3285.3992576882188|2017|USD|term|   N| 57909.0|     0|   0|   0|      2| 53967.0| 53967.0|-2840.9689217759224|      2| 54327.0|      0| 3582.0|  3582.0|        0.0|     0.0|     -360.0| 0.05673382820784712|0.052642706131078666|0.05264|     incr|       u|    post|        2|       0.0|    3942.0|         0.0|       0.0|       0.0|      0.0|    57909.0|     -0.0|        0.0|       -0.0|       0.0|   -207.51|         0.0|       0.0|       0.0|      0.0|      0.0|                0.0|-236.92033591229642|-3048.4789217759226|                0.0|              -0.0|\n",
            "|ORCL|2017-07-31|rev.ta_np.ta_nca....|  2.0| 57909.0| -3223.180062305305|2017|USD|term|   N| 57909.0|     0|   0|   0|      2| 57909.0| 57909.0|-3285.3992576882188|      2| 54327.0|      0| 3582.0|  3582.0|     3582.0|     0.0|        0.0| 0.05565939771547264| 0.05673382820784712|0.05673|     unch|       u|    post|        2|       0.0|       0.0|         0.0|       0.0|       0.0|      0.0|    57909.0|     -0.0|        0.0|       -0.0|       0.0|       0.0|         0.0|       0.0|       0.0|      0.0|      0.0|                0.0|  62.21919538291377|-3285.3992576882188|                0.0|              -0.0|\n",
            "|ORCL|2017-08-31|rev.ta_np.ta_nca....|  2.0| 57909.0|-3231.1543478261187|2017|USD|term|   N| 57909.0|     0|   0|   0|      2| 57909.0| 57909.0| -3223.180062305305|      2| 54327.0|      0| 3582.0|  3582.0|     3582.0|     0.0|        0.0| 0.05579710144927591| 0.05565939771547264|0.05566|     unch|       u|    post|        2|       0.0|       0.0|         0.0|       0.0|       0.0|      0.0|    57909.0|     -0.0|        0.0|       -0.0|       0.0|       0.0|         0.0|       0.0|       0.0|      0.0|      0.0|                0.0| -7.974285520813737| -3223.180062305305|                0.0|              -0.0|\n",
            "|ORCL|2017-09-30|rev.ta_np.ta_nca....|  2.0| 53291.0| -3054.686604361376|2017|USD|term|   N| 53291.0|     0|   0|   0|      2| 57909.0| 57909.0|-3231.1543478261187|      2| 54327.0|      0|-1036.0|     0.0|     3582.0| -1036.0|        0.0|  0.0573208722741434| 0.05579710144927591| 0.0558|     decr|       u|    post|        2|       0.0|       0.0|         0.0|   -4618.0|       0.0|      0.0|    53291.0|     -0.0|        0.0|       -0.0|       0.0|       0.0|         0.0|    257.68|       0.0|      0.0|      0.0|                0.0| -81.21225653525715| -2973.474347826119|                0.0|              -0.0|\n",
            "|ORCL|2017-10-31|rev.ta_np.ta_nca....|  2.0| 53291.0|-3206.3049792531024|2017|USD|term|   N| 53291.0|     0|   0|   0|      2| 53291.0| 53291.0| -3054.686604361376|      2| 54327.0|      0|-1036.0|     0.0|        0.0| -1036.0|    -1036.0| 0.06016597510373426|  0.0573208722741434|0.05732|     unch|       u|    post|        2|       0.0|       0.0|         0.0|       0.0|       0.0|      0.0|    53291.0|     -0.0|        0.0|       -0.0|       0.0|       0.0|         0.0|       0.0|       0.0|      0.0|      0.0|                0.0| -151.6183748917265| -3054.686604361376|                0.0|              -0.0|\n",
            "|ORCL|2017-11-30|rev.ta_np.ta_nca....|  2.0| 53291.0|-3259.1190082644725|2017|USD|term|   N| 53291.0|     0|   0|   0|      2| 53291.0| 53291.0|-3206.3049792531024|      2| 54327.0|      0|-1036.0|     0.0|        0.0| -1036.0|    -1036.0| 0.06115702479338861| 0.06016597510373426|0.06017|     unch|       u|    post|        2|       0.0|       0.0|         0.0|       0.0|       0.0|      0.0|    53291.0|     -0.0|        0.0|       -0.0|       0.0|       0.0|         0.0|       0.0|       0.0|      0.0|      0.0|                0.0| -52.81402901137017|-3206.3049792531024|                0.0|              -0.0|\n",
            "|ORCL|2017-12-31|rev.ta_np.ta_nca....|  2.0| 60669.0|-3184.4931535269616|2017|USD|term|   N| 60669.0|     0|   0|   0|      2| 53291.0| 53291.0|-3259.1190082644725|      2| 54327.0|      0| 6342.0|  6342.0|        0.0|     0.0|    -1036.0|0.052489626556016446| 0.06115702479338861|0.06116|     incr|       u|    post|        2|       0.0|    7378.0|         0.0|       0.0|       0.0|      0.0|    60669.0|     -0.0|        0.0|       -0.0|       0.0|   -451.24|         0.0|       0.0|       0.0|      0.0|      0.0|                0.0|   525.865854737511|-3710.3590082644723|                0.0|              -0.0|\n",
            "|ORCL|2018-01-31|td.ta_ncl.ta_nca....|  2.0| 60669.0|-3897.4859631147156|2018|USD|term|   N| 60669.0|     0|   0|   0|      2| 60669.0| 60669.0|-3184.4931535269616|      2| 60669.0|      0|    0.0|     0.0|     6342.0|     0.0|        0.0| 0.06424180327868789|0.052489626556016446|0.05249|     unch|       u|    post|        2|       0.0|       0.0|         0.0|       0.0|       0.0|      0.0|    60669.0|     -0.0|        0.0|       -0.0|       0.0|       0.0|         0.0|       0.0|       0.0|      0.0|      0.0|                0.0|  -712.992809587754|-3184.4931535269616|                0.0|              -0.0|\n",
            "|ORCL|2018-02-28|td.ta_ncl.ta_nca....|  2.0| 60669.0| -8808.791411042963|2018|USD|term|   N| 60669.0|     0|   0|   0|      2| 60669.0| 60669.0|-3897.4859631147156|      2| 60669.0|      0|    0.0|     0.0|        0.0|     0.0|        0.0| 0.14519427402863017| 0.06424180327868789|0.06424|     unch|       u|    post|        2|       0.0|       0.0|         0.0|       0.0|       0.0|      0.0|    60669.0|     -0.0|        0.0|       -0.0|       0.0|       0.0|         0.0|       0.0|       0.0|      0.0|      0.0|                0.0| -4911.305447928247|-3897.4859631147156|                0.0|              -0.0|\n",
            "|ORCL|2018-03-31|td.ta_ncl.ta_nca....|  2.0| 60715.0| -8751.936344969114|2018|USD|term|   N| 60715.0|     0|   0|   0|      2| 60669.0| 60669.0| -8808.791411042963|      2| 60669.0|      0|   46.0|    46.0|        0.0|     0.0|        0.0|  0.1441478439425037| 0.14519427402863017|0.14519|     incr|       u|    post|        2|       0.0|      46.0|         0.0|       0.0|       0.0|      0.0|    60715.0|     -0.0|        0.0|       -0.0|       0.0|     -6.68|         0.0|       0.0|       0.0|      0.0|      0.0|                0.0|  63.53506607384923| -8815.471411042963|                0.0|              -0.0|\n",
            "|ORCL|2018-04-30|td.ta_ncl.ta_nca....|  2.0| 60715.0|  -8572.26127049172|2018|USD|term|   N| 60715.0|     0|   0|   0|      2| 60715.0| 60715.0| -8751.936344969114|      2| 60669.0|      0|   46.0|    46.0|       46.0|     0.0|        0.0| 0.14118852459016254|  0.1441478439425037|0.14415|     unch|       u|    post|        2|       0.0|       0.0|         0.0|       0.0|       0.0|      0.0|    60715.0|     -0.0|        0.0|       -0.0|       0.0|       0.0|         0.0|       0.0|       0.0|      0.0|      0.0|                0.0| 179.67507447739445| -8751.936344969114|                0.0|              -0.0|\n",
            "|ORCL|2018-05-31|td.ta_ncl.ta_nca....|  2.0| 60715.0| -8392.409785932769|2018|USD|term|   N| 60715.0|     0|   0|   0|      2| 60715.0| 60715.0|  -8572.26127049172|      2| 60669.0|      0|   46.0|    46.0|       46.0|     0.0|        0.0| 0.13822629969419037| 0.14118852459016254|0.14119|     unch|       u|    post|        2|       0.0|       0.0|         0.0|       0.0|       0.0|      0.0|    60715.0|     -0.0|        0.0|       -0.0|       0.0|       0.0|         0.0|       0.0|       0.0|      0.0|      0.0|                0.0|  179.8514845589507|  -8572.26127049172|                0.0|              -0.0|\n",
            "|ORCL|2018-06-30|td.ta_ncl.ta_nca....|  2.0| 60619.0| -8549.946980552735|2018|USD|term|   N| 60619.0|    96|   0|   0|      3| 60715.0| 60715.0| -8392.409785932769|      2| 60669.0|     96|   46.0|    46.0|       46.0|     0.0|        0.0| 0.14104401228249783| 0.13822629969419037|0.13823|     decr|       d|    post|        2|       0.0|       0.0|         0.0|       0.0|       0.0|      0.0|    60715.0|    -96.0|   -60715.0|    60715.0|       0.0|       0.0|         0.0|       0.0|       0.0|     96.0|      0.0| -253.5371946199666|                0.0| -8392.409785932769| -8392.409785932769| 8392.409785932769|\n",
            "|ORCL|2018-07-31|ncl.ta_td.ta_nca....|  2.0| 60619.0| -8389.669600000007|2018|USD|term|   N| 60619.0|     0|   0|   0|      2| 60619.0| 60619.0| -8549.946980552735|      3| 60669.0|     96|   46.0|    46.0|       46.0|     0.0|        0.0|  0.1384000000000001| 0.14104401228249783|0.14104|     unch|       i|    post|        3|       0.0|       0.0|         0.0|       0.0|       0.0|      0.0|    60619.0|     -0.0|   -60619.0|    60619.0|       0.0|       0.0|         0.0|       0.0|       0.0|      0.0|      0.0| 160.27738055272857|                0.0| -8549.946980552735| -8549.946980552735| 8549.946980552735|\n",
            "|ORCL|2018-08-31|ncl.ta_td.ta_nca....|  2.0| 60619.0| -8098.650049850393|2018|USD|term|   N| 60619.0|     0|   0|   0|      2| 60619.0| 60619.0| -8389.669600000007|      2| 60669.0|     96|   46.0|    46.0|       46.0|     0.0|        0.0|  0.1335992023928206|  0.1384000000000001| 0.1384|     unch|       u|    post|        2|       0.0|       0.0|         0.0|       0.0|       0.0|      0.0|    60619.0|     -0.0|        0.0|       -0.0|       0.0|       0.0|         0.0|       0.0|       0.0|      0.0|      0.0|                0.0|  291.0195501496137| -8389.669600000007|                0.0|              -0.0|\n",
            "|ORCL|2018-09-30|ncl.ta_td.ta_nca....|  1.0| 60619.0|-1280.3412412412322|2018|USD|term|   N| 60619.0|     0|   0|   0|      1| 60619.0| 60619.0| -8098.650049850393|      2| 60669.0|     96|   46.0|    46.0|       46.0|     0.0|        0.0| 0.02112112112112097|  0.1335992023928206| 0.1336|     unch|       i|    post|        2|       0.0|       0.0|         0.0|       0.0|       0.0|      0.0|    60619.0|     -0.0|   -60619.0|    60619.0|       0.0|       0.0|         0.0|       0.0|       0.0|      0.0|      0.0|  6818.308808609161|                0.0| -8098.650049850393| -8098.650049850393| 8098.650049850393|\n",
            "|ORCL|2018-10-31|ncl.ta_td.ta_nca....|  1.0| 60619.0|-2949.0324324324056|2018|USD|term|   N| 60619.0|     0|   0|   0|      1| 60619.0| 60619.0|-1280.3412412412322|      1| 60669.0|     96|   46.0|    46.0|       46.0|     0.0|        0.0| 0.04864864864864821| 0.02112112112112097|0.02112|     unch|       u|    post|        1|       0.0|       0.0|         0.0|       0.0|       0.0|      0.0|    60619.0|     -0.0|        0.0|       -0.0|       0.0|       0.0|         0.0|       0.0|       0.0|      0.0|      0.0|                0.0|-1668.6911911911734|-1280.3412412412322|                0.0|              -0.0|\n",
            "|ORCL|2018-11-30|ncl.ta_td.ta_nca....|  1.0| 60619.0|-2949.0324324324056|2018|USD|term|   N| 60619.0|     0|   0|   0|      1| 60619.0| 60619.0|-2949.0324324324056|      1| 60669.0|     96|   46.0|    46.0|       46.0|     0.0|        0.0| 0.04864864864864821| 0.04864864864864821|0.04865|     unch|       u|    post|        1|       0.0|       0.0|         0.0|       0.0|       0.0|      0.0|    60619.0|     -0.0|        0.0|       -0.0|       0.0|       0.0|         0.0|       0.0|       0.0|      0.0|      0.0|                0.0|                0.0|-2949.0324324324056|                0.0|              -0.0|\n",
            "|ORCL|2018-12-31|ncl.ta_td.ta_nca....|  1.0| 60619.0|-2949.0324324324056|2018|USD|term|   N| 60619.0|     0|   0|   0|      1| 60619.0| 60619.0|-2949.0324324324056|      1| 60669.0|     96|   46.0|    46.0|       46.0|     0.0|        0.0| 0.04864864864864821| 0.04864864864864821|0.04865|     unch|       u|    post|        1|       0.0|       0.0|         0.0|       0.0|       0.0|      0.0|    60619.0|     -0.0|        0.0|       -0.0|       0.0|       0.0|         0.0|       0.0|       0.0|      0.0|      0.0|                0.0|                0.0|-2949.0324324324056|                0.0|              -0.0|\n",
            "+----+----------+--------------------+-----+--------+-------------------+----+---+----+----+--------+------+----+----+-------+--------+--------+-------------------+-------+--------+-------+-------+--------+-----------+--------+-----------+--------------------+--------------------+-------+---------+--------+--------+---------+----------+----------+------------+----------+----------+---------+-----------+---------+-----------+-----------+----------+----------+------------+----------+----------+---------+---------+-------------------+-------------------+-------------------+-------------------+------------------+\n",
            "\n"
          ],
          "name": "stdout"
        }
      ]
    },
    {
      "cell_type": "code",
      "metadata": {
        "id": "7UJGoX3vQh6n",
        "colab_type": "code",
        "outputId": "0b23bfce-df1d-4c6a-a68d-8dede2c48e8f",
        "colab": {
          "base_uri": "https://localhost:8080/",
          "height": 1000
        }
      },
      "source": [
        "col_list = [\n",
        "  'date'\n",
        "  ,'cust'\n",
        "  ,'ctgy_cl'\n",
        "  ,'ctgy_op'\n",
        "  ,'pre_post'\n",
        "  ,'gca_cl'\n",
        "  ,'ecl_cl'\n",
        "  ,'gca_op'\n",
        "  ,'ecl_op'\n",
        "  ,'gca_m_dd_r'\n",
        "  ,'gca_m_dd_t'\n",
        "  ,'gca_m_rd_t_f'\n",
        "  ,'gca_m_rd_t'\n",
        "  ,'gca_m_rd_r'\n",
        "  ,'gca_m_oth'\n",
        "  ,'gca_m_wof'\n",
        "  ,'gca_m_tfr_o'\n",
        "  ,'gca_m_tfr_i'\n",
        "  ,'ecl_m_dd_r'\n",
        "  ,'ecl_m_dd_t'\n",
        "  ,'ecl_m_rd_t_f'\n",
        "  ,'ecl_m_rd_t'\n",
        "  ,'ecl_m_rd_r'\n",
        "  ,'ecl_m_wof'\n",
        "  ,'ecl_m_prm'\n",
        "  ,'ecl_m_rem_mig'\n",
        "  ,'ecl_m_rem'\n",
        "  ,'ecl_m_tfr_o'\n",
        "  ,'ecl_m_tfr_i'\n",
        "  ]\n",
        "  \n",
        "test = ifrs9_wide2[ifrs9_wide2.cust.isin('AAPL', 'ORCL')].na.fill(0).select(col_list)\n",
        "# You can also do this\n",
        "# test = ifrs9_wide2[ifrs9_wide2.cust.isin('AAPL', 'ORCL')].na.fill(0).select(test.columns[0:5])\n",
        "# or this\n",
        "# test = ifrs9_wide2[ifrs9_wide2.cust.isin('AAPL', 'ORCL')].na.fill(0).select('cust', 'date', 'unit', 'stage', 'gca_cl')\n",
        "\n",
        "test.show()\n",
        "test.printSchema()"
      ],
      "execution_count": 0,
      "outputs": [
        {
          "output_type": "stream",
          "text": [
            "+----------+----+-------+-------+--------+--------+-------------------+--------+-------------------+----------+----------+------------+----------+----------+---------+---------+-----------+-----------+----------+----------+------------+----------+----------+---------+---------+-------------------+-------------------+------------------+-----------------+\n",
            "|      date|cust|ctgy_cl|ctgy_op|pre_post|  gca_cl|             ecl_cl|  gca_op|             ecl_op|gca_m_dd_r|gca_m_dd_t|gca_m_rd_t_f|gca_m_rd_t|gca_m_rd_r|gca_m_oth|gca_m_wof|gca_m_tfr_o|gca_m_tfr_i|ecl_m_dd_r|ecl_m_dd_t|ecl_m_rd_t_f|ecl_m_rd_t|ecl_m_rd_r|ecl_m_wof|ecl_m_prm|      ecl_m_rem_mig|          ecl_m_rem|       ecl_m_tfr_o|      ecl_m_tfr_i|\n",
            "+----------+----+-------+-------+--------+--------+-------------------+--------+-------------------+----------+----------+------------+----------+----------+---------+---------+-----------+-----------+----------+----------+------------+----------+----------+---------+---------+-------------------+-------------------+------------------+-----------------+\n",
            "|2016-12-31|AAPL|      1|      0|    post| 87032.0|-1612.9299999999923|     0.0|                0.0|       0.0|       0.0|         0.0|       0.0|       0.0|      0.0|     -0.0|        0.0|       -0.0|       0.0|       0.0|         0.0|       0.0|       0.0|      0.0|      0.0|                0.0|                0.0|               0.0|             -0.0|\n",
            "|2017-01-31|AAPL|      1|      1|    post| 87032.0|-314.12823779193207| 87032.0|-1612.9299999999923|       0.0|       0.0|         0.0|       0.0|       0.0|      0.0|     -0.0|        0.0|       -0.0|       0.0|       0.0|         0.0|       0.0|       0.0|      0.0|      0.0|                0.0| 1298.8017622080602|               0.0|             -0.0|\n",
            "|2017-02-28|AAPL|      1|      1|    post| 87549.0| -372.4997093023264| 87032.0|-314.12823779193207|       0.0|     517.0|         0.0|       0.0|       0.0|      0.0|     -0.0|        0.0|       -0.0|       0.0|     -1.87|         0.0|       0.0|       0.0|      0.0|      0.0|                0.0| -56.50147151039432|               0.0|             -0.0|\n",
            "|2017-03-31|AAPL|      1|      1|    post| 87549.0| -397.7385494155158| 87549.0| -372.4997093023264|       0.0|       0.0|         0.0|       0.0|       0.0|      0.0|     -0.0|        0.0|       -0.0|       0.0|       0.0|         0.0|       0.0|       0.0|      0.0|      0.0|                0.0| -25.23884011318944|               0.0|             -0.0|\n",
            "|2017-04-30|AAPL|      1|      1|    post| 87549.0|-322.96472929936306| 87549.0| -397.7385494155158|       0.0|       0.0|         0.0|       0.0|       0.0|      0.0|     -0.0|        0.0|       -0.0|       0.0|       0.0|         0.0|       0.0|       0.0|      0.0|      0.0|                0.0|  74.77382011615276|               0.0|             -0.0|\n",
            "|2017-05-31|AAPL|      1|      1|    post| 98522.0| -400.9616279069775| 87549.0|-322.96472929936306|       0.0|   10973.0|         0.0|       0.0|       0.0|      0.0|     -0.0|        0.0|       -0.0|       0.0|    -40.49|         0.0|       0.0|       0.0|      0.0|      0.0|                0.0| -37.50689860761447|               0.0|             -0.0|\n",
            "|2017-06-30|AAPL|      1|      1|    post| 98522.0| -511.9382820784743| 98522.0| -400.9616279069775|       0.0|       0.0|         0.0|       0.0|       0.0|      0.0|     -0.0|        0.0|       -0.0|       0.0|       0.0|         0.0|       0.0|       0.0|      0.0|      0.0|                0.0|-110.97665417149676|               0.0|             -0.0|\n",
            "|2017-07-31|AAPL|      1|      1|    post| 98522.0| -1237.919210799581| 98522.0| -511.9382820784743|       0.0|       0.0|         0.0|       0.0|       0.0|      0.0|     -0.0|        0.0|       -0.0|       0.0|       0.0|         0.0|       0.0|       0.0|      0.0|      0.0|                0.0| -725.9809287211067|               0.0|             -0.0|\n",
            "|2017-08-31|AAPL|      1|      1|    post|108339.0| -1502.839130434783| 98522.0| -1237.919210799581|       0.0|    9817.0|         0.0|       0.0|       0.0|      0.0|     -0.0|        0.0|       -0.0|       0.0|    -123.3|         0.0|       0.0|       0.0|      0.0|      0.0|                0.0|-141.61991963520217|               0.0|             -0.0|\n",
            "|2017-09-30|AAPL|      1|      1|    post|108339.0| -663.7591900311504|108339.0| -1502.839130434783|       0.0|       0.0|         0.0|       0.0|       0.0|      0.0|     -0.0|        0.0|       -0.0|       0.0|       0.0|         0.0|       0.0|       0.0|      0.0|      0.0|                0.0|  839.0799404036327|               0.0|             -0.0|\n",
            "|2017-10-31|AAPL|      1|      1|    post|108339.0|-1371.0952282157646|108339.0| -663.7591900311504|       0.0|       0.0|         0.0|       0.0|       0.0|      0.0|     -0.0|        0.0|       -0.0|       0.0|       0.0|         0.0|       0.0|       0.0|      0.0|      0.0|                0.0| -707.3360381846142|               0.0|             -0.0|\n",
            "|2017-11-30|AAPL|      1|      1|    post|115680.0| -675.1983471074362|108339.0|-1371.0952282157646|       0.0|    7341.0|         0.0|       0.0|       0.0|      0.0|     -0.0|        0.0|       -0.0|       0.0|    -92.94|         0.0|       0.0|       0.0|      0.0|      0.0|                0.0|  788.8368811083283|               0.0|             -0.0|\n",
            "|2017-12-31|AAPL|      1|      1|    post|115680.0|  -581.999999999999|115680.0| -675.1983471074362|       0.0|       0.0|         0.0|       0.0|       0.0|      0.0|     -0.0|        0.0|       -0.0|       0.0|       0.0|         0.0|       0.0|       0.0|      0.0|      0.0|                0.0|  93.19834710743726|               0.0|             -0.0|\n",
            "|2018-01-31|AAPL|      2|      1|    post|115680.0|  -6080.31147540978|115680.0|  -581.999999999999|       0.0|       0.0|         0.0|       0.0|       0.0|      0.0|     -0.0|  -115680.0|   115680.0|       0.0|       0.0|         0.0|       0.0|       0.0|      0.0|      0.0|-5498.3114754097805|                0.0| -581.999999999999| 581.999999999999|\n",
            "|2018-02-28|AAPL|      2|      2|    post|122400.0| -6983.558282208551|115680.0|  -6080.31147540978|       0.0|    6720.0|         0.0|       0.0|       0.0|      0.0|     -0.0|        0.0|       -0.0|       0.0|    -353.2|         0.0|       0.0|       0.0|      0.0|      0.0|                0.0| -550.0468067987711|               0.0|             -0.0|\n",
            "|2018-03-31|AAPL|      2|      2|    post|122400.0| -6786.036960985565|122400.0| -6983.558282208551|       0.0|       0.0|         0.0|       0.0|       0.0|      0.0|     -0.0|        0.0|       -0.0|       0.0|       0.0|         0.0|       0.0|       0.0|      0.0|      0.0|                0.0| 197.52132122298553|               0.0|             -0.0|\n",
            "|2018-04-30|AAPL|      2|      2|    post|122400.0| -6947.704918032722|122400.0| -6786.036960985565|       0.0|       0.0|         0.0|       0.0|       0.0|      0.0|     -0.0|        0.0|       -0.0|       0.0|       0.0|         0.0|       0.0|       0.0|      0.0|      0.0|                0.0|-161.66795704715696|               0.0|             -0.0|\n",
            "|2018-05-31|AAPL|      2|      2|    post|121840.0| -6408.709480122286|122400.0| -6947.704918032722|       0.0|       0.0|         0.0|    -560.0|       0.0|      0.0|     -0.0|        0.0|       -0.0|       0.0|       0.0|         0.0|     31.79|       0.0|      0.0|      0.0|                0.0|  507.2054379104365|               0.0|             -0.0|\n",
            "|2018-06-30|AAPL|      1|      2|    post|121840.0| -5973.527123848531|121840.0| -6408.709480122286|       0.0|       0.0|         0.0|       0.0|       0.0|      0.0|     -0.0|  -121840.0|   121840.0|       0.0|       0.0|         0.0|       0.0|       0.0|      0.0|      0.0|  435.1823562737545|                0.0|-6408.709480122286|6408.709480122286|\n",
            "|2018-07-31|AAPL|      1|      1|    post|121840.0|-1882.4280000000015|121840.0| -5973.527123848531|       0.0|       0.0|         0.0|       0.0|       0.0|      0.0|     -0.0|        0.0|       -0.0|       0.0|       0.0|         0.0|       0.0|       0.0|      0.0|      0.0|                0.0| 4091.0991238485294|               0.0|             -0.0|\n",
            "+----------+----+-------+-------+--------+--------+-------------------+--------+-------------------+----------+----------+------------+----------+----------+---------+---------+-----------+-----------+----------+----------+------------+----------+----------+---------+---------+-------------------+-------------------+------------------+-----------------+\n",
            "only showing top 20 rows\n",
            "\n",
            "root\n",
            " |-- date: date (nullable = true)\n",
            " |-- cust: string (nullable = true)\n",
            " |-- ctgy_cl: integer (nullable = false)\n",
            " |-- ctgy_op: integer (nullable = true)\n",
            " |-- pre_post: string (nullable = false)\n",
            " |-- gca_cl: double (nullable = false)\n",
            " |-- ecl_cl: double (nullable = false)\n",
            " |-- gca_op: double (nullable = false)\n",
            " |-- ecl_op: double (nullable = false)\n",
            " |-- gca_m_dd_r: double (nullable = false)\n",
            " |-- gca_m_dd_t: double (nullable = false)\n",
            " |-- gca_m_rd_t_f: double (nullable = false)\n",
            " |-- gca_m_rd_t: double (nullable = false)\n",
            " |-- gca_m_rd_r: double (nullable = false)\n",
            " |-- gca_m_oth: double (nullable = false)\n",
            " |-- gca_m_wof: double (nullable = false)\n",
            " |-- gca_m_tfr_o: double (nullable = false)\n",
            " |-- gca_m_tfr_i: double (nullable = false)\n",
            " |-- ecl_m_dd_r: double (nullable = false)\n",
            " |-- ecl_m_dd_t: double (nullable = false)\n",
            " |-- ecl_m_rd_t_f: double (nullable = false)\n",
            " |-- ecl_m_rd_t: double (nullable = false)\n",
            " |-- ecl_m_rd_r: double (nullable = false)\n",
            " |-- ecl_m_wof: double (nullable = false)\n",
            " |-- ecl_m_prm: double (nullable = false)\n",
            " |-- ecl_m_rem_mig: double (nullable = false)\n",
            " |-- ecl_m_rem: double (nullable = false)\n",
            " |-- ecl_m_tfr_o: double (nullable = false)\n",
            " |-- ecl_m_tfr_i: double (nullable = false)\n",
            "\n"
          ],
          "name": "stdout"
        }
      ]
    },
    {
      "cell_type": "markdown",
      "metadata": {
        "id": "XrilBDObMgRW",
        "colab_type": "text"
      },
      "source": [
        "Unpivot.  Note that all of the columns in the `stack` function need to be off the same type."
      ]
    },
    {
      "cell_type": "code",
      "metadata": {
        "id": "OoxpA0mu51tX",
        "colab_type": "code",
        "outputId": "81b3fbff-36d5-49b5-a404-2b04c13ff0b7",
        "colab": {
          "base_uri": "https://localhost:8080/",
          "height": 460
        }
      },
      "source": [
        "test.selectExpr(\"date\", \"cust\", \"ctgy_cl\", \"ctgy_op\", \"pre_post\", \\\n",
        "  \"stack(24 \\\n",
        "    ,'gca_cl', gca_cl \\\n",
        "    ,'ecl_cl', ecl_cl \\\n",
        "    ,'gca_op', gca_op \\\n",
        "    ,'ecl_op', ecl_op \\\n",
        "    ,'gca_m_dd_r', gca_m_dd_r \\\n",
        "    ,'gca_m_dd_t', gca_m_dd_t \\\n",
        "    ,'gca_m_rd_t_f', gca_m_rd_t_f \\\n",
        "    ,'gca_m_rd_t', gca_m_rd_t \\\n",
        "    ,'gca_m_rd_r', gca_m_rd_r \\\n",
        "    ,'gca_m_oth', gca_m_oth \\\n",
        "    ,'gca_m_wof', gca_m_wof \\\n",
        "    ,'gca_m_tfr_o', gca_m_tfr_o \\\n",
        "    ,'gca_m_tfr_i', gca_m_tfr_i \\\n",
        "    ,'ecl_m_dd_r', ecl_m_dd_r \\\n",
        "    ,'ecl_m_dd_t', ecl_m_dd_t \\\n",
        "    ,'ecl_m_rd_t_f', ecl_m_rd_t_f \\\n",
        "    ,'ecl_m_rd_t', ecl_m_rd_t \\\n",
        "    ,'ecl_m_rd_r', ecl_m_rd_r \\\n",
        "    ,'ecl_m_wof', ecl_m_wof \\\n",
        "    ,'ecl_m_prm', ecl_m_prm \\\n",
        "    ,'ecl_m_rem_mig', ecl_m_rem_mig \\\n",
        "    ,'ecl_m_rem', ecl_m_rem \\\n",
        "    ,'ecl_m_tfr_o', ecl_m_tfr_o \\\n",
        "    ,'ecl_m_tfr_i', ecl_m_tfr_i \\\n",
        "    ) as (m_ment, tran_ccy)\" \\\n",
        "  ) \\\n",
        "  .where(\"tran_ccy is not null and tran_ccy != 0\") \\\n",
        "  .show()"
      ],
      "execution_count": 0,
      "outputs": [
        {
          "output_type": "stream",
          "text": [
            "+----------+----+-------+-------+--------+----------+-------------------+\n",
            "|      date|cust|ctgy_cl|ctgy_op|pre_post|    m_ment|           tran_ccy|\n",
            "+----------+----+-------+-------+--------+----------+-------------------+\n",
            "|2016-12-31|AAPL|      1|      0|    post|    gca_cl|            87032.0|\n",
            "|2016-12-31|AAPL|      1|      0|    post|    ecl_cl|-1612.9299999999923|\n",
            "|2017-01-31|AAPL|      1|      1|    post|    gca_cl|            87032.0|\n",
            "|2017-01-31|AAPL|      1|      1|    post|    ecl_cl|-314.12823779193207|\n",
            "|2017-01-31|AAPL|      1|      1|    post|    gca_op|            87032.0|\n",
            "|2017-01-31|AAPL|      1|      1|    post|    ecl_op|-1612.9299999999923|\n",
            "|2017-01-31|AAPL|      1|      1|    post| ecl_m_rem| 1298.8017622080602|\n",
            "|2017-02-28|AAPL|      1|      1|    post|    gca_cl|            87549.0|\n",
            "|2017-02-28|AAPL|      1|      1|    post|    ecl_cl| -372.4997093023264|\n",
            "|2017-02-28|AAPL|      1|      1|    post|    gca_op|            87032.0|\n",
            "|2017-02-28|AAPL|      1|      1|    post|    ecl_op|-314.12823779193207|\n",
            "|2017-02-28|AAPL|      1|      1|    post|gca_m_dd_t|              517.0|\n",
            "|2017-02-28|AAPL|      1|      1|    post|ecl_m_dd_t|              -1.87|\n",
            "|2017-02-28|AAPL|      1|      1|    post| ecl_m_rem| -56.50147151039432|\n",
            "|2017-03-31|AAPL|      1|      1|    post|    gca_cl|            87549.0|\n",
            "|2017-03-31|AAPL|      1|      1|    post|    ecl_cl| -397.7385494155158|\n",
            "|2017-03-31|AAPL|      1|      1|    post|    gca_op|            87549.0|\n",
            "|2017-03-31|AAPL|      1|      1|    post|    ecl_op| -372.4997093023264|\n",
            "|2017-03-31|AAPL|      1|      1|    post| ecl_m_rem| -25.23884011318944|\n",
            "|2017-04-30|AAPL|      1|      1|    post|    gca_cl|            87549.0|\n",
            "+----------+----+-------+-------+--------+----------+-------------------+\n",
            "only showing top 20 rows\n",
            "\n"
          ],
          "name": "stdout"
        }
      ]
    },
    {
      "cell_type": "markdown",
      "metadata": {
        "id": "xJyXaSqYLQXb",
        "colab_type": "text"
      },
      "source": [
        "Practice unpivoting per [this](https://stackoverflow.com/questions/42465568/unpivot-in-spark-sql-pyspark) SO answer"
      ]
    },
    {
      "cell_type": "code",
      "metadata": {
        "id": "AGz21Z0IM66m",
        "colab_type": "code",
        "outputId": "39e244a4-7851-4bf8-ab7b-2adab9c6419f",
        "colab": {
          "base_uri": "https://localhost:8080/",
          "height": 136
        }
      },
      "source": [
        "df = spark.createDataFrame([(\"G\",5,4,2,None),(\"H\",2,3,4,5)],list(\"AWXYZ\"))\n",
        "df.show()"
      ],
      "execution_count": 0,
      "outputs": [
        {
          "output_type": "stream",
          "text": [
            "+---+---+---+---+----+\n",
            "|  A|  W|  X|  Y|   Z|\n",
            "+---+---+---+---+----+\n",
            "|  G|  5|  4|  2|null|\n",
            "|  H|  2|  3|  4|   5|\n",
            "+---+---+---+---+----+\n",
            "\n"
          ],
          "name": "stdout"
        }
      ]
    },
    {
      "cell_type": "code",
      "metadata": {
        "id": "y3HFoFymLBml",
        "colab_type": "code",
        "outputId": "2174d5ae-34fb-4f5d-df20-0b7f0ebeeb63",
        "colab": {
          "base_uri": "https://localhost:8080/",
          "height": 221
        }
      },
      "source": [
        "df.selectExpr(\"A\", \"stack(4, 'W', W, 'X', X, 'Y', Y, 'Z', Z) as (B, C)\").where(\"C is not null\").show()"
      ],
      "execution_count": 0,
      "outputs": [
        {
          "output_type": "stream",
          "text": [
            "+---+---+---+\n",
            "|  A|  B|  C|\n",
            "+---+---+---+\n",
            "|  G|  W|  5|\n",
            "|  G|  X|  4|\n",
            "|  G|  Y|  2|\n",
            "|  H|  W|  2|\n",
            "|  H|  X|  3|\n",
            "|  H|  Y|  4|\n",
            "|  H|  Z|  5|\n",
            "+---+---+---+\n",
            "\n"
          ],
          "name": "stdout"
        }
      ]
    },
    {
      "cell_type": "code",
      "metadata": {
        "id": "FNHwMGSUXFfd",
        "colab_type": "code",
        "outputId": "fe8cbe58-f97c-4910-e13d-951b2885bf97",
        "colab": {
          "base_uri": "https://localhost:8080/",
          "height": 187
        }
      },
      "source": [
        "df.selectExpr(\"A\", \"W\", \"stack(3, 'X', X, 'Y', Y, 'Z', Z) as (B, C)\").where(\"C is not null\").show()"
      ],
      "execution_count": 0,
      "outputs": [
        {
          "output_type": "stream",
          "text": [
            "+---+---+---+---+\n",
            "|  A|  W|  B|  C|\n",
            "+---+---+---+---+\n",
            "|  G|  5|  X|  4|\n",
            "|  G|  5|  Y|  2|\n",
            "|  H|  2|  X|  3|\n",
            "|  H|  2|  Y|  4|\n",
            "|  H|  2|  Z|  5|\n",
            "+---+---+---+---+\n",
            "\n"
          ],
          "name": "stdout"
        }
      ]
    },
    {
      "cell_type": "code",
      "metadata": {
        "id": "EUaf0t4ZbYPs",
        "colab_type": "code",
        "outputId": "b21d4792-7495-4afc-ddf9-1f57c1934245",
        "colab": {
          "base_uri": "https://localhost:8080/",
          "height": 153
        }
      },
      "source": [
        "df.selectExpr(\"A\", \"W\", \"X\", \"stack(2, 'Y', Y, 'Z', Z) as (B, C)\").where(\"C is not null\").show()"
      ],
      "execution_count": 0,
      "outputs": [
        {
          "output_type": "stream",
          "text": [
            "+---+---+---+---+---+\n",
            "|  A|  W|  X|  B|  C|\n",
            "+---+---+---+---+---+\n",
            "|  G|  5|  4|  Y|  2|\n",
            "|  H|  2|  3|  Y|  4|\n",
            "|  H|  2|  3|  Z|  5|\n",
            "+---+---+---+---+---+\n",
            "\n"
          ],
          "name": "stdout"
        }
      ]
    },
    {
      "cell_type": "markdown",
      "metadata": {
        "id": "_2Fnr6g05lKS",
        "colab_type": "text"
      },
      "source": [
        "**References**\n",
        "\n",
        "Setup\n",
        "\n",
        "https://colab.research.google.com/github/asifahmed90/pyspark-ML-in-Colab/blob/master/PySpark_Regression_Analysis.ipynb\n",
        "\n",
        "https://support.treasuredata.com/hc/en-us/articles/360034951753-TD-Python-Spark-Driver-with-Google-Colab\n",
        "\n",
        "https://medium.com/@sushantgautam_930/apache-spark-in-google-collaboratory-in-3-steps-e0acbba654e6\n",
        "\n",
        "https://mikestaszel.com/2018/03/07/apache-spark-on-google-colaboratory/\n",
        "\n",
        "https://mc.ai/practical-data-science-with-apache-spark%E2%80%8A-%E2%80%8Apart-1/\n",
        "\n",
        "https://github.com/verakai/DS/blob/master/flight_delays.ipynb\n",
        "\n",
        "https://gist.github.com/ryansmccoy/09b285525789bb355a15249aaeab7498\n",
        "\n",
        "https://sparkbyexamples.com/"
      ]
    }
  ]
}