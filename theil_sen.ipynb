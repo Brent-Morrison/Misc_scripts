{
  "nbformat": 4,
  "nbformat_minor": 0,
  "metadata": {
    "colab": {
      "name": "theil_sen.ipynb",
      "provenance": [],
      "collapsed_sections": [],
      "authorship_tag": "ABX9TyPFwmu+CZYH1pqdwGaPTKEd",
      "include_colab_link": true
    },
    "kernelspec": {
      "name": "python3",
      "display_name": "Python 3"
    }
  },
  "cells": [
    {
      "cell_type": "markdown",
      "metadata": {
        "id": "view-in-github",
        "colab_type": "text"
      },
      "source": [
        "<a href=\"https://colab.research.google.com/github/Brent-Morrison/Misc_scripts/blob/master/theil_sen.ipynb\" target=\"_parent\"><img src=\"https://colab.research.google.com/assets/colab-badge.svg\" alt=\"Open In Colab\"/></a>"
      ]
    },
    {
      "cell_type": "markdown",
      "metadata": {
        "id": "VQjTMrfLsMgi"
      },
      "source": [
        "# Abalone and Outliers  \n",
        "\n",
        "That title deserves an explanation. \n",
        "\n",
        "This note will look at the Theil Sen estimator for **robust regression**.  I'm going to use the UCI Machine Learning abalone dataset to compare this technique with Ordinary Least Squares.\n",
        "\n",
        "Robust techniques are designed to mitigate the impact of outliers in regression models.  My introduction to Theil Sen was through this [paper](https://papers.ssrn.com/sol3/papers.cfm?abstract_id=2802478) which looks at stock valuations.\n",
        "\n",
        "The Theil Sen was first applied on univariate data.  It estimates the regression slope by taking the median of individual slopes, those being fitted to each pair of data points.  If there are n data points, there will be n*(n-1)/2 individual slopes to estimate.  As stated, the final slope is the median of these. \n",
        "\n",
        "That concept is easy enough to wrap your head around.  [This](https://blogs.sas.com/content/iml/2019/05/28/theil-sen-robust-regression.html) blog on the SAS website has some nice visuals to help.\n",
        "\n",
        "Theil Sen has been extended to apply to multivariate data by [this paper](http://home.olemiss.edu/~xdang/papers/MTSE.pdf).  Scikit Learn has an [implementation](https://scikit-learn.org/stable/modules/linear_model.html#theil-sen-estimator-generalized-median-based-estimator) of this, using the spatial median which is a generalization of the median to multiple dimensions.  \n",
        "  \n",
        "The concept of a spatial median is a lttle tougher grasp.  Running some data through both the Theil Sen and OLS estimators may help with our intuition here.\n",
        "\n",
        "Let's get to it.  \n",
        "<br>\n",
        "<br>\n",
        "## Libraries and data\n",
        "\n",
        "Data is from the UCI Machine Learning repository and contains the age of abalone and their physical measurements.  Hence the title."
      ]
    },
    {
      "cell_type": "code",
      "metadata": {
        "id": "Zoo2WSQ2mRIQ",
        "colab": {
          "base_uri": "https://localhost:8080/"
        },
        "outputId": "c6855426-9870-4651-cd52-a668cf2aa12f"
      },
      "source": [
        "import numpy as np\n",
        "import pandas as pd\n",
        "import seaborn as sns\n",
        "import matplotlib.pyplot as plt\n",
        "from sklearn import linear_model\n",
        "from sklearn.metrics import mean_squared_error, r2_score\n",
        "import statsmodels.api as sm"
      ],
      "execution_count": 1,
      "outputs": [
        {
          "output_type": "stream",
          "text": [
            "/usr/local/lib/python3.7/dist-packages/statsmodels/tools/_testing.py:19: FutureWarning: pandas.util.testing is deprecated. Use the functions in the public API at pandas.testing instead.\n",
            "  import pandas.util.testing as tm\n"
          ],
          "name": "stderr"
        }
      ]
    },
    {
      "cell_type": "code",
      "metadata": {
        "id": "Rbs9WMQmyv8s"
      },
      "source": [
        "cols = ['sex','length','diam','height','whole','shucked','viscera','shell','rings']"
      ],
      "execution_count": 2,
      "outputs": []
    },
    {
      "cell_type": "code",
      "metadata": {
        "id": "tw1VYdAqyEPF"
      },
      "source": [
        "df = pd.read_csv('https://archive.ics.uci.edu/ml/machine-learning-databases/abalone/abalone.data', names=cols)"
      ],
      "execution_count": 3,
      "outputs": []
    },
    {
      "cell_type": "code",
      "metadata": {
        "colab": {
          "base_uri": "https://localhost:8080/",
          "height": 419
        },
        "id": "0_V6WNeCyVf3",
        "outputId": "9f6f689f-6ed6-4640-95a6-e046d9635775"
      },
      "source": [
        "df"
      ],
      "execution_count": 4,
      "outputs": [
        {
          "output_type": "execute_result",
          "data": {
            "text/html": [
              "<div>\n",
              "<style scoped>\n",
              "    .dataframe tbody tr th:only-of-type {\n",
              "        vertical-align: middle;\n",
              "    }\n",
              "\n",
              "    .dataframe tbody tr th {\n",
              "        vertical-align: top;\n",
              "    }\n",
              "\n",
              "    .dataframe thead th {\n",
              "        text-align: right;\n",
              "    }\n",
              "</style>\n",
              "<table border=\"1\" class=\"dataframe\">\n",
              "  <thead>\n",
              "    <tr style=\"text-align: right;\">\n",
              "      <th></th>\n",
              "      <th>sex</th>\n",
              "      <th>length</th>\n",
              "      <th>diam</th>\n",
              "      <th>height</th>\n",
              "      <th>whole</th>\n",
              "      <th>shucked</th>\n",
              "      <th>viscera</th>\n",
              "      <th>shell</th>\n",
              "      <th>rings</th>\n",
              "    </tr>\n",
              "  </thead>\n",
              "  <tbody>\n",
              "    <tr>\n",
              "      <th>0</th>\n",
              "      <td>M</td>\n",
              "      <td>0.455</td>\n",
              "      <td>0.365</td>\n",
              "      <td>0.095</td>\n",
              "      <td>0.5140</td>\n",
              "      <td>0.2245</td>\n",
              "      <td>0.1010</td>\n",
              "      <td>0.1500</td>\n",
              "      <td>15</td>\n",
              "    </tr>\n",
              "    <tr>\n",
              "      <th>1</th>\n",
              "      <td>M</td>\n",
              "      <td>0.350</td>\n",
              "      <td>0.265</td>\n",
              "      <td>0.090</td>\n",
              "      <td>0.2255</td>\n",
              "      <td>0.0995</td>\n",
              "      <td>0.0485</td>\n",
              "      <td>0.0700</td>\n",
              "      <td>7</td>\n",
              "    </tr>\n",
              "    <tr>\n",
              "      <th>2</th>\n",
              "      <td>F</td>\n",
              "      <td>0.530</td>\n",
              "      <td>0.420</td>\n",
              "      <td>0.135</td>\n",
              "      <td>0.6770</td>\n",
              "      <td>0.2565</td>\n",
              "      <td>0.1415</td>\n",
              "      <td>0.2100</td>\n",
              "      <td>9</td>\n",
              "    </tr>\n",
              "    <tr>\n",
              "      <th>3</th>\n",
              "      <td>M</td>\n",
              "      <td>0.440</td>\n",
              "      <td>0.365</td>\n",
              "      <td>0.125</td>\n",
              "      <td>0.5160</td>\n",
              "      <td>0.2155</td>\n",
              "      <td>0.1140</td>\n",
              "      <td>0.1550</td>\n",
              "      <td>10</td>\n",
              "    </tr>\n",
              "    <tr>\n",
              "      <th>4</th>\n",
              "      <td>I</td>\n",
              "      <td>0.330</td>\n",
              "      <td>0.255</td>\n",
              "      <td>0.080</td>\n",
              "      <td>0.2050</td>\n",
              "      <td>0.0895</td>\n",
              "      <td>0.0395</td>\n",
              "      <td>0.0550</td>\n",
              "      <td>7</td>\n",
              "    </tr>\n",
              "    <tr>\n",
              "      <th>...</th>\n",
              "      <td>...</td>\n",
              "      <td>...</td>\n",
              "      <td>...</td>\n",
              "      <td>...</td>\n",
              "      <td>...</td>\n",
              "      <td>...</td>\n",
              "      <td>...</td>\n",
              "      <td>...</td>\n",
              "      <td>...</td>\n",
              "    </tr>\n",
              "    <tr>\n",
              "      <th>4172</th>\n",
              "      <td>F</td>\n",
              "      <td>0.565</td>\n",
              "      <td>0.450</td>\n",
              "      <td>0.165</td>\n",
              "      <td>0.8870</td>\n",
              "      <td>0.3700</td>\n",
              "      <td>0.2390</td>\n",
              "      <td>0.2490</td>\n",
              "      <td>11</td>\n",
              "    </tr>\n",
              "    <tr>\n",
              "      <th>4173</th>\n",
              "      <td>M</td>\n",
              "      <td>0.590</td>\n",
              "      <td>0.440</td>\n",
              "      <td>0.135</td>\n",
              "      <td>0.9660</td>\n",
              "      <td>0.4390</td>\n",
              "      <td>0.2145</td>\n",
              "      <td>0.2605</td>\n",
              "      <td>10</td>\n",
              "    </tr>\n",
              "    <tr>\n",
              "      <th>4174</th>\n",
              "      <td>M</td>\n",
              "      <td>0.600</td>\n",
              "      <td>0.475</td>\n",
              "      <td>0.205</td>\n",
              "      <td>1.1760</td>\n",
              "      <td>0.5255</td>\n",
              "      <td>0.2875</td>\n",
              "      <td>0.3080</td>\n",
              "      <td>9</td>\n",
              "    </tr>\n",
              "    <tr>\n",
              "      <th>4175</th>\n",
              "      <td>F</td>\n",
              "      <td>0.625</td>\n",
              "      <td>0.485</td>\n",
              "      <td>0.150</td>\n",
              "      <td>1.0945</td>\n",
              "      <td>0.5310</td>\n",
              "      <td>0.2610</td>\n",
              "      <td>0.2960</td>\n",
              "      <td>10</td>\n",
              "    </tr>\n",
              "    <tr>\n",
              "      <th>4176</th>\n",
              "      <td>M</td>\n",
              "      <td>0.710</td>\n",
              "      <td>0.555</td>\n",
              "      <td>0.195</td>\n",
              "      <td>1.9485</td>\n",
              "      <td>0.9455</td>\n",
              "      <td>0.3765</td>\n",
              "      <td>0.4950</td>\n",
              "      <td>12</td>\n",
              "    </tr>\n",
              "  </tbody>\n",
              "</table>\n",
              "<p>4177 rows × 9 columns</p>\n",
              "</div>"
            ],
            "text/plain": [
              "     sex  length   diam  height   whole  shucked  viscera   shell  rings\n",
              "0      M   0.455  0.365   0.095  0.5140   0.2245   0.1010  0.1500     15\n",
              "1      M   0.350  0.265   0.090  0.2255   0.0995   0.0485  0.0700      7\n",
              "2      F   0.530  0.420   0.135  0.6770   0.2565   0.1415  0.2100      9\n",
              "3      M   0.440  0.365   0.125  0.5160   0.2155   0.1140  0.1550     10\n",
              "4      I   0.330  0.255   0.080  0.2050   0.0895   0.0395  0.0550      7\n",
              "...   ..     ...    ...     ...     ...      ...      ...     ...    ...\n",
              "4172   F   0.565  0.450   0.165  0.8870   0.3700   0.2390  0.2490     11\n",
              "4173   M   0.590  0.440   0.135  0.9660   0.4390   0.2145  0.2605     10\n",
              "4174   M   0.600  0.475   0.205  1.1760   0.5255   0.2875  0.3080      9\n",
              "4175   F   0.625  0.485   0.150  1.0945   0.5310   0.2610  0.2960     10\n",
              "4176   M   0.710  0.555   0.195  1.9485   0.9455   0.3765  0.4950     12\n",
              "\n",
              "[4177 rows x 9 columns]"
            ]
          },
          "metadata": {},
          "execution_count": 4
        }
      ]
    },
    {
      "cell_type": "code",
      "metadata": {
        "colab": {
          "base_uri": "https://localhost:8080/"
        },
        "id": "OHS6wUR8wek_",
        "outputId": "dc422a9b-3c33-4294-fafe-8f1d4a509ab0"
      },
      "source": [
        "df.dtypes"
      ],
      "execution_count": 5,
      "outputs": [
        {
          "output_type": "execute_result",
          "data": {
            "text/plain": [
              "sex         object\n",
              "length     float64\n",
              "diam       float64\n",
              "height     float64\n",
              "whole      float64\n",
              "shucked    float64\n",
              "viscera    float64\n",
              "shell      float64\n",
              "rings        int64\n",
              "dtype: object"
            ]
          },
          "metadata": {},
          "execution_count": 5
        }
      ]
    },
    {
      "cell_type": "markdown",
      "metadata": {
        "id": "hMMPJkEvyi8E"
      },
      "source": [
        "Drop the categorical `sex` attribute.  We are investigating a regression problem here.  Yes, we could have encoded as dummy variable or fit a mixed effects model.  I'm going to keep it simple."
      ]
    },
    {
      "cell_type": "code",
      "metadata": {
        "colab": {
          "base_uri": "https://localhost:8080/",
          "height": 419
        },
        "id": "eQZvMZ2Hz-WR",
        "outputId": "b5323af7-79af-48d3-99b6-d2b6ba83f65c"
      },
      "source": [
        "df.drop(columns='sex', inplace=True)\n",
        "df"
      ],
      "execution_count": 6,
      "outputs": [
        {
          "output_type": "execute_result",
          "data": {
            "text/html": [
              "<div>\n",
              "<style scoped>\n",
              "    .dataframe tbody tr th:only-of-type {\n",
              "        vertical-align: middle;\n",
              "    }\n",
              "\n",
              "    .dataframe tbody tr th {\n",
              "        vertical-align: top;\n",
              "    }\n",
              "\n",
              "    .dataframe thead th {\n",
              "        text-align: right;\n",
              "    }\n",
              "</style>\n",
              "<table border=\"1\" class=\"dataframe\">\n",
              "  <thead>\n",
              "    <tr style=\"text-align: right;\">\n",
              "      <th></th>\n",
              "      <th>length</th>\n",
              "      <th>diam</th>\n",
              "      <th>height</th>\n",
              "      <th>whole</th>\n",
              "      <th>shucked</th>\n",
              "      <th>viscera</th>\n",
              "      <th>shell</th>\n",
              "      <th>rings</th>\n",
              "    </tr>\n",
              "  </thead>\n",
              "  <tbody>\n",
              "    <tr>\n",
              "      <th>0</th>\n",
              "      <td>0.455</td>\n",
              "      <td>0.365</td>\n",
              "      <td>0.095</td>\n",
              "      <td>0.5140</td>\n",
              "      <td>0.2245</td>\n",
              "      <td>0.1010</td>\n",
              "      <td>0.1500</td>\n",
              "      <td>15</td>\n",
              "    </tr>\n",
              "    <tr>\n",
              "      <th>1</th>\n",
              "      <td>0.350</td>\n",
              "      <td>0.265</td>\n",
              "      <td>0.090</td>\n",
              "      <td>0.2255</td>\n",
              "      <td>0.0995</td>\n",
              "      <td>0.0485</td>\n",
              "      <td>0.0700</td>\n",
              "      <td>7</td>\n",
              "    </tr>\n",
              "    <tr>\n",
              "      <th>2</th>\n",
              "      <td>0.530</td>\n",
              "      <td>0.420</td>\n",
              "      <td>0.135</td>\n",
              "      <td>0.6770</td>\n",
              "      <td>0.2565</td>\n",
              "      <td>0.1415</td>\n",
              "      <td>0.2100</td>\n",
              "      <td>9</td>\n",
              "    </tr>\n",
              "    <tr>\n",
              "      <th>3</th>\n",
              "      <td>0.440</td>\n",
              "      <td>0.365</td>\n",
              "      <td>0.125</td>\n",
              "      <td>0.5160</td>\n",
              "      <td>0.2155</td>\n",
              "      <td>0.1140</td>\n",
              "      <td>0.1550</td>\n",
              "      <td>10</td>\n",
              "    </tr>\n",
              "    <tr>\n",
              "      <th>4</th>\n",
              "      <td>0.330</td>\n",
              "      <td>0.255</td>\n",
              "      <td>0.080</td>\n",
              "      <td>0.2050</td>\n",
              "      <td>0.0895</td>\n",
              "      <td>0.0395</td>\n",
              "      <td>0.0550</td>\n",
              "      <td>7</td>\n",
              "    </tr>\n",
              "    <tr>\n",
              "      <th>...</th>\n",
              "      <td>...</td>\n",
              "      <td>...</td>\n",
              "      <td>...</td>\n",
              "      <td>...</td>\n",
              "      <td>...</td>\n",
              "      <td>...</td>\n",
              "      <td>...</td>\n",
              "      <td>...</td>\n",
              "    </tr>\n",
              "    <tr>\n",
              "      <th>4172</th>\n",
              "      <td>0.565</td>\n",
              "      <td>0.450</td>\n",
              "      <td>0.165</td>\n",
              "      <td>0.8870</td>\n",
              "      <td>0.3700</td>\n",
              "      <td>0.2390</td>\n",
              "      <td>0.2490</td>\n",
              "      <td>11</td>\n",
              "    </tr>\n",
              "    <tr>\n",
              "      <th>4173</th>\n",
              "      <td>0.590</td>\n",
              "      <td>0.440</td>\n",
              "      <td>0.135</td>\n",
              "      <td>0.9660</td>\n",
              "      <td>0.4390</td>\n",
              "      <td>0.2145</td>\n",
              "      <td>0.2605</td>\n",
              "      <td>10</td>\n",
              "    </tr>\n",
              "    <tr>\n",
              "      <th>4174</th>\n",
              "      <td>0.600</td>\n",
              "      <td>0.475</td>\n",
              "      <td>0.205</td>\n",
              "      <td>1.1760</td>\n",
              "      <td>0.5255</td>\n",
              "      <td>0.2875</td>\n",
              "      <td>0.3080</td>\n",
              "      <td>9</td>\n",
              "    </tr>\n",
              "    <tr>\n",
              "      <th>4175</th>\n",
              "      <td>0.625</td>\n",
              "      <td>0.485</td>\n",
              "      <td>0.150</td>\n",
              "      <td>1.0945</td>\n",
              "      <td>0.5310</td>\n",
              "      <td>0.2610</td>\n",
              "      <td>0.2960</td>\n",
              "      <td>10</td>\n",
              "    </tr>\n",
              "    <tr>\n",
              "      <th>4176</th>\n",
              "      <td>0.710</td>\n",
              "      <td>0.555</td>\n",
              "      <td>0.195</td>\n",
              "      <td>1.9485</td>\n",
              "      <td>0.9455</td>\n",
              "      <td>0.3765</td>\n",
              "      <td>0.4950</td>\n",
              "      <td>12</td>\n",
              "    </tr>\n",
              "  </tbody>\n",
              "</table>\n",
              "<p>4177 rows × 8 columns</p>\n",
              "</div>"
            ],
            "text/plain": [
              "      length   diam  height   whole  shucked  viscera   shell  rings\n",
              "0      0.455  0.365   0.095  0.5140   0.2245   0.1010  0.1500     15\n",
              "1      0.350  0.265   0.090  0.2255   0.0995   0.0485  0.0700      7\n",
              "2      0.530  0.420   0.135  0.6770   0.2565   0.1415  0.2100      9\n",
              "3      0.440  0.365   0.125  0.5160   0.2155   0.1140  0.1550     10\n",
              "4      0.330  0.255   0.080  0.2050   0.0895   0.0395  0.0550      7\n",
              "...      ...    ...     ...     ...      ...      ...     ...    ...\n",
              "4172   0.565  0.450   0.165  0.8870   0.3700   0.2390  0.2490     11\n",
              "4173   0.590  0.440   0.135  0.9660   0.4390   0.2145  0.2605     10\n",
              "4174   0.600  0.475   0.205  1.1760   0.5255   0.2875  0.3080      9\n",
              "4175   0.625  0.485   0.150  1.0945   0.5310   0.2610  0.2960     10\n",
              "4176   0.710  0.555   0.195  1.9485   0.9455   0.3765  0.4950     12\n",
              "\n",
              "[4177 rows x 8 columns]"
            ]
          },
          "metadata": {},
          "execution_count": 6
        }
      ]
    },
    {
      "cell_type": "markdown",
      "metadata": {
        "id": "L0WK1aZKyx6a"
      },
      "source": [
        "<br>\n",
        "<br>\n",
        "\n",
        "## Independent and dependent variables.  \n",
        "The `rings` variable is what we are trying to predict.  This is a proxy for the age of the abalone.  \n",
        "  \n",
        "Don't get too caught up on the data and regression problem at this stage. I just need a real world dataset to investigate the differences between robust and OLS methodologies.  "
      ]
    },
    {
      "cell_type": "code",
      "metadata": {
        "id": "0VziWdi6T2oL"
      },
      "source": [
        "x = df.iloc[:, 0:7]\n",
        "y = df.iloc[:, 7:8]"
      ],
      "execution_count": 7,
      "outputs": []
    },
    {
      "cell_type": "markdown",
      "metadata": {
        "id": "V3Re6jzYzKmA"
      },
      "source": [
        "<br>\n",
        "<br>\n",
        "\n",
        "## Let's visualise our data"
      ]
    },
    {
      "cell_type": "markdown",
      "metadata": {
        "id": "M3oVsioaCG1q"
      },
      "source": [
        "Histograms of each feature."
      ]
    },
    {
      "cell_type": "code",
      "metadata": {
        "colab": {
          "base_uri": "https://localhost:8080/",
          "height": 674
        },
        "id": "P0ZvlW6rN1eq",
        "outputId": "1fe12f22-ebbd-4444-d2f2-fbb2770da329"
      },
      "source": [
        "sns.FacetGrid(\n",
        "    data=df.melt(var_name='Attribute', value_name='value'),\n",
        "    col='Attribute',\n",
        "    col_wrap=3,\n",
        "    sharex=False,\n",
        "    sharey=False) \\\n",
        ".map(sns.histplot, 'value')"
      ],
      "execution_count": 8,
      "outputs": [
        {
          "output_type": "execute_result",
          "data": {
            "text/plain": [
              "<seaborn.axisgrid.FacetGrid at 0x7fa14ee3d310>"
            ]
          },
          "metadata": {},
          "execution_count": 8
        },
        {
          "output_type": "display_data",
          "data": {
            "image/png": "[encoded data removed]",
            "text/plain": [
              "<Figure size 648x648 with 8 Axes>"
            ]
          },
          "metadata": {
            "needs_background": "light"
          }
        }
      ]
    },
    {
      "cell_type": "markdown",
      "metadata": {
        "id": "TA8BH5veCMbX"
      },
      "source": [
        "And scatter plots of each feature and the dependent variable."
      ]
    },
    {
      "cell_type": "code",
      "metadata": {
        "colab": {
          "base_uri": "https://localhost:8080/",
          "height": 674
        },
        "id": "ePSIafrJlDJe",
        "outputId": "dcad8ecd-5f2f-43b8-ea8b-c7aeefde4ca1"
      },
      "source": [
        "sns.FacetGrid(\n",
        "    data=df.melt(var_name='Attribute', value_name='value', value_vars=['length', 'diam', 'height', 'whole', 'shucked', 'viscera', 'shell'], ignore_index=False).join(y),\n",
        "    col='Attribute',\n",
        "    col_wrap=3,\n",
        "    sharex=False,\n",
        "    sharey=False) \\\n",
        ".map(sns.scatterplot, 'value', 'rings')"
      ],
      "execution_count": 9,
      "outputs": [
        {
          "output_type": "execute_result",
          "data": {
            "text/plain": [
              "<seaborn.axisgrid.FacetGrid at 0x7fa144730510>"
            ]
          },
          "metadata": {},
          "execution_count": 9
        },
        {
          "output_type": "display_data",
          "data": {
            "image/png": "[encoded data removed]",
            "text/plain": [
              "<Figure size 648x648 with 7 Axes>"
            ]
          },
          "metadata": {
            "needs_background": "light"
          }
        }
      ]
    },
    {
      "cell_type": "markdown",
      "metadata": {
        "id": "6-PGrxhN0hQn"
      },
      "source": [
        "With the exception of the height attribute, there are no obvious outliers.\n",
        "<br>\n",
        "<br>\n",
        "\n",
        "## Ordinary Least Squares estimation\n",
        "\n",
        "I'm using `statsmodels` for the OLS estimation.  It produces a nice summary result."
      ]
    },
    {
      "cell_type": "code",
      "metadata": {
        "colab": {
          "base_uri": "https://localhost:8080/"
        },
        "id": "XmD57WTWak69",
        "outputId": "930aa4c3-e203-43a6-ca4d-10e9d2567db7"
      },
      "source": [
        "x = sm.add_constant(x)\n",
        "ols = sm.OLS(y,x).fit()\n",
        "sm_pred = ols.predict(x)\n",
        "\n",
        "print(ols.summary())"
      ],
      "execution_count": 10,
      "outputs": [
        {
          "output_type": "stream",
          "text": [
            "                            OLS Regression Results                            \n",
            "==============================================================================\n",
            "Dep. Variable:                  rings   R-squared:                       0.528\n",
            "Model:                            OLS   Adj. R-squared:                  0.527\n",
            "Method:                 Least Squares   F-statistic:                     665.2\n",
            "Date:                Mon, 23 Aug 2021   Prob (F-statistic):               0.00\n",
            "Time:                        20:13:27   Log-Likelihood:                -9250.0\n",
            "No. Observations:                4177   AIC:                         1.852e+04\n",
            "Df Residuals:                    4169   BIC:                         1.857e+04\n",
            "Df Model:                           7                                         \n",
            "Covariance Type:            nonrobust                                         \n",
            "==============================================================================\n",
            "                 coef    std err          t      P>|t|      [0.025      0.975]\n",
            "------------------------------------------------------------------------------\n",
            "const          2.9852      0.269     11.092      0.000       2.458       3.513\n",
            "length        -1.5719      1.825     -0.861      0.389      -5.149       2.006\n",
            "diam          13.3609      2.237      5.972      0.000       8.975      17.747\n",
            "height        11.8261      1.548      7.639      0.000       8.791      14.861\n",
            "whole          9.2474      0.733     12.622      0.000       7.811      10.684\n",
            "shucked      -20.2139      0.823    -24.552      0.000     -21.828     -18.600\n",
            "viscera       -9.8297      1.304     -7.538      0.000     -12.386      -7.273\n",
            "shell          8.5762      1.137      7.545      0.000       6.348      10.805\n",
            "==============================================================================\n",
            "Omnibus:                      933.799   Durbin-Watson:                   1.387\n",
            "Prob(Omnibus):                  0.000   Jarque-Bera (JB):             2602.745\n",
            "Skew:                           1.174   Prob(JB):                         0.00\n",
            "Kurtosis:                       6.072   Cond. No.                         131.\n",
            "==============================================================================\n",
            "\n",
            "Warnings:\n",
            "[1] Standard Errors assume that the covariance matrix of the errors is correctly specified.\n"
          ],
          "name": "stdout"
        }
      ]
    },
    {
      "cell_type": "markdown",
      "metadata": {
        "id": "glGSHwVO1WrC"
      },
      "source": [
        "<br>\n",
        "<br>\n",
        "\n",
        "## Theil Sen estimation\n",
        "Now to Theil Sen, using Scikit Learn."
      ]
    },
    {
      "cell_type": "code",
      "metadata": {
        "colab": {
          "base_uri": "https://localhost:8080/"
        },
        "id": "2kuZyTMxVbNq",
        "outputId": "c2a64ae7-31d8-4d24-8a24-3e36c65f00b7"
      },
      "source": [
        "# Create regression object\n",
        "ts = linear_model.TheilSenRegressor()\n",
        "\n",
        "# Fit the model\n",
        "ts.fit(x, np.ravel(y))\n",
        "\n",
        "# Print the intercept, co-efficients & R-squared\n",
        "for i in zip(x.columns.tolist(), ts.coef_):\n",
        "  print(i[0].ljust(10),' :', '{:>9.2f}'.format(i[1]))\n",
        "\n",
        "print('R-squared'.ljust(10),' :', '{:>9.2f}'.format(ts.score(x, np.ravel(y))))"
      ],
      "execution_count": 11,
      "outputs": [
        {
          "output_type": "stream",
          "text": [
            "const       :      2.08\n",
            "length      :     -6.41\n",
            "diam        :     11.16\n",
            "height      :     23.40\n",
            "whole       :     13.17\n",
            "shucked     :    -24.88\n",
            "viscera     :    -13.46\n",
            "shell       :      7.02\n",
            "R-squared   :      0.51\n"
          ],
          "name": "stdout"
        }
      ]
    },
    {
      "cell_type": "markdown",
      "metadata": {
        "id": "sNehy4mc15cK"
      },
      "source": [
        "## Model comparison\n",
        "\n",
        "Lets compare the regression co-efficients and model fit."
      ]
    },
    {
      "cell_type": "code",
      "metadata": {
        "colab": {
          "base_uri": "https://localhost:8080/",
          "height": 297
        },
        "id": "F9rGY7vs2DEk",
        "outputId": "6395eb47-1b95-4cf3-87cb-e69e3f9a7355"
      },
      "source": [
        "ts_coef = zip(x.columns.tolist(), ts.coef_)\n",
        "ts_coef = pd.DataFrame(ts_coef, columns = ['Variable', 'TS coef'])\n",
        "\n",
        "ols_coef = ols.params.to_frame(name='OLS coef').rename_axis('Variable')\n",
        "ols_coef.reset_index(inplace=True)\n",
        "\n",
        "coef = ts_coef.merge(ols_coef, on='Variable')\n",
        "coef['Diff in coef'] = coef['TS coef'] - coef['OLS coef']\n",
        "coef.round(2)"
      ],
      "execution_count": 12,
      "outputs": [
        {
          "output_type": "execute_result",
          "data": {
            "text/html": [
              "<div>\n",
              "<style scoped>\n",
              "    .dataframe tbody tr th:only-of-type {\n",
              "        vertical-align: middle;\n",
              "    }\n",
              "\n",
              "    .dataframe tbody tr th {\n",
              "        vertical-align: top;\n",
              "    }\n",
              "\n",
              "    .dataframe thead th {\n",
              "        text-align: right;\n",
              "    }\n",
              "</style>\n",
              "<table border=\"1\" class=\"dataframe\">\n",
              "  <thead>\n",
              "    <tr style=\"text-align: right;\">\n",
              "      <th></th>\n",
              "      <th>Variable</th>\n",
              "      <th>TS coef</th>\n",
              "      <th>OLS coef</th>\n",
              "      <th>Diff in coef</th>\n",
              "    </tr>\n",
              "  </thead>\n",
              "  <tbody>\n",
              "    <tr>\n",
              "      <th>0</th>\n",
              "      <td>const</td>\n",
              "      <td>2.08</td>\n",
              "      <td>2.99</td>\n",
              "      <td>-0.91</td>\n",
              "    </tr>\n",
              "    <tr>\n",
              "      <th>1</th>\n",
              "      <td>length</td>\n",
              "      <td>-6.41</td>\n",
              "      <td>-1.57</td>\n",
              "      <td>-4.84</td>\n",
              "    </tr>\n",
              "    <tr>\n",
              "      <th>2</th>\n",
              "      <td>diam</td>\n",
              "      <td>11.16</td>\n",
              "      <td>13.36</td>\n",
              "      <td>-2.20</td>\n",
              "    </tr>\n",
              "    <tr>\n",
              "      <th>3</th>\n",
              "      <td>height</td>\n",
              "      <td>23.40</td>\n",
              "      <td>11.83</td>\n",
              "      <td>11.57</td>\n",
              "    </tr>\n",
              "    <tr>\n",
              "      <th>4</th>\n",
              "      <td>whole</td>\n",
              "      <td>13.17</td>\n",
              "      <td>9.25</td>\n",
              "      <td>3.92</td>\n",
              "    </tr>\n",
              "    <tr>\n",
              "      <th>5</th>\n",
              "      <td>shucked</td>\n",
              "      <td>-24.88</td>\n",
              "      <td>-20.21</td>\n",
              "      <td>-4.67</td>\n",
              "    </tr>\n",
              "    <tr>\n",
              "      <th>6</th>\n",
              "      <td>viscera</td>\n",
              "      <td>-13.46</td>\n",
              "      <td>-9.83</td>\n",
              "      <td>-3.63</td>\n",
              "    </tr>\n",
              "    <tr>\n",
              "      <th>7</th>\n",
              "      <td>shell</td>\n",
              "      <td>7.02</td>\n",
              "      <td>8.58</td>\n",
              "      <td>-1.56</td>\n",
              "    </tr>\n",
              "  </tbody>\n",
              "</table>\n",
              "</div>"
            ],
            "text/plain": [
              "  Variable  TS coef  OLS coef  Diff in coef\n",
              "0    const     2.08      2.99         -0.91\n",
              "1   length    -6.41     -1.57         -4.84\n",
              "2     diam    11.16     13.36         -2.20\n",
              "3   height    23.40     11.83         11.57\n",
              "4    whole    13.17      9.25          3.92\n",
              "5  shucked   -24.88    -20.21         -4.67\n",
              "6  viscera   -13.46     -9.83         -3.63\n",
              "7    shell     7.02      8.58         -1.56"
            ]
          },
          "metadata": {},
          "execution_count": 12
        }
      ]
    },
    {
      "cell_type": "markdown",
      "metadata": {
        "id": "0V6XP_tD1W55"
      },
      "source": [
        "The fit models are similar with the sign of coefficients in alignment.  \n",
        "  \n",
        "We can see how the OLS estimate of the height coefficient is dragged down by the outliers.  The Thiel Sen approach, by virtue of the estimation methodology explained above, places less weight on these outliers.  This is to be expected with a robust technique.  \n",
        "\n",
        "The r-squared values are similar at around 0.5.\n",
        "<br>\n",
        "<br>\n",
        "<br>\n",
        "## Inserting outliers\n",
        "Below, we amend a subset of 200 records in order to transform these into outliers.  100 records are multiplied by 5, and 100 records divided by 5.  These artifical outliers represents around 5% of our data (there are 4,177 records in total)."
      ]
    },
    {
      "cell_type": "code",
      "metadata": {
        "id": "buuJN97yl_S9"
      },
      "source": [
        "df1 = df\n",
        "\n",
        "df1.iloc[0:100, 0:7] = df1.iloc[0:100, 0:7].multiply(5)"
      ],
      "execution_count": 13,
      "outputs": []
    },
    {
      "cell_type": "code",
      "metadata": {
        "id": "Wyyo6EIN6Ct8"
      },
      "source": [
        "df1.iloc[4076:4177, 0:7] = df1.iloc[4076:4177, 0:7].div(5)"
      ],
      "execution_count": 14,
      "outputs": []
    },
    {
      "cell_type": "code",
      "metadata": {
        "colab": {
          "base_uri": "https://localhost:8080/",
          "height": 419
        },
        "id": "efTpYH1sxPXj",
        "outputId": "9a3c8607-d059-463c-868d-2d8e5c0725a4"
      },
      "source": [
        "df1.iloc[:, 0:7]"
      ],
      "execution_count": 15,
      "outputs": [
        {
          "output_type": "execute_result",
          "data": {
            "text/html": [
              "<div>\n",
              "<style scoped>\n",
              "    .dataframe tbody tr th:only-of-type {\n",
              "        vertical-align: middle;\n",
              "    }\n",
              "\n",
              "    .dataframe tbody tr th {\n",
              "        vertical-align: top;\n",
              "    }\n",
              "\n",
              "    .dataframe thead th {\n",
              "        text-align: right;\n",
              "    }\n",
              "</style>\n",
              "<table border=\"1\" class=\"dataframe\">\n",
              "  <thead>\n",
              "    <tr style=\"text-align: right;\">\n",
              "      <th></th>\n",
              "      <th>length</th>\n",
              "      <th>diam</th>\n",
              "      <th>height</th>\n",
              "      <th>whole</th>\n",
              "      <th>shucked</th>\n",
              "      <th>viscera</th>\n",
              "      <th>shell</th>\n",
              "    </tr>\n",
              "  </thead>\n",
              "  <tbody>\n",
              "    <tr>\n",
              "      <th>0</th>\n",
              "      <td>2.275</td>\n",
              "      <td>1.825</td>\n",
              "      <td>0.475</td>\n",
              "      <td>2.5700</td>\n",
              "      <td>1.1225</td>\n",
              "      <td>0.5050</td>\n",
              "      <td>0.7500</td>\n",
              "    </tr>\n",
              "    <tr>\n",
              "      <th>1</th>\n",
              "      <td>1.750</td>\n",
              "      <td>1.325</td>\n",
              "      <td>0.450</td>\n",
              "      <td>1.1275</td>\n",
              "      <td>0.4975</td>\n",
              "      <td>0.2425</td>\n",
              "      <td>0.3500</td>\n",
              "    </tr>\n",
              "    <tr>\n",
              "      <th>2</th>\n",
              "      <td>2.650</td>\n",
              "      <td>2.100</td>\n",
              "      <td>0.675</td>\n",
              "      <td>3.3850</td>\n",
              "      <td>1.2825</td>\n",
              "      <td>0.7075</td>\n",
              "      <td>1.0500</td>\n",
              "    </tr>\n",
              "    <tr>\n",
              "      <th>3</th>\n",
              "      <td>2.200</td>\n",
              "      <td>1.825</td>\n",
              "      <td>0.625</td>\n",
              "      <td>2.5800</td>\n",
              "      <td>1.0775</td>\n",
              "      <td>0.5700</td>\n",
              "      <td>0.7750</td>\n",
              "    </tr>\n",
              "    <tr>\n",
              "      <th>4</th>\n",
              "      <td>1.650</td>\n",
              "      <td>1.275</td>\n",
              "      <td>0.400</td>\n",
              "      <td>1.0250</td>\n",
              "      <td>0.4475</td>\n",
              "      <td>0.1975</td>\n",
              "      <td>0.2750</td>\n",
              "    </tr>\n",
              "    <tr>\n",
              "      <th>...</th>\n",
              "      <td>...</td>\n",
              "      <td>...</td>\n",
              "      <td>...</td>\n",
              "      <td>...</td>\n",
              "      <td>...</td>\n",
              "      <td>...</td>\n",
              "      <td>...</td>\n",
              "    </tr>\n",
              "    <tr>\n",
              "      <th>4172</th>\n",
              "      <td>0.113</td>\n",
              "      <td>0.090</td>\n",
              "      <td>0.033</td>\n",
              "      <td>0.1774</td>\n",
              "      <td>0.0740</td>\n",
              "      <td>0.0478</td>\n",
              "      <td>0.0498</td>\n",
              "    </tr>\n",
              "    <tr>\n",
              "      <th>4173</th>\n",
              "      <td>0.118</td>\n",
              "      <td>0.088</td>\n",
              "      <td>0.027</td>\n",
              "      <td>0.1932</td>\n",
              "      <td>0.0878</td>\n",
              "      <td>0.0429</td>\n",
              "      <td>0.0521</td>\n",
              "    </tr>\n",
              "    <tr>\n",
              "      <th>4174</th>\n",
              "      <td>0.120</td>\n",
              "      <td>0.095</td>\n",
              "      <td>0.041</td>\n",
              "      <td>0.2352</td>\n",
              "      <td>0.1051</td>\n",
              "      <td>0.0575</td>\n",
              "      <td>0.0616</td>\n",
              "    </tr>\n",
              "    <tr>\n",
              "      <th>4175</th>\n",
              "      <td>0.125</td>\n",
              "      <td>0.097</td>\n",
              "      <td>0.030</td>\n",
              "      <td>0.2189</td>\n",
              "      <td>0.1062</td>\n",
              "      <td>0.0522</td>\n",
              "      <td>0.0592</td>\n",
              "    </tr>\n",
              "    <tr>\n",
              "      <th>4176</th>\n",
              "      <td>0.142</td>\n",
              "      <td>0.111</td>\n",
              "      <td>0.039</td>\n",
              "      <td>0.3897</td>\n",
              "      <td>0.1891</td>\n",
              "      <td>0.0753</td>\n",
              "      <td>0.0990</td>\n",
              "    </tr>\n",
              "  </tbody>\n",
              "</table>\n",
              "<p>4177 rows × 7 columns</p>\n",
              "</div>"
            ],
            "text/plain": [
              "      length   diam  height   whole  shucked  viscera   shell\n",
              "0      2.275  1.825   0.475  2.5700   1.1225   0.5050  0.7500\n",
              "1      1.750  1.325   0.450  1.1275   0.4975   0.2425  0.3500\n",
              "2      2.650  2.100   0.675  3.3850   1.2825   0.7075  1.0500\n",
              "3      2.200  1.825   0.625  2.5800   1.0775   0.5700  0.7750\n",
              "4      1.650  1.275   0.400  1.0250   0.4475   0.1975  0.2750\n",
              "...      ...    ...     ...     ...      ...      ...     ...\n",
              "4172   0.113  0.090   0.033  0.1774   0.0740   0.0478  0.0498\n",
              "4173   0.118  0.088   0.027  0.1932   0.0878   0.0429  0.0521\n",
              "4174   0.120  0.095   0.041  0.2352   0.1051   0.0575  0.0616\n",
              "4175   0.125  0.097   0.030  0.2189   0.1062   0.0522  0.0592\n",
              "4176   0.142  0.111   0.039  0.3897   0.1891   0.0753  0.0990\n",
              "\n",
              "[4177 rows x 7 columns]"
            ]
          },
          "metadata": {},
          "execution_count": 15
        }
      ]
    },
    {
      "cell_type": "code",
      "metadata": {
        "id": "huvFXr096r2V"
      },
      "source": [
        "x1 = df1.iloc[:, 0:7]\n",
        "y1 = df1.iloc[:, 7:8]"
      ],
      "execution_count": 16,
      "outputs": []
    },
    {
      "cell_type": "markdown",
      "metadata": {
        "id": "rNhRfEJY6CMe"
      },
      "source": [
        "## Visualise data with artificial outliers\n",
        "\n",
        "The plots below replicate those shown above, except using the amended data containing artificial outliers. "
      ]
    },
    {
      "cell_type": "code",
      "metadata": {
        "colab": {
          "base_uri": "https://localhost:8080/",
          "height": 674
        },
        "id": "pPz390is2giL",
        "outputId": "239eaa78-a1b0-4ecd-c3fe-ec59623e6541"
      },
      "source": [
        "sns.FacetGrid(\n",
        "    data=df1.melt(var_name='Attribute', value_name='value'),\n",
        "    col='Attribute',\n",
        "    col_wrap=3,\n",
        "    sharex=False,\n",
        "    sharey=False) \\\n",
        ".map(sns.histplot, 'value')"
      ],
      "execution_count": 17,
      "outputs": [
        {
          "output_type": "execute_result",
          "data": {
            "text/plain": [
              "<seaborn.axisgrid.FacetGrid at 0x7fa1424f6290>"
            ]
          },
          "metadata": {},
          "execution_count": 17
        },
        {
          "output_type": "display_data",
          "data": {
            "image/png": "[encoded data removed]",
            "text/plain": [
              "<Figure size 648x648 with 8 Axes>"
            ]
          },
          "metadata": {
            "needs_background": "light"
          }
        }
      ]
    },
    {
      "cell_type": "code",
      "metadata": {
        "colab": {
          "base_uri": "https://localhost:8080/",
          "height": 674
        },
        "id": "nx2lUV4C6PRO",
        "outputId": "b10f1d48-aeef-4eb3-ad89-381b30c41838"
      },
      "source": [
        "sns.FacetGrid(\n",
        "    data=df1.melt(var_name='Attribute', value_name='value', value_vars=['length', 'diam', 'height', 'whole', 'shucked', 'viscera', 'shell'], ignore_index=False).join(y1),\n",
        "    col='Attribute',\n",
        "    col_wrap=3,\n",
        "    sharex=False,\n",
        "    sharey=False) \\\n",
        ".map(sns.scatterplot, 'value', 'rings')"
      ],
      "execution_count": 18,
      "outputs": [
        {
          "output_type": "execute_result",
          "data": {
            "text/plain": [
              "<seaborn.axisgrid.FacetGrid at 0x7fa1417eae90>"
            ]
          },
          "metadata": {},
          "execution_count": 18
        },
        {
          "output_type": "display_data",
          "data": {
            "image/png": "[encoded data removed]",
            "text/plain": [
              "<Figure size 648x648 with 7 Axes>"
            ]
          },
          "metadata": {
            "needs_background": "light"
          }
        }
      ]
    },
    {
      "cell_type": "markdown",
      "metadata": {
        "id": "Qzwkusspa5Jx"
      },
      "source": [
        "Naturally the data becomes a lot more skewed.  The scatterplot highlights the artificial outliers very clearly.\n",
        "<br>\n",
        "<br>\n",
        "\n",
        "## OLS estimation (with artificial outliers)"
      ]
    },
    {
      "cell_type": "code",
      "metadata": {
        "colab": {
          "base_uri": "https://localhost:8080/"
        },
        "id": "YvzB_mIk6_eV",
        "outputId": "6ed5038c-0c26-4323-a595-dc35ae932d56"
      },
      "source": [
        "x1 = sm.add_constant(x1)\n",
        "ols_o = sm.OLS(y1,x1).fit()\n",
        "sm_pred= ols_o.predict(x1)\n",
        "\n",
        "print(ols_o.summary())"
      ],
      "execution_count": 19,
      "outputs": [
        {
          "output_type": "stream",
          "text": [
            "                            OLS Regression Results                            \n",
            "==============================================================================\n",
            "Dep. Variable:                  rings   R-squared:                       0.334\n",
            "Model:                            OLS   Adj. R-squared:                  0.333\n",
            "Method:                 Least Squares   F-statistic:                     298.8\n",
            "Date:                Mon, 23 Aug 2021   Prob (F-statistic):               0.00\n",
            "Time:                        20:13:35   Log-Likelihood:                -9967.2\n",
            "No. Observations:                4177   AIC:                         1.995e+04\n",
            "Df Residuals:                    4169   BIC:                         2.000e+04\n",
            "Df Model:                           7                                         \n",
            "Covariance Type:            nonrobust                                         \n",
            "==============================================================================\n",
            "                 coef    std err          t      P>|t|      [0.025      0.975]\n",
            "------------------------------------------------------------------------------\n",
            "const          9.5868      0.084    114.707      0.000       9.423       9.751\n",
            "length       -12.1602      1.733     -7.018      0.000     -15.557      -8.763\n",
            "diam           6.8125      2.292      2.972      0.003       2.319      11.307\n",
            "height         6.8685      1.711      4.014      0.000       3.514      10.223\n",
            "whole          5.6037      0.755      7.418      0.000       4.123       7.085\n",
            "shucked      -10.1362      0.872    -11.629      0.000     -11.845      -8.427\n",
            "viscera        1.3970      1.227      1.139      0.255      -1.008       3.802\n",
            "shell          7.0807      1.184      5.978      0.000       4.759       9.403\n",
            "==============================================================================\n",
            "Omnibus:                      729.658   Durbin-Watson:                   1.183\n",
            "Prob(Omnibus):                  0.000   Jarque-Bera (JB):             9803.518\n",
            "Skew:                           0.417   Prob(JB):                         0.00\n",
            "Kurtosis:                      10.459   Cond. No.                         124.\n",
            "==============================================================================\n",
            "\n",
            "Warnings:\n",
            "[1] Standard Errors assume that the covariance matrix of the errors is correctly specified.\n"
          ],
          "name": "stdout"
        }
      ]
    },
    {
      "cell_type": "markdown",
      "metadata": {
        "id": "NcwhDhtdbELv"
      },
      "source": [
        "## Thiel Sen estimation (with artificial outliers)"
      ]
    },
    {
      "cell_type": "code",
      "metadata": {
        "colab": {
          "base_uri": "https://localhost:8080/"
        },
        "id": "NhePpBIK7uJH",
        "outputId": "9b5de4fe-c849-4748-8d8f-1164e3f44daa"
      },
      "source": [
        "# Create regression object\n",
        "ts_o = linear_model.TheilSenRegressor()\n",
        "\n",
        "# Fit the model\n",
        "ts_o.fit(x1, np.ravel(y1))\n",
        "\n",
        "# Print the intercept, co-efficients & R-squared\n",
        "for i in zip(x1.columns.tolist(), ts_o.coef_):\n",
        "  print(i[0].ljust(10),' :', '{:>9.2f}'.format(i[1]))\n",
        "\n",
        "print('R-squared'.ljust(10),' :', '{:>9.2f}'.format(ts_o.score(x1, np.ravel(y1))))"
      ],
      "execution_count": 20,
      "outputs": [
        {
          "output_type": "stream",
          "text": [
            "const       :      2.76\n",
            "length      :     -9.97\n",
            "diam        :     11.31\n",
            "height      :     19.35\n",
            "whole       :     12.91\n",
            "shucked     :    -23.39\n",
            "viscera     :    -12.50\n",
            "shell       :      9.30\n",
            "R-squared   :     -0.62\n"
          ],
          "name": "stdout"
        }
      ]
    },
    {
      "cell_type": "markdown",
      "metadata": {
        "id": "3gA6ytYtbOQO"
      },
      "source": [
        "## Comparison of models"
      ]
    },
    {
      "cell_type": "code",
      "metadata": {
        "id": "Zd6gbvGo-FI5",
        "colab": {
          "base_uri": "https://localhost:8080/",
          "height": 297
        },
        "outputId": "550a716c-7132-434b-b0ce-7304015da0f8"
      },
      "source": [
        "ts_coef = zip(x1.columns.tolist(), ts_o.coef_)\n",
        "ts_coef = pd.DataFrame(ts_coef, columns = ['Variable', 'TS coef (outliers)'])\n",
        "\n",
        "ols_coef = ols_o.params.to_frame(name='OLS coef (outliers)').rename_axis('Variable')\n",
        "ols_coef.reset_index(inplace=True)\n",
        "\n",
        "coef_o = ts_coef.merge(ols_coef, on='Variable')\n",
        "\n",
        "coef = coef.merge(coef_o, on='Variable')\n",
        "\n",
        "coef['Diff in coef (outliers)'] = coef['TS coef (outliers)'] - coef['OLS coef (outliers)']\n",
        "coef['TS coef (diff)'] = coef['TS coef'] - coef['TS coef (outliers)']\n",
        "coef['OLS coef (diff)'] = coef['OLS coef'] - coef['OLS coef (outliers)']\n",
        "coef.round(2)"
      ],
      "execution_count": 21,
      "outputs": [
        {
          "output_type": "execute_result",
          "data": {
            "text/html": [
              "<div>\n",
              "<style scoped>\n",
              "    .dataframe tbody tr th:only-of-type {\n",
              "        vertical-align: middle;\n",
              "    }\n",
              "\n",
              "    .dataframe tbody tr th {\n",
              "        vertical-align: top;\n",
              "    }\n",
              "\n",
              "    .dataframe thead th {\n",
              "        text-align: right;\n",
              "    }\n",
              "</style>\n",
              "<table border=\"1\" class=\"dataframe\">\n",
              "  <thead>\n",
              "    <tr style=\"text-align: right;\">\n",
              "      <th></th>\n",
              "      <th>Variable</th>\n",
              "      <th>TS coef</th>\n",
              "      <th>OLS coef</th>\n",
              "      <th>Diff in coef</th>\n",
              "      <th>TS coef (outliers)</th>\n",
              "      <th>OLS coef (outliers)</th>\n",
              "      <th>Diff in coef (outliers)</th>\n",
              "      <th>TS coef (diff)</th>\n",
              "      <th>OLS coef (diff)</th>\n",
              "    </tr>\n",
              "  </thead>\n",
              "  <tbody>\n",
              "    <tr>\n",
              "      <th>0</th>\n",
              "      <td>const</td>\n",
              "      <td>2.08</td>\n",
              "      <td>2.99</td>\n",
              "      <td>-0.91</td>\n",
              "      <td>2.76</td>\n",
              "      <td>9.59</td>\n",
              "      <td>-6.83</td>\n",
              "      <td>-0.68</td>\n",
              "      <td>-6.60</td>\n",
              "    </tr>\n",
              "    <tr>\n",
              "      <th>1</th>\n",
              "      <td>length</td>\n",
              "      <td>-6.41</td>\n",
              "      <td>-1.57</td>\n",
              "      <td>-4.84</td>\n",
              "      <td>-9.97</td>\n",
              "      <td>-12.16</td>\n",
              "      <td>2.19</td>\n",
              "      <td>3.56</td>\n",
              "      <td>10.59</td>\n",
              "    </tr>\n",
              "    <tr>\n",
              "      <th>2</th>\n",
              "      <td>diam</td>\n",
              "      <td>11.16</td>\n",
              "      <td>13.36</td>\n",
              "      <td>-2.20</td>\n",
              "      <td>11.31</td>\n",
              "      <td>6.81</td>\n",
              "      <td>4.50</td>\n",
              "      <td>-0.15</td>\n",
              "      <td>6.55</td>\n",
              "    </tr>\n",
              "    <tr>\n",
              "      <th>3</th>\n",
              "      <td>height</td>\n",
              "      <td>23.40</td>\n",
              "      <td>11.83</td>\n",
              "      <td>11.57</td>\n",
              "      <td>19.35</td>\n",
              "      <td>6.87</td>\n",
              "      <td>12.48</td>\n",
              "      <td>4.05</td>\n",
              "      <td>4.96</td>\n",
              "    </tr>\n",
              "    <tr>\n",
              "      <th>4</th>\n",
              "      <td>whole</td>\n",
              "      <td>13.17</td>\n",
              "      <td>9.25</td>\n",
              "      <td>3.92</td>\n",
              "      <td>12.91</td>\n",
              "      <td>5.60</td>\n",
              "      <td>7.31</td>\n",
              "      <td>0.26</td>\n",
              "      <td>3.64</td>\n",
              "    </tr>\n",
              "    <tr>\n",
              "      <th>5</th>\n",
              "      <td>shucked</td>\n",
              "      <td>-24.88</td>\n",
              "      <td>-20.21</td>\n",
              "      <td>-4.67</td>\n",
              "      <td>-23.39</td>\n",
              "      <td>-10.14</td>\n",
              "      <td>-13.26</td>\n",
              "      <td>-1.49</td>\n",
              "      <td>-10.08</td>\n",
              "    </tr>\n",
              "    <tr>\n",
              "      <th>6</th>\n",
              "      <td>viscera</td>\n",
              "      <td>-13.46</td>\n",
              "      <td>-9.83</td>\n",
              "      <td>-3.63</td>\n",
              "      <td>-12.50</td>\n",
              "      <td>1.40</td>\n",
              "      <td>-13.89</td>\n",
              "      <td>-0.96</td>\n",
              "      <td>-11.23</td>\n",
              "    </tr>\n",
              "    <tr>\n",
              "      <th>7</th>\n",
              "      <td>shell</td>\n",
              "      <td>7.02</td>\n",
              "      <td>8.58</td>\n",
              "      <td>-1.56</td>\n",
              "      <td>9.30</td>\n",
              "      <td>7.08</td>\n",
              "      <td>2.22</td>\n",
              "      <td>-2.28</td>\n",
              "      <td>1.50</td>\n",
              "    </tr>\n",
              "  </tbody>\n",
              "</table>\n",
              "</div>"
            ],
            "text/plain": [
              "  Variable  TS coef  ...  TS coef (diff)  OLS coef (diff)\n",
              "0    const     2.08  ...           -0.68            -6.60\n",
              "1   length    -6.41  ...            3.56            10.59\n",
              "2     diam    11.16  ...           -0.15             6.55\n",
              "3   height    23.40  ...            4.05             4.96\n",
              "4    whole    13.17  ...            0.26             3.64\n",
              "5  shucked   -24.88  ...           -1.49           -10.08\n",
              "6  viscera   -13.46  ...           -0.96           -11.23\n",
              "7    shell     7.02  ...           -2.28             1.50\n",
              "\n",
              "[8 rows x 9 columns]"
            ]
          },
          "metadata": {},
          "execution_count": 21
        }
      ]
    },
    {
      "cell_type": "markdown",
      "metadata": {
        "id": "3oDKgs3Uc29R"
      },
      "source": [
        "## Observations\n",
        "\n",
        "### OLS model\n",
        "The r-squared is now much lower for the OLS model. From 0.5 on the original data to 0.3 on the data with the artificial outliers inserted.  This makes sense in the context of the outliers increasing the variance of the data.\n",
        "\n",
        "The difference in coefficients is substantial, for example viscera has increased from -9.8 to 1.4, and length from -1.6 to -12.1.  Interestingly, shell has changed by a much smaller relative amount, 8.6 to 7.1.  \n",
        "\n",
        "Why is this?  Why has the sign of the coefficient on viscera changed?  \n",
        "\n",
        "It appears there is excessive multicollinearity in the original dataset, and this has given rise to spurious or unstable coefficients.  A small(ish) change to the data has given rise to large changes in coefficients.  Going back to the original data reveals an average pairwise correlation of around 0.9.\n",
        "<br>\n",
        "<br>\n",
        "### Theil Sen model\n",
        "\n",
        "The Thiel Sen model coefficients are much more stable and have not changed sign.  The largest change, the length coefficient, has almost doubled from -5.7 to -10.9.  This variable has the largest change in coefficient in both the Theil Sen and OLS models.\n",
        "\n",
        "The r-squared for the model with outliers has decreased to -0.56 (yes, negative).  This is because the model in aggregate has worse predictions than simply predicting the baseline, the average of the y values.  This result makes sense in the context of the solution that Theil Sen implements; if outliers are not taken into account when coefficients are derived (remember it is the median of all slopes across all data points), these will result in large prediction errors.  \n",
        "\n",
        "Below the r-squared is calculated for data points including and excluding the artificial outliers.  The values for this are -0.27 and 0.51 respectively.\n",
        "\n",
        "It should be noted that by virtue of the method of inserting outliers, the correlation structure of the data has been preserved.\n",
        "<br>\n",
        "<br>\n",
        "## Conclusion\n",
        "\n",
        "This has been a quick little piece of analysis.  What have we learned?\n",
        "\n",
        "1. Multi-collinearity can lead to unstable regression coefficents  \n",
        "2. The r-squared based on models fit using robust techniques may be spurious if data is bifurcated similar to that artificially induced above  \n",
        "3. Theil Sen regression is another string in your bow.  \n",
        "\n",
        "\n",
        "\n",
        "<br>\n",
        "<br>\n",
        "\n",
        "---\n",
        "\n",
        "<br>\n",
        "<br>\n",
        "\n",
        "## Scratch workings\n",
        "\n",
        "### R-squared information"
      ]
    },
    {
      "cell_type": "code",
      "metadata": {
        "colab": {
          "base_uri": "https://localhost:8080/"
        },
        "id": "h2mDp_zKV5TW",
        "outputId": "ebcaf861-7a3b-4d8b-ae5b-ad99903898bd"
      },
      "source": [
        "# r-squared - OLS with outliers\n",
        "ols_o.rsquared"
      ],
      "execution_count": 22,
      "outputs": [
        {
          "output_type": "execute_result",
          "data": {
            "text/plain": [
              "0.3340788540256908"
            ]
          },
          "metadata": {},
          "execution_count": 22
        }
      ]
    },
    {
      "cell_type": "code",
      "metadata": {
        "colab": {
          "base_uri": "https://localhost:8080/"
        },
        "id": "JxkEZwisWIeh",
        "outputId": "a74a4fe8-bff1-443d-caa7-bbfcfb87bd87"
      },
      "source": [
        "# r-squared - TS with outliers\n",
        "ts_o.score(x1, np.ravel(y1))"
      ],
      "execution_count": 23,
      "outputs": [
        {
          "output_type": "execute_result",
          "data": {
            "text/plain": [
              "-0.6166942787878218"
            ]
          },
          "metadata": {},
          "execution_count": 23
        }
      ]
    },
    {
      "cell_type": "code",
      "metadata": {
        "colab": {
          "base_uri": "https://localhost:8080/"
        },
        "id": "oE-hhRAUXD-f",
        "outputId": "2c37221e-b321-445e-cfda-aa6e425abe6d"
      },
      "source": [
        "# r-squared - TS on ALL data points\n",
        "ts_o.score(x1, y1)"
      ],
      "execution_count": 24,
      "outputs": [
        {
          "output_type": "execute_result",
          "data": {
            "text/plain": [
              "-0.6166942787878218"
            ]
          },
          "metadata": {},
          "execution_count": 24
        }
      ]
    },
    {
      "cell_type": "code",
      "metadata": {
        "colab": {
          "base_uri": "https://localhost:8080/"
        },
        "id": "D1scRd3hzvaV",
        "outputId": "51b11040-30b2-4fd6-dfd1-02a5b6abb2ca"
      },
      "source": [
        "# r-squared - TS on data points that ARE outliers\n",
        "ts_o.score(x1.iloc[np.r_[0:100,4076:4176]], y1.iloc[np.r_[0:100,4076:4176]])"
      ],
      "execution_count": 25,
      "outputs": [
        {
          "output_type": "execute_result",
          "data": {
            "text/plain": [
              "-29.564854211258634"
            ]
          },
          "metadata": {},
          "execution_count": 25
        }
      ]
    },
    {
      "cell_type": "code",
      "metadata": {
        "colab": {
          "base_uri": "https://localhost:8080/"
        },
        "id": "JwRU0rYA0-Vo",
        "outputId": "a33722d2-f1c0-451b-b2f9-bfcc3ee3da3a"
      },
      "source": [
        "# r-squared - TS on data points that ARE NOT outliers\n",
        "ts_o.score(x1.iloc[np.r_[101:4075]], y1.iloc[np.r_[101:4075]])"
      ],
      "execution_count": 26,
      "outputs": [
        {
          "output_type": "execute_result",
          "data": {
            "text/plain": [
              "0.5081364119559657"
            ]
          },
          "metadata": {},
          "execution_count": 26
        }
      ]
    },
    {
      "cell_type": "markdown",
      "metadata": {
        "id": "kmRQcbYDv00f"
      },
      "source": [
        "### Average pairwise correlation of original data set"
      ]
    },
    {
      "cell_type": "code",
      "metadata": {
        "colab": {
          "base_uri": "https://localhost:8080/",
          "height": 266
        },
        "id": "wxQ0mzp3jmP1",
        "outputId": "b5ee5db0-698f-41de-f9db-9f8850faf16c"
      },
      "source": [
        "df_corr = df.iloc[:, 0:7].corr()\n",
        "df_corr"
      ],
      "execution_count": 27,
      "outputs": [
        {
          "output_type": "execute_result",
          "data": {
            "text/html": [
              "<div>\n",
              "<style scoped>\n",
              "    .dataframe tbody tr th:only-of-type {\n",
              "        vertical-align: middle;\n",
              "    }\n",
              "\n",
              "    .dataframe tbody tr th {\n",
              "        vertical-align: top;\n",
              "    }\n",
              "\n",
              "    .dataframe thead th {\n",
              "        text-align: right;\n",
              "    }\n",
              "</style>\n",
              "<table border=\"1\" class=\"dataframe\">\n",
              "  <thead>\n",
              "    <tr style=\"text-align: right;\">\n",
              "      <th></th>\n",
              "      <th>length</th>\n",
              "      <th>diam</th>\n",
              "      <th>height</th>\n",
              "      <th>whole</th>\n",
              "      <th>shucked</th>\n",
              "      <th>viscera</th>\n",
              "      <th>shell</th>\n",
              "    </tr>\n",
              "  </thead>\n",
              "  <tbody>\n",
              "    <tr>\n",
              "      <th>length</th>\n",
              "      <td>1.000000</td>\n",
              "      <td>0.997471</td>\n",
              "      <td>0.962519</td>\n",
              "      <td>0.861553</td>\n",
              "      <td>0.827044</td>\n",
              "      <td>0.850503</td>\n",
              "      <td>0.868906</td>\n",
              "    </tr>\n",
              "    <tr>\n",
              "      <th>diam</th>\n",
              "      <td>0.997471</td>\n",
              "      <td>1.000000</td>\n",
              "      <td>0.964844</td>\n",
              "      <td>0.871345</td>\n",
              "      <td>0.835328</td>\n",
              "      <td>0.858122</td>\n",
              "      <td>0.879775</td>\n",
              "    </tr>\n",
              "    <tr>\n",
              "      <th>height</th>\n",
              "      <td>0.962519</td>\n",
              "      <td>0.964844</td>\n",
              "      <td>1.000000</td>\n",
              "      <td>0.869090</td>\n",
              "      <td>0.827839</td>\n",
              "      <td>0.857939</td>\n",
              "      <td>0.880715</td>\n",
              "    </tr>\n",
              "    <tr>\n",
              "      <th>whole</th>\n",
              "      <td>0.861553</td>\n",
              "      <td>0.871345</td>\n",
              "      <td>0.869090</td>\n",
              "      <td>1.000000</td>\n",
              "      <td>0.977039</td>\n",
              "      <td>0.973434</td>\n",
              "      <td>0.971785</td>\n",
              "    </tr>\n",
              "    <tr>\n",
              "      <th>shucked</th>\n",
              "      <td>0.827044</td>\n",
              "      <td>0.835328</td>\n",
              "      <td>0.827839</td>\n",
              "      <td>0.977039</td>\n",
              "      <td>1.000000</td>\n",
              "      <td>0.955973</td>\n",
              "      <td>0.915816</td>\n",
              "    </tr>\n",
              "    <tr>\n",
              "      <th>viscera</th>\n",
              "      <td>0.850503</td>\n",
              "      <td>0.858122</td>\n",
              "      <td>0.857939</td>\n",
              "      <td>0.973434</td>\n",
              "      <td>0.955973</td>\n",
              "      <td>1.000000</td>\n",
              "      <td>0.928095</td>\n",
              "    </tr>\n",
              "    <tr>\n",
              "      <th>shell</th>\n",
              "      <td>0.868906</td>\n",
              "      <td>0.879775</td>\n",
              "      <td>0.880715</td>\n",
              "      <td>0.971785</td>\n",
              "      <td>0.915816</td>\n",
              "      <td>0.928095</td>\n",
              "      <td>1.000000</td>\n",
              "    </tr>\n",
              "  </tbody>\n",
              "</table>\n",
              "</div>"
            ],
            "text/plain": [
              "           length      diam    height     whole   shucked   viscera     shell\n",
              "length   1.000000  0.997471  0.962519  0.861553  0.827044  0.850503  0.868906\n",
              "diam     0.997471  1.000000  0.964844  0.871345  0.835328  0.858122  0.879775\n",
              "height   0.962519  0.964844  1.000000  0.869090  0.827839  0.857939  0.880715\n",
              "whole    0.861553  0.871345  0.869090  1.000000  0.977039  0.973434  0.971785\n",
              "shucked  0.827044  0.835328  0.827839  0.977039  1.000000  0.955973  0.915816\n",
              "viscera  0.850503  0.858122  0.857939  0.973434  0.955973  1.000000  0.928095\n",
              "shell    0.868906  0.879775  0.880715  0.971785  0.915816  0.928095  1.000000"
            ]
          },
          "metadata": {},
          "execution_count": 27
        }
      ]
    },
    {
      "cell_type": "code",
      "metadata": {
        "colab": {
          "base_uri": "https://localhost:8080/"
        },
        "id": "IbajE01mshYP",
        "outputId": "f5b461d3-a253-4659-9af3-9d762c8fe1dc"
      },
      "source": [
        "np.nanmean(df_corr.values[np.triu_indices_from(df_corr.values,1)])"
      ],
      "execution_count": 28,
      "outputs": [
        {
          "output_type": "execute_result",
          "data": {
            "text/plain": [
              "0.901673180385633"
            ]
          },
          "metadata": {},
          "execution_count": 28
        }
      ]
    },
    {
      "cell_type": "markdown",
      "metadata": {
        "id": "po4eS8qQ7cou"
      },
      "source": [
        "### Average pairwise correlation of outliers data set"
      ]
    },
    {
      "cell_type": "code",
      "metadata": {
        "colab": {
          "base_uri": "https://localhost:8080/"
        },
        "id": "WwE0tqVTwc1X",
        "outputId": "11d1fb4a-5a00-41e0-b4ff-1a4cd4644edb"
      },
      "source": [
        "df_corr_o = df1.iloc[:, 0:7].corr()\n",
        "np.nanmean(df_corr_o.values[np.triu_indices_from(df_corr_o.values,1)])"
      ],
      "execution_count": 29,
      "outputs": [
        {
          "output_type": "execute_result",
          "data": {
            "text/plain": [
              "0.901673180385633"
            ]
          },
          "metadata": {},
          "execution_count": 29
        }
      ]
    },
    {
      "cell_type": "markdown",
      "metadata": {
        "id": "22Buj-Q0v6IY"
      },
      "source": [
        "### Attributes associated with regression model objects"
      ]
    },
    {
      "cell_type": "code",
      "metadata": {
        "colab": {
          "base_uri": "https://localhost:8080/"
        },
        "id": "R5LnTi82WUpU",
        "outputId": "8c3424f4-70ff-4059-c730-eda8fd8d8d57"
      },
      "source": [
        "dir(ts_o)"
      ],
      "execution_count": 30,
      "outputs": [
        {
          "output_type": "execute_result",
          "data": {
            "text/plain": [
              "['__abstractmethods__',\n",
              " '__class__',\n",
              " '__delattr__',\n",
              " '__dict__',\n",
              " '__dir__',\n",
              " '__doc__',\n",
              " '__eq__',\n",
              " '__format__',\n",
              " '__ge__',\n",
              " '__getattribute__',\n",
              " '__getstate__',\n",
              " '__gt__',\n",
              " '__hash__',\n",
              " '__init__',\n",
              " '__init_subclass__',\n",
              " '__le__',\n",
              " '__lt__',\n",
              " '__module__',\n",
              " '__ne__',\n",
              " '__new__',\n",
              " '__reduce__',\n",
              " '__reduce_ex__',\n",
              " '__repr__',\n",
              " '__setattr__',\n",
              " '__setstate__',\n",
              " '__sizeof__',\n",
              " '__str__',\n",
              " '__subclasshook__',\n",
              " '__weakref__',\n",
              " '_abc_impl',\n",
              " '_check_subparams',\n",
              " '_decision_function',\n",
              " '_estimator_type',\n",
              " '_get_param_names',\n",
              " '_get_tags',\n",
              " '_more_tags',\n",
              " '_preprocess_data',\n",
              " '_set_intercept',\n",
              " 'breakdown_',\n",
              " 'coef_',\n",
              " 'copy_X',\n",
              " 'fit',\n",
              " 'fit_intercept',\n",
              " 'get_params',\n",
              " 'intercept_',\n",
              " 'max_iter',\n",
              " 'max_subpopulation',\n",
              " 'n_iter_',\n",
              " 'n_jobs',\n",
              " 'n_subpopulation_',\n",
              " 'n_subsamples',\n",
              " 'predict',\n",
              " 'random_state',\n",
              " 'score',\n",
              " 'set_params',\n",
              " 'tol',\n",
              " 'verbose']"
            ]
          },
          "metadata": {},
          "execution_count": 30
        }
      ]
    },
    {
      "cell_type": "code",
      "metadata": {
        "colab": {
          "base_uri": "https://localhost:8080/"
        },
        "id": "G4lSsZWa96qC",
        "outputId": "d9843008-244c-41d8-af39-2db26b342992"
      },
      "source": [
        "dir(ols_o)"
      ],
      "execution_count": 31,
      "outputs": [
        {
          "output_type": "execute_result",
          "data": {
            "text/plain": [
              "['HC0_se',\n",
              " 'HC1_se',\n",
              " 'HC2_se',\n",
              " 'HC3_se',\n",
              " '_HCCM',\n",
              " '__class__',\n",
              " '__delattr__',\n",
              " '__dict__',\n",
              " '__dir__',\n",
              " '__doc__',\n",
              " '__eq__',\n",
              " '__format__',\n",
              " '__ge__',\n",
              " '__getattribute__',\n",
              " '__gt__',\n",
              " '__hash__',\n",
              " '__init__',\n",
              " '__init_subclass__',\n",
              " '__le__',\n",
              " '__lt__',\n",
              " '__module__',\n",
              " '__ne__',\n",
              " '__new__',\n",
              " '__reduce__',\n",
              " '__reduce_ex__',\n",
              " '__repr__',\n",
              " '__setattr__',\n",
              " '__sizeof__',\n",
              " '__str__',\n",
              " '__subclasshook__',\n",
              " '__weakref__',\n",
              " '_cache',\n",
              " '_data_attr',\n",
              " '_get_robustcov_results',\n",
              " '_is_nested',\n",
              " '_wexog_singular_values',\n",
              " 'aic',\n",
              " 'bic',\n",
              " 'bse',\n",
              " 'centered_tss',\n",
              " 'compare_f_test',\n",
              " 'compare_lm_test',\n",
              " 'compare_lr_test',\n",
              " 'condition_number',\n",
              " 'conf_int',\n",
              " 'conf_int_el',\n",
              " 'cov_HC0',\n",
              " 'cov_HC1',\n",
              " 'cov_HC2',\n",
              " 'cov_HC3',\n",
              " 'cov_kwds',\n",
              " 'cov_params',\n",
              " 'cov_type',\n",
              " 'df_model',\n",
              " 'df_resid',\n",
              " 'diagn',\n",
              " 'eigenvals',\n",
              " 'el_test',\n",
              " 'ess',\n",
              " 'f_pvalue',\n",
              " 'f_test',\n",
              " 'fittedvalues',\n",
              " 'fvalue',\n",
              " 'get_influence',\n",
              " 'get_prediction',\n",
              " 'get_robustcov_results',\n",
              " 'initialize',\n",
              " 'k_constant',\n",
              " 'llf',\n",
              " 'load',\n",
              " 'model',\n",
              " 'mse_model',\n",
              " 'mse_resid',\n",
              " 'mse_total',\n",
              " 'nobs',\n",
              " 'normalized_cov_params',\n",
              " 'outlier_test',\n",
              " 'params',\n",
              " 'predict',\n",
              " 'pvalues',\n",
              " 'remove_data',\n",
              " 'resid',\n",
              " 'resid_pearson',\n",
              " 'rsquared',\n",
              " 'rsquared_adj',\n",
              " 'save',\n",
              " 'scale',\n",
              " 'ssr',\n",
              " 'summary',\n",
              " 'summary2',\n",
              " 't_test',\n",
              " 't_test_pairwise',\n",
              " 'tvalues',\n",
              " 'uncentered_tss',\n",
              " 'use_t',\n",
              " 'wald_test',\n",
              " 'wald_test_terms',\n",
              " 'wresid']"
            ]
          },
          "metadata": {},
          "execution_count": 31
        }
      ]
    }
  ]
}