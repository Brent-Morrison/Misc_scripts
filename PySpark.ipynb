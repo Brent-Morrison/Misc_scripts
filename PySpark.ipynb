{
  "nbformat": 4,
  "nbformat_minor": 0,
  "metadata": {
    "colab": {
      "name": "pySpark.ipynb",
      "provenance": [],
      "collapsed_sections": [],
      "authorship_tag": "ABX9TyMBowNIncyjlBlgNbDGE9Af",
      "include_colab_link": true
    },
    "kernelspec": {
      "name": "python3",
      "display_name": "Python 3"
    }
  },
  "cells": [
    {
      "cell_type": "markdown",
      "metadata": {
        "id": "view-in-github",
        "colab_type": "text"
      },
      "source": [
        "<a href=\"https://colab.research.google.com/github/Brent-Morrison/Misc_scripts/blob/master/PySpark.ipynb\" target=\"_parent\"><img src=\"https://colab.research.google.com/assets/colab-badge.svg\" alt=\"Open In Colab\"/></a>"
      ]
    },
    {
      "cell_type": "markdown",
      "metadata": {
        "id": "F0KcumpoTPsM",
        "colab_type": "text"
      },
      "source": [
        "**Using pySpark in Google Colab**\n",
        "\n",
        "Installations\n"
      ]
    },
    {
      "cell_type": "code",
      "metadata": {
        "id": "RpIggmzSTHzf",
        "colab_type": "code",
        "outputId": "ff933844-3a37-490f-c073-cfd3410ee4a6",
        "colab": {
          "base_uri": "https://localhost:8080/",
          "height": 105
        }
      },
      "source": [
        "!apt-get install openjdk-8-jdk-headless -qq > /dev/null\n",
        "!wget -q https://www-eu.apache.org/dist/spark/spark-2.4.5/spark-2.4.5-bin-hadoop2.7.tgz\n",
        "!tar xf spark-2.4.5-bin-hadoop2.7.tgz\n",
        "!pip install -q findspark\n",
        "!pip install pyspark\n",
        "!pip install pyarrow"
      ],
      "execution_count": 0,
      "outputs": [
        {
          "output_type": "stream",
          "text": [
            "Requirement already satisfied: pyspark in /usr/local/lib/python3.6/dist-packages (2.4.5)\n",
            "Requirement already satisfied: py4j==0.10.7 in /usr/local/lib/python3.6/dist-packages (from pyspark) (0.10.7)\n",
            "Requirement already satisfied: pyarrow in /usr/local/lib/python3.6/dist-packages (0.14.1)\n",
            "Requirement already satisfied: numpy>=1.14 in /usr/local/lib/python3.6/dist-packages (from pyarrow) (1.17.5)\n",
            "Requirement already satisfied: six>=1.0.0 in /usr/local/lib/python3.6/dist-packages (from pyarrow) (1.12.0)\n"
          ],
          "name": "stdout"
        }
      ]
    },
    {
      "cell_type": "markdown",
      "metadata": {
        "id": "SUIYK6zPXCWA",
        "colab_type": "text"
      },
      "source": [
        "Set the environment variables so that Colab can find Spark"
      ]
    },
    {
      "cell_type": "code",
      "metadata": {
        "id": "HZAzYvk4XA2s",
        "colab_type": "code",
        "colab": {}
      },
      "source": [
        "import os\n",
        "os.environ[\"JAVA_HOME\"] = \"/usr/lib/jvm/java-8-openjdk-amd64\"\n",
        "os.environ[\"SPARK_HOME\"] = \"/content/spark-2.4.5-bin-hadoop2.7\""
      ],
      "execution_count": 0,
      "outputs": []
    },
    {
      "cell_type": "markdown",
      "metadata": {
        "id": "k3IqshTMkpTN",
        "colab_type": "text"
      },
      "source": [
        "Add pyspark to sys.path\n",
        "\n",
        "PySpark isn't on sys.path by default, but that doesn't mean it can't be used as a regular library. You can address this by either symlinking pyspark into your site-packages, or adding pyspark to sys.path at runtime. [findspark](https://github.com/minrk/findspark) does the latter."
      ]
    },
    {
      "cell_type": "code",
      "metadata": {
        "id": "w-SWH1j4XZuW",
        "colab_type": "code",
        "colab": {}
      },
      "source": [
        "import findspark\n",
        "findspark.init()"
      ],
      "execution_count": 0,
      "outputs": []
    },
    {
      "cell_type": "markdown",
      "metadata": {
        "id": "WU_5pVQN_SsT",
        "colab_type": "text"
      },
      "source": [
        "Create the Spark session"
      ]
    },
    {
      "cell_type": "code",
      "metadata": {
        "id": "svOtNUjS_s5i",
        "colab_type": "code",
        "colab": {}
      },
      "source": [
        "from pyspark.sql import SparkSession\n",
        "spark = SparkSession.builder.master(\"local[*]\").getOrCreate()"
      ],
      "execution_count": 0,
      "outputs": []
    },
    {
      "cell_type": "markdown",
      "metadata": {
        "id": "21-MjEmGX14v",
        "colab_type": "text"
      },
      "source": [
        "Test everything is working by creating a test dataframe"
      ]
    },
    {
      "cell_type": "code",
      "metadata": {
        "id": "ZnwZHPhXX2te",
        "colab_type": "code",
        "outputId": "9fa80bd0-2d6f-4cbc-ef19-30872b9c3184",
        "colab": {
          "base_uri": "https://localhost:8080/",
          "height": 265
        }
      },
      "source": [
        "test_df = spark.createDataFrame([{\"hello\": \"world\"} for x in range(100)])\n",
        "\n",
        "test_df.printSchema()\n",
        "test_df.show(3)"
      ],
      "execution_count": 0,
      "outputs": [
        {
          "output_type": "stream",
          "text": [
            "root\n",
            " |-- hello: string (nullable = true)\n",
            "\n",
            "+-----+\n",
            "|hello|\n",
            "+-----+\n",
            "|world|\n",
            "|world|\n",
            "|world|\n",
            "+-----+\n",
            "only showing top 3 rows\n",
            "\n"
          ],
          "name": "stdout"
        },
        {
          "output_type": "stream",
          "text": [
            "/content/spark-2.4.5-bin-hadoop2.7/python/pyspark/sql/session.py:346: UserWarning: inferring schema from dict is deprecated,please use pyspark.sql.Row instead\n",
            "  warnings.warn(\"inferring schema from dict is deprecated,\"\n"
          ],
          "name": "stderr"
        }
      ]
    },
    {
      "cell_type": "markdown",
      "metadata": {
        "id": "r64sT8R3d3vU",
        "colab_type": "text"
      },
      "source": [
        "Get a feather file from github.\n",
        "\n",
        "The intention was to be implement this using PyArrow however  [it looks like](https://issues.apache.org/jira/browse/ARROW-6998?filter=-6) that won't happen.\n",
        "\n",
        "[This](https://github.com/pandas-dev/pandas/issues/29055) workaround seems to be the way to go."
      ]
    },
    {
      "cell_type": "code",
      "metadata": {
        "id": "ysmCdGFYfohN",
        "colab_type": "code",
        "outputId": "df3b5c81-c75e-4fa3-cdbe-4c2d23c40379",
        "colab": {
          "base_uri": "https://localhost:8080/",
          "height": 197
        }
      },
      "source": [
        "# Not working\n",
        "# import pyarrow as pa\n",
        "# fin_data = pa.feather.read_feather('https://github.com/Brent-Morrison/hugo_website/blob/master/content/post/ifrs9_part2.feather')\n",
        "\n",
        "# Working\n",
        "import pandas as pd\n",
        "import requests\n",
        "import io\n",
        "resp = requests.get('https://github.com/Brent-Morrison/hugo_website/raw/master/content/post/ifrs9_part2.feather', stream = True)\n",
        "resp.raw.decode_content = True\n",
        "mem_fh = io.BytesIO(resp.raw.read())\n",
        "fin_data = pd.read_feather(mem_fh)\n",
        "fin_data.head()"
      ],
      "execution_count": 0,
      "outputs": [
        {
          "output_type": "execute_result",
          "data": {
            "text/html": [
              "<div>\n",
              "<style scoped>\n",
              "    .dataframe tbody tr th:only-of-type {\n",
              "        vertical-align: middle;\n",
              "    }\n",
              "\n",
              "    .dataframe tbody tr th {\n",
              "        vertical-align: top;\n",
              "    }\n",
              "\n",
              "    .dataframe thead th {\n",
              "        text-align: right;\n",
              "    }\n",
              "</style>\n",
              "<table border=\"1\" class=\"dataframe\">\n",
              "  <thead>\n",
              "    <tr style=\"text-align: right;\">\n",
              "      <th></th>\n",
              "      <th>Ticker</th>\n",
              "      <th>me.date</th>\n",
              "      <th>clust.name</th>\n",
              "      <th>RiskStage</th>\n",
              "      <th>TotalDebt</th>\n",
              "      <th>ECL</th>\n",
              "    </tr>\n",
              "  </thead>\n",
              "  <tbody>\n",
              "    <tr>\n",
              "      <th>0</th>\n",
              "      <td>A</td>\n",
              "      <td>2016-12-31</td>\n",
              "      <td>rev.vol_oa.ta_td.ta_da.ta</td>\n",
              "      <td>1.0</td>\n",
              "      <td>1887.0</td>\n",
              "      <td>11.691196</td>\n",
              "    </tr>\n",
              "    <tr>\n",
              "      <th>1</th>\n",
              "      <td>A</td>\n",
              "      <td>2017-01-31</td>\n",
              "      <td>np.ta_td.ta_nca.ta_rev.vol</td>\n",
              "      <td>1.0</td>\n",
              "      <td>1887.0</td>\n",
              "      <td>32.852229</td>\n",
              "    </tr>\n",
              "    <tr>\n",
              "      <th>2</th>\n",
              "      <td>A</td>\n",
              "      <td>2017-02-28</td>\n",
              "      <td>np.ta_td.ta_nca.ta_rev.vol</td>\n",
              "      <td>1.0</td>\n",
              "      <td>1887.0</td>\n",
              "      <td>34.309091</td>\n",
              "    </tr>\n",
              "    <tr>\n",
              "      <th>3</th>\n",
              "      <td>A</td>\n",
              "      <td>2017-03-31</td>\n",
              "      <td>np.ta_td.ta_nca.ta_rev.vol</td>\n",
              "      <td>1.0</td>\n",
              "      <td>2043.0</td>\n",
              "      <td>38.319819</td>\n",
              "    </tr>\n",
              "    <tr>\n",
              "      <th>4</th>\n",
              "      <td>A</td>\n",
              "      <td>2017-04-30</td>\n",
              "      <td>np.ta_td.ta_nca.ta_rev.vol</td>\n",
              "      <td>1.0</td>\n",
              "      <td>2043.0</td>\n",
              "      <td>33.507803</td>\n",
              "    </tr>\n",
              "  </tbody>\n",
              "</table>\n",
              "</div>"
            ],
            "text/plain": [
              "  Ticker     me.date  ... TotalDebt        ECL\n",
              "0      A  2016-12-31  ...    1887.0  11.691196\n",
              "1      A  2017-01-31  ...    1887.0  32.852229\n",
              "2      A  2017-02-28  ...    1887.0  34.309091\n",
              "3      A  2017-03-31  ...    2043.0  38.319819\n",
              "4      A  2017-04-30  ...    2043.0  33.507803\n",
              "\n",
              "[5 rows x 6 columns]"
            ]
          },
          "metadata": {
            "tags": []
          },
          "execution_count": 66
        }
      ]
    },
    {
      "cell_type": "markdown",
      "metadata": {
        "id": "4BcX928tRqst",
        "colab_type": "text"
      },
      "source": [
        "Check data type"
      ]
    },
    {
      "cell_type": "code",
      "metadata": {
        "id": "LvaFfR7KLsOj",
        "colab_type": "code",
        "outputId": "19425734-2ed4-4b99-a7c4-7f7c33c86da6",
        "colab": {
          "base_uri": "https://localhost:8080/",
          "height": 212
        }
      },
      "source": [
        "fin_data.info()"
      ],
      "execution_count": 0,
      "outputs": [
        {
          "output_type": "stream",
          "text": [
            "<class 'pandas.core.frame.DataFrame'>\n",
            "RangeIndex: 24236 entries, 0 to 24235\n",
            "Data columns (total 6 columns):\n",
            "Ticker        24236 non-null object\n",
            "me.date       24236 non-null object\n",
            "clust.name    24236 non-null object\n",
            "RiskStage     24236 non-null float64\n",
            "TotalDebt     24236 non-null float64\n",
            "ECL           24236 non-null float64\n",
            "dtypes: float64(3), object(3)\n",
            "memory usage: 1.1+ MB\n"
          ],
          "name": "stdout"
        }
      ]
    },
    {
      "cell_type": "markdown",
      "metadata": {
        "id": "gqwt7BXRR7Ef",
        "colab_type": "text"
      },
      "source": [
        "The date column 'me.date' has been imported as on object instead of a date.  This needs to be changed before converting to a PySpark dataframe."
      ]
    },
    {
      "cell_type": "code",
      "metadata": {
        "id": "eaglCIF8SL1p",
        "colab_type": "code",
        "outputId": "f9a52140-42ed-413d-ef6a-df76b4b1ea33",
        "colab": {
          "base_uri": "https://localhost:8080/",
          "height": 212
        }
      },
      "source": [
        "fin_data['me.date'] = pd.to_datetime(fin_data['me.date']) \n",
        "fin_data.info()"
      ],
      "execution_count": 0,
      "outputs": [
        {
          "output_type": "stream",
          "text": [
            "<class 'pandas.core.frame.DataFrame'>\n",
            "RangeIndex: 24236 entries, 0 to 24235\n",
            "Data columns (total 6 columns):\n",
            "Ticker        24236 non-null object\n",
            "me.date       24236 non-null datetime64[ns]\n",
            "clust.name    24236 non-null object\n",
            "RiskStage     24236 non-null float64\n",
            "TotalDebt     24236 non-null float64\n",
            "ECL           24236 non-null float64\n",
            "dtypes: datetime64[ns](1), float64(3), object(2)\n",
            "memory usage: 1.1+ MB\n"
          ],
          "name": "stdout"
        }
      ]
    },
    {
      "cell_type": "markdown",
      "metadata": {
        "id": "Lp5keJ3YrrCK",
        "colab_type": "text"
      },
      "source": [
        "We now convert to a Spark dataframe"
      ]
    },
    {
      "cell_type": "code",
      "metadata": {
        "id": "Mvx-GQq5rvRQ",
        "colab_type": "code",
        "outputId": "dc041a41-2450-42e3-d501-2f475bfe7871",
        "colab": {
          "base_uri": "https://localhost:8080/",
          "height": 158
        }
      },
      "source": [
        "fin_data_spark = spark.createDataFrame(fin_data)\n",
        "\n",
        "fin_data_spark.printSchema()"
      ],
      "execution_count": 0,
      "outputs": [
        {
          "output_type": "stream",
          "text": [
            "root\n",
            " |-- Ticker: string (nullable = true)\n",
            " |-- me.date: timestamp (nullable = true)\n",
            " |-- clust.name: string (nullable = true)\n",
            " |-- RiskStage: double (nullable = true)\n",
            " |-- TotalDebt: double (nullable = true)\n",
            " |-- ECL: double (nullable = true)\n",
            "\n"
          ],
          "name": "stdout"
        }
      ]
    },
    {
      "cell_type": "markdown",
      "metadata": {
        "id": "_G9-Fp0E5GMD",
        "colab_type": "text"
      },
      "source": [
        "Rename columns"
      ]
    },
    {
      "cell_type": "code",
      "metadata": {
        "id": "u7fOP2JjEr_q",
        "colab_type": "code",
        "outputId": "6146ee57-32d7-41d9-c24e-964a2ecfef47",
        "colab": {
          "base_uri": "https://localhost:8080/",
          "height": 158
        }
      },
      "source": [
        "fin_data_spark.withColumnRenamed('Ticker','cust') \\\n",
        "  .withColumnRenamed('clust.name','unit') \\\n",
        "  .withColumnRenamed('RiskStage','stage') \\\n",
        "  .withColumnRenamed('TotalDebt','gca') \\\n",
        "  .withColumnRenamed('ECL','ecl').printSchema()"
      ],
      "execution_count": 0,
      "outputs": [
        {
          "output_type": "stream",
          "text": [
            "root\n",
            " |-- cust: string (nullable = true)\n",
            " |-- me.date: timestamp (nullable = true)\n",
            " |-- unit: string (nullable = true)\n",
            " |-- stage: double (nullable = true)\n",
            " |-- gca: double (nullable = true)\n",
            " |-- ecl: double (nullable = true)\n",
            "\n"
          ],
          "name": "stdout"
        }
      ]
    },
    {
      "cell_type": "code",
      "metadata": {
        "id": "ehOsnA01v8bW",
        "colab_type": "code",
        "outputId": "8726e415-004f-45bf-b658-28710b58818f",
        "colab": {
          "base_uri": "https://localhost:8080/",
          "height": 925
        }
      },
      "source": [
        "from pyspark.sql import functions as F\n",
        "from pyspark.sql import Window as W\n",
        "\n",
        "fin_data_spark.withColumnRenamed('me.date','date') \\\n",
        "  .withColumnRenamed('Ticker','cust') \\\n",
        "  .withColumnRenamed('clust.name','unit') \\\n",
        "  .withColumnRenamed('RiskStage','stage') \\\n",
        "  .withColumnRenamed('TotalDebt','gca') \\\n",
        "  .withColumnRenamed('ECL','ecl') \\\n",
        "  .withColumn('ccy', F.when(F.col('cust').startswith('G'), 'GBP').otherwise('USD')) \\\n",
        "  .withColumn('type', F.when(F.col('cust').startswith('R'), 'rvlv').otherwise('term')) \\\n",
        "  .withColumn('poci', F.when(F.col('cust').startswith('P'), 'Y').otherwise('N')) \\\n",
        "  .withColumn('bal', F.col('gca')) \\\n",
        "  .withColumn('ecl', F.col('ecl') * -1) \\\n",
        "  .withColumn('wof', F.lit(0)) \\\n",
        "  .withColumn('pryr', F.lit(0)) \\\n",
        "  .withColumn('prlt', F.lit(0)) \\\n",
        "  .withColumn('ctgy', \n",
        "              F.when((F.col('wof') != F.lit(0)) & (F.col('poci') == 'N'), F.lit(3)) \\\n",
        "              .when((F.col('wof') != F.lit(0)) & (F.col('poci') == 'Y'), F.lit(5)) \\\n",
        "              .when((F.col('wof') != F.lit(0)) & (F.isnull(F.col('poci'))), F.lit(3)) \\\n",
        "              .when((F.col('stage') == F.lit(0)) & (F.col('poci') == 'N'), F.lit(1)) \\\n",
        "              .when((F.col('stage') == F.lit(1)) & (F.col('poci') == 'N'), F.lit(2)) \\\n",
        "              .when((F.col('stage') == F.lit(2)) & (F.col('poci') == 'N'), F.lit(3)) \\\n",
        "              .when((F.isnull(F.col('stage'))) & (F.col('poci') == 'N'), F.lit(1)) \\\n",
        "              .when((F.col('stage') == F.lit(0)) & (F.col('poci') == 'Y'), F.lit(4)) \\\n",
        "              .when((F.col('stage') == F.lit(1)) & (F.col('poci') == 'Y'), F.lit(4)) \\\n",
        "              .when((F.col('stage') == F.lit(2)) & (F.col('poci') == 'Y'), F.lit(5)) \\\n",
        "              .when((F.isnull(F.col('stage'))) & (F.col('poci') == 'Y'), F.lit(4)) \\\n",
        "              .when((F.col('stage') == F.lit(1)) & (F.isnull(F.col('poci'))), F.lit(1)) \\\n",
        "              .when((F.col('stage') == F.lit(2)) & (F.isnull(F.col('poci'))), F.lit(2)) \\\n",
        "              .when((F.col('stage') == F.lit(3)) & (F.isnull(F.col('poci'))), F.lit(3)) \\\n",
        "              .otherwise(F.lit(1))) \\\n",
        "              .withColumn('gca_op', F.lag('gca', 1).over(W.partitionBy('cust').orderBy('date'))) \\\n",
        "              .withColumn('bal_op', F.lag('bal', 1).over(W.partitionBy('cust').orderBy('date'))) \\\n",
        "              .withColumn('ecl_op', F.lag('ecl', 1).over(W.partitionBy('cust').orderBy('date'))) \\\n",
        "  .filter(F.col('CTGY') == F.lit(4)).head(10)\n",
        "  #https://stackoverflow.com/questions/50113504/how-to-use-spark-lag-and-lead-over-group-by-and-order-by"
      ],
      "execution_count": 0,
      "outputs": [
        {
          "output_type": "execute_result",
          "data": {
            "text/plain": [
              "[Row(cust='PKI', date=datetime.datetime(2016, 12, 31, 0, 0), unit='oa.ta_nca.ta_rev.ta_da.ta', stage=1.0, gca=1012.885, ecl=-5.559857880434761, ccy='USD', type='term', poci='Y', bal=1012.885, wof=0, pryr=0, prlt=0, ctgy=4, gca_op=None, bal_op=None, ecl_op=None),\n",
              " Row(cust='PKI', date=datetime.datetime(2017, 1, 31, 0, 0), unit='oa.ta_nca.ta_td.ta_da.ta', stage=1.0, gca=1012.885, ecl=-6.155803211252653, ccy='USD', type='term', poci='Y', bal=1012.885, wof=0, pryr=0, prlt=0, ctgy=4, gca_op=1012.885, bal_op=1012.885, ecl_op=-5.559857880434761),\n",
              " Row(cust='PKI', date=datetime.datetime(2017, 2, 28, 0, 0), unit='oa.ta_nca.ta_td.ta_da.ta', stage=1.0, gca=1012.885, ecl=-13.972673625792892, ccy='USD', type='term', poci='Y', bal=1012.885, wof=0, pryr=0, prlt=0, ctgy=4, gca_op=1012.885, bal_op=1012.885, ecl_op=-6.155803211252653),\n",
              " Row(cust='PKI', date=datetime.datetime(2017, 3, 31, 0, 0), unit='oa.ta_nca.ta_td.ta_da.ta', stage=1.0, gca=1012.885, ecl=-16.038242826780035, ccy='USD', type='term', poci='Y', bal=1012.885, wof=0, pryr=0, prlt=0, ctgy=4, gca_op=1012.885, bal_op=1012.885, ecl_op=-13.972673625792892),\n",
              " Row(cust='PKI', date=datetime.datetime(2017, 4, 30, 0, 0), unit='oa.ta_nca.ta_td.ta_da.ta', stage=1.0, gca=1012.885, ecl=-16.07497956475584, ccy='USD', type='term', poci='Y', bal=1012.885, wof=0, pryr=0, prlt=0, ctgy=4, gca_op=1012.885, bal_op=1012.885, ecl_op=-16.038242826780035),\n",
              " Row(cust='PKI', date=datetime.datetime(2017, 5, 31, 0, 0), unit='oa.ta_nca.ta_td.ta_da.ta', stage=1.0, gca=1012.885, ecl=-14.026208773784436, ccy='USD', type='term', poci='Y', bal=1012.885, wof=0, pryr=0, prlt=0, ctgy=4, gca_op=1012.885, bal_op=1012.885, ecl_op=-16.07497956475584),\n",
              " Row(cust='PKI', date=datetime.datetime(2017, 6, 30, 0, 0), unit='oa.ta_nca.ta_td.ta_da.ta', stage=1.0, gca=1012.885, ecl=-17.293158536585416, ccy='USD', type='term', poci='Y', bal=1012.885, wof=0, pryr=0, prlt=0, ctgy=4, gca_op=1012.885, bal_op=1012.885, ecl_op=-14.026208773784436),\n",
              " Row(cust='PKI', date=datetime.datetime(2017, 7, 31, 0, 0), unit='oa.ta_rev.vol_da.ta_rev.ta', stage=1.0, gca=1012.885, ecl=-15.356304257528564, ccy='USD', type='term', poci='Y', bal=1012.885, wof=0, pryr=0, prlt=0, ctgy=4, gca_op=1012.885, bal_op=1012.885, ecl_op=-17.293158536585416),\n",
              " Row(cust='PKI', date=datetime.datetime(2017, 8, 31, 0, 0), unit='oa.ta_rev.vol_da.ta_rev.ta', stage=1.0, gca=1046.426, ecl=-14.948942857142864, ccy='USD', type='term', poci='Y', bal=1046.426, wof=0, pryr=0, prlt=0, ctgy=4, gca_op=1012.885, bal_op=1012.885, ecl_op=-15.356304257528564),\n",
              " Row(cust='PKI', date=datetime.datetime(2017, 9, 30, 0, 0), unit='oa.ta_rev.vol_da.ta_rev.ta', stage=1.0, gca=1046.426, ecl=-5.324493665628233, ccy='USD', type='term', poci='Y', bal=1046.426, wof=0, pryr=0, prlt=0, ctgy=4, gca_op=1046.426, bal_op=1046.426, ecl_op=-14.948942857142864),\n",
              " Row(cust='PKI', date=datetime.datetime(2017, 10, 31, 0, 0), unit='oa.ta_rev.vol_da.ta_rev.ta', stage=1.0, gca=1046.426, ecl=-4.369154201244806, ccy='USD', type='term', poci='Y', bal=1046.426, wof=0, pryr=0, prlt=0, ctgy=4, gca_op=1046.426, bal_op=1046.426, ecl_op=-5.324493665628233),\n",
              " Row(cust='PKI', date=datetime.datetime(2017, 11, 30, 0, 0), unit='oa.ta_rev.vol_da.ta_rev.ta', stage=1.0, gca=1046.426, ecl=-3.7024886880165204, ccy='USD', type='term', poci='Y', bal=1046.426, wof=0, pryr=0, prlt=0, ctgy=4, gca_op=1046.426, bal_op=1046.426, ecl_op=-4.369154201244806),\n",
              " Row(cust='PKI', date=datetime.datetime(2017, 12, 31, 0, 0), unit='oa.ta_rev.vol_da.ta_rev.ta', stage=1.0, gca=1046.426, ecl=-4.6676678423236435, ccy='USD', type='term', poci='Y', bal=1046.426, wof=0, pryr=0, prlt=0, ctgy=4, gca_op=1046.426, bal_op=1046.426, ecl_op=-3.7024886880165204),\n",
              " Row(cust='PKI', date=datetime.datetime(2018, 1, 31, 0, 0), unit='oa.ta_rev.vol_np.ta_rev.ta', stage=1.0, gca=1046.426, ecl=-6.218515163934392, ccy='USD', type='term', poci='Y', bal=1046.426, wof=0, pryr=0, prlt=0, ctgy=4, gca_op=1046.426, bal_op=1046.426, ecl_op=-4.6676678423236435),\n",
              " Row(cust='PKI', date=datetime.datetime(2018, 2, 28, 0, 0), unit='oa.ta_rev.vol_np.ta_rev.ta', stage=1.0, gca=1046.426, ecl=-15.514495910020427, ccy='USD', type='term', poci='Y', bal=1046.426, wof=0, pryr=0, prlt=0, ctgy=4, gca_op=1046.426, bal_op=1046.426, ecl_op=-6.218515163934392),\n",
              " Row(cust='PKI', date=datetime.datetime(2018, 3, 31, 0, 0), unit='oa.ta_rev.vol_np.ta_rev.ta', stage=1.0, gca=1046.426, ecl=-15.73936437371653, ccy='USD', type='term', poci='Y', bal=1046.426, wof=0, pryr=0, prlt=0, ctgy=4, gca_op=1046.426, bal_op=1046.426, ecl_op=-15.514495910020427),\n",
              " Row(cust='PKI', date=datetime.datetime(2018, 4, 30, 0, 0), unit='oa.ta_rev.vol_np.ta_rev.ta', stage=1.0, gca=1046.426, ecl=-15.760719467213008, ccy='USD', type='term', poci='Y', bal=1046.426, wof=0, pryr=0, prlt=0, ctgy=4, gca_op=1046.426, bal_op=1046.426, ecl_op=-15.73936437371653),\n",
              " Row(cust='PKI', date=datetime.datetime(2018, 5, 31, 0, 0), unit='oa.ta_rev.vol_np.ta_rev.ta', stage=1.0, gca=1046.426, ecl=-6.186820387359807, ccy='USD', type='term', poci='Y', bal=1046.426, wof=0, pryr=0, prlt=0, ctgy=4, gca_op=1046.426, bal_op=1046.426, ecl_op=-15.760719467213008),\n",
              " Row(cust='PKI', date=datetime.datetime(2018, 6, 30, 0, 0), unit='oa.ta_rev.vol_np.ta_rev.ta', stage=1.0, gca=1046.426, ecl=-5.515961003070636, ccy='USD', type='term', poci='Y', bal=1046.426, wof=0, pryr=0, prlt=0, ctgy=4, gca_op=1046.426, bal_op=1046.426, ecl_op=-6.186820387359807),\n",
              " Row(cust='PKI', date=datetime.datetime(2018, 7, 31, 0, 0), unit='oa.ta_nca.ta_rev.vol_da.ta', stage=1.0, gca=1046.426, ecl=-6.461680550000005, ccy='USD', type='term', poci='Y', bal=1046.426, wof=0, pryr=0, prlt=0, ctgy=4, gca_op=1046.426, bal_op=1046.426, ecl_op=-5.515961003070636),\n",
              " Row(cust='PKI', date=datetime.datetime(2018, 8, 31, 0, 0), unit='oa.ta_nca.ta_rev.vol_da.ta', stage=1.0, gca=1046.426, ecl=-17.94469312063799, ccy='USD', type='term', poci='Y', bal=1046.426, wof=0, pryr=0, prlt=0, ctgy=4, gca_op=1046.426, bal_op=1046.426, ecl_op=-6.461680550000005),\n",
              " Row(cust='PKI', date=datetime.datetime(2018, 9, 30, 0, 0), unit='oa.ta_nca.ta_rev.vol_da.ta', stage=1.0, gca=1046.426, ecl=-16.60245455455452, ccy='USD', type='term', poci='Y', bal=1046.426, wof=0, pryr=0, prlt=0, ctgy=4, gca_op=1046.426, bal_op=1046.426, ecl_op=-17.94469312063799),\n",
              " Row(cust='PKI', date=datetime.datetime(2018, 10, 31, 0, 0), unit='oa.ta_nca.ta_rev.vol_da.ta', stage=1.0, gca=1046.426, ecl=-22.782548048047875, ccy='USD', type='term', poci='Y', bal=1046.426, wof=0, pryr=0, prlt=0, ctgy=4, gca_op=1046.426, bal_op=1046.426, ecl_op=-16.60245455455452),\n",
              " Row(cust='PKI', date=datetime.datetime(2018, 11, 30, 0, 0), unit='oa.ta_nca.ta_rev.vol_da.ta', stage=1.0, gca=1046.426, ecl=-22.782548048047875, ccy='USD', type='term', poci='Y', bal=1046.426, wof=0, pryr=0, prlt=0, ctgy=4, gca_op=1046.426, bal_op=1046.426, ecl_op=-22.782548048047875),\n",
              " Row(cust='PKI', date=datetime.datetime(2018, 12, 31, 0, 0), unit='oa.ta_nca.ta_rev.vol_da.ta', stage=1.0, gca=1046.426, ecl=-22.782548048047875, ccy='USD', type='term', poci='Y', bal=1046.426, wof=0, pryr=0, prlt=0, ctgy=4, gca_op=1046.426, bal_op=1046.426, ecl_op=-22.782548048047875),\n",
              " Row(cust='PPG', date=datetime.datetime(2016, 12, 31, 0, 0), unit='np.ta_oa.ta_da.ta_rev.vol', stage=1.0, gca=4404.0, ecl=-59.83695652173888, ccy='USD', type='term', poci='Y', bal=4404.0, wof=0, pryr=0, prlt=0, ctgy=4, gca_op=None, bal_op=None, ecl_op=None),\n",
              " Row(cust='PPG', date=datetime.datetime(2017, 1, 31, 0, 0), unit='np.ta_td.ta_nca.ta_rev.vol', stage=1.0, gca=4404.0, ecl=-19.28503184713376, ccy='USD', type='term', poci='Y', bal=4404.0, wof=0, pryr=0, prlt=0, ctgy=4, gca_op=4404.0, bal_op=4404.0, ecl_op=-59.83695652173888),\n",
              " Row(cust='PPG', date=datetime.datetime(2017, 2, 28, 0, 0), unit='np.ta_td.ta_nca.ta_rev.vol', stage=1.0, gca=4416.0, ecl=-19.139112050740007, ccy='USD', type='term', poci='Y', bal=4416.0, wof=0, pryr=0, prlt=0, ctgy=4, gca_op=4404.0, bal_op=4404.0, ecl_op=-19.28503184713376),\n",
              " Row(cust='PPG', date=datetime.datetime(2017, 3, 31, 0, 0), unit='np.ta_td.ta_nca.ta_rev.vol', stage=1.0, gca=4416.0, ecl=-57.48777895855479, ccy='USD', type='term', poci='Y', bal=4416.0, wof=0, pryr=0, prlt=0, ctgy=4, gca_op=4416.0, bal_op=4416.0, ecl_op=-19.139112050740007),\n",
              " Row(cust='PPG', date=datetime.datetime(2017, 4, 30, 0, 0), unit='np.ta_td.ta_nca.ta_rev.vol', stage=1.0, gca=4421.0, ecl=-58.89973460721868, ccy='USD', type='term', poci='Y', bal=4421.0, wof=0, pryr=0, prlt=0, ctgy=4, gca_op=4416.0, bal_op=4416.0, ecl_op=-57.48777895855479),\n",
              " Row(cust='PPG', date=datetime.datetime(2017, 5, 31, 0, 0), unit='np.ta_td.ta_nca.ta_rev.vol', stage=1.0, gca=4421.0, ecl=-67.99741014799197, ccy='USD', type='term', poci='Y', bal=4421.0, wof=0, pryr=0, prlt=0, ctgy=4, gca_op=4421.0, bal_op=4421.0, ecl_op=-58.89973460721868),\n",
              " Row(cust='PPG', date=datetime.datetime(2017, 6, 30, 0, 0), unit='np.ta_td.ta_nca.ta_rev.vol', stage=1.0, gca=4421.0, ecl=-23.44114528101809, ccy='USD', type='term', poci='Y', bal=4421.0, wof=0, pryr=0, prlt=0, ctgy=4, gca_op=4421.0, bal_op=4421.0, ecl_op=-67.99741014799197),\n",
              " Row(cust='PPG', date=datetime.datetime(2017, 7, 31, 0, 0), unit='rev.vol_np.ta_da.ta_nca.ta', stage=1.0, gca=4617.0, ecl=-24.45140186915883, ccy='USD', type='term', poci='Y', bal=4617.0, wof=0, pryr=0, prlt=0, ctgy=4, gca_op=4421.0, bal_op=4421.0, ecl_op=-23.44114528101809),\n",
              " Row(cust='PPG', date=datetime.datetime(2017, 8, 31, 0, 0), unit='rev.vol_np.ta_da.ta_nca.ta', stage=1.0, gca=4617.0, ecl=-24.972903726708044, ccy='USD', type='term', poci='Y', bal=4617.0, wof=0, pryr=0, prlt=0, ctgy=4, gca_op=4617.0, bal_op=4617.0, ecl_op=-24.45140186915883),\n",
              " Row(cust='PPG', date=datetime.datetime(2017, 9, 30, 0, 0), unit='rev.vol_np.ta_da.ta_nca.ta', stage=1.0, gca=4617.0, ecl=-27.208177570093373, ccy='USD', type='term', poci='Y', bal=4617.0, wof=0, pryr=0, prlt=0, ctgy=4, gca_op=4617.0, bal_op=4617.0, ecl_op=-24.972903726708044),\n",
              " Row(cust='PPG', date=datetime.datetime(2017, 10, 31, 0, 0), unit='rev.vol_np.ta_da.ta_nca.ta', stage=1.0, gca=4705.0, ecl=-28.796161825726074, ccy='USD', type='term', poci='Y', bal=4705.0, wof=0, pryr=0, prlt=0, ctgy=4, gca_op=4617.0, bal_op=4617.0, ecl_op=-27.208177570093373),\n",
              " Row(cust='PPG', date=datetime.datetime(2017, 11, 30, 0, 0), unit='rev.vol_np.ta_da.ta_nca.ta', stage=1.0, gca=4705.0, ecl=-26.24690082644621, ccy='USD', type='term', poci='Y', bal=4705.0, wof=0, pryr=0, prlt=0, ctgy=4, gca_op=4705.0, bal_op=4705.0, ecl_op=-28.796161825726074),\n",
              " Row(cust='PPG', date=datetime.datetime(2017, 12, 31, 0, 0), unit='rev.vol_np.ta_da.ta_nca.ta', stage=1.0, gca=4705.0, ecl=-24.647562240663852, ccy='USD', type='term', poci='Y', bal=4705.0, wof=0, pryr=0, prlt=0, ctgy=4, gca_op=4705.0, bal_op=4705.0, ecl_op=-26.24690082644621),\n",
              " Row(cust='PPG', date=datetime.datetime(2018, 1, 31, 0, 0), unit='td.ta_ncl.ta_nca.ta_rev.vol', stage=1.0, gca=4705.0, ecl=-73.51562499999947, ccy='USD', type='term', poci='Y', bal=4705.0, wof=0, pryr=0, prlt=0, ctgy=4, gca_op=4705.0, bal_op=4705.0, ecl_op=-24.647562240663852),\n",
              " Row(cust='PPG', date=datetime.datetime(2018, 2, 28, 0, 0), unit='td.ta_ncl.ta_nca.ta_rev.vol', stage=1.0, gca=4146.0, ecl=-72.70337423312847, ccy='USD', type='term', poci='Y', bal=4146.0, wof=0, pryr=0, prlt=0, ctgy=4, gca_op=4705.0, bal_op=4705.0, ecl_op=-73.51562499999947),\n",
              " Row(cust='PPG', date=datetime.datetime(2018, 3, 31, 0, 0), unit='td.ta_ncl.ta_nca.ta_rev.vol', stage=1.0, gca=4146.0, ecl=-77.04579055441421, ccy='USD', type='term', poci='Y', bal=4146.0, wof=0, pryr=0, prlt=0, ctgy=4, gca_op=4146.0, bal_op=4146.0, ecl_op=-72.70337423312847),\n",
              " Row(cust='PPG', date=datetime.datetime(2018, 4, 30, 0, 0), unit='td.ta_ncl.ta_nca.ta_rev.vol', stage=1.0, gca=4146.0, ecl=-91.33094262295005, ccy='USD', type='term', poci='Y', bal=4146.0, wof=0, pryr=0, prlt=0, ctgy=4, gca_op=4146.0, bal_op=4146.0, ecl_op=-77.04579055441421),\n",
              " Row(cust='PPG', date=datetime.datetime(2018, 5, 31, 0, 0), unit='td.ta_ncl.ta_nca.ta_rev.vol', stage=1.0, gca=4146.0, ecl=-84.31467889908193, ccy='USD', type='term', poci='Y', bal=4146.0, wof=0, pryr=0, prlt=0, ctgy=4, gca_op=4146.0, bal_op=4146.0, ecl_op=-91.33094262295005),\n",
              " Row(cust='PPG', date=datetime.datetime(2018, 8, 31, 0, 0), unit='ncl.ta_td.ta_nca.ta_rev.vol', stage=1.0, gca=5218.0, ecl=-111.33120638085677, ccy='USD', type='term', poci='Y', bal=5218.0, wof=0, pryr=0, prlt=0, ctgy=4, gca_op=5218.0, bal_op=5218.0, ecl_op=-280.7284000000002),\n",
              " Row(cust='PPG', date=datetime.datetime(2018, 9, 30, 0, 0), unit='ncl.ta_td.ta_nca.ta_rev.vol', stage=1.0, gca=5218.0, ecl=-116.7390390390381, ccy='USD', type='term', poci='Y', bal=5218.0, wof=0, pryr=0, prlt=0, ctgy=4, gca_op=5218.0, bal_op=5218.0, ecl_op=-111.33120638085677),\n",
              " Row(cust='PM', date=datetime.datetime(2017, 2, 28, 0, 0), unit='td.ta_ncl.ta_oa.ta_da.ta', stage=1.0, gca=29067.0, ecl=-537.7087737843591, ccy='USD', type='term', poci='Y', bal=29067.0, wof=0, pryr=0, prlt=0, ctgy=4, gca_op=29067.0, bal_op=29067.0, ecl_op=-1484.2066878980893),\n",
              " Row(cust='PM', date=datetime.datetime(2017, 3, 31, 0, 0), unit='td.ta_ncl.ta_oa.ta_da.ta', stage=1.0, gca=29067.0, ecl=-534.3879914984064, ccy='USD', type='term', poci='Y', bal=29067.0, wof=0, pryr=0, prlt=0, ctgy=4, gca_op=29067.0, bal_op=29067.0, ecl_op=-537.7087737843591),\n",
              " Row(cust='PM', date=datetime.datetime(2017, 4, 30, 0, 0), unit='td.ta_ncl.ta_oa.ta_da.ta', stage=1.0, gca=31346.0, ecl=-1520.7135881104032, ccy='USD', type='term', poci='Y', bal=31346.0, wof=0, pryr=0, prlt=0, ctgy=4, gca_op=29067.0, bal_op=29067.0, ecl_op=-534.3879914984064),\n",
              " Row(cust='PM', date=datetime.datetime(2017, 5, 31, 0, 0), unit='td.ta_ncl.ta_oa.ta_da.ta', stage=1.0, gca=31346.0, ecl=-541.7622621564519, ccy='USD', type='term', poci='Y', bal=31346.0, wof=0, pryr=0, prlt=0, ctgy=4, gca_op=31346.0, bal_op=31346.0, ecl_op=-1520.7135881104032),\n",
              " Row(cust='PM', date=datetime.datetime(2017, 6, 30, 0, 0), unit='td.ta_ncl.ta_oa.ta_da.ta', stage=1.0, gca=31346.0, ecl=-566.7542948038192, ccy='USD', type='term', poci='Y', bal=31346.0, wof=0, pryr=0, prlt=0, ctgy=4, gca_op=31346.0, bal_op=31346.0, ecl_op=-541.7622621564519)]"
            ]
          },
          "metadata": {
            "tags": []
          },
          "execution_count": 86
        }
      ]
    },
    {
      "cell_type": "markdown",
      "metadata": {
        "id": "_2Fnr6g05lKS",
        "colab_type": "text"
      },
      "source": [
        "**References**\n",
        "\n",
        "Setup\n",
        "\n",
        "https://colab.research.google.com/github/asifahmed90/pyspark-ML-in-Colab/blob/master/PySpark_Regression_Analysis.ipynb\n",
        "\n",
        "https://support.treasuredata.com/hc/en-us/articles/360034951753-TD-Python-Spark-Driver-with-Google-Colab\n",
        "\n",
        "https://medium.com/@sushantgautam_930/apache-spark-in-google-collaboratory-in-3-steps-e0acbba654e6\n",
        "\n",
        "https://mikestaszel.com/2018/03/07/apache-spark-on-google-colaboratory/\n",
        "\n",
        "https://mc.ai/practical-data-science-with-apache-spark%E2%80%8A-%E2%80%8Apart-1/\n",
        "\n",
        "https://github.com/verakai/DS/blob/master/flight_delays.ipynb\n",
        "\n",
        "https://gist.github.com/ryansmccoy/09b285525789bb355a15249aaeab7498\n",
        "\n",
        "https://sparkbyexamples.com/"
      ]
    }
  ]
}